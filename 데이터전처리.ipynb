{
 "cells": [
  {
   "cell_type": "code",
   "execution_count": 159,
   "id": "fbf47fcd",
   "metadata": {},
   "outputs": [],
   "source": [
    "import pandas as pd\n",
    "import numpy as np\n",
    "import seaborn as sns\n",
    "import matplotlib.pyplot as plt\n",
    "import warnings\n",
    "import koreanize_matplotlib\n",
    "\n",
    "warnings.filterwarnings('ignore')"
   ]
  },
  {
   "cell_type": "code",
   "execution_count": 160,
   "id": "d6ad1000",
   "metadata": {},
   "outputs": [],
   "source": [
    "train = pd.read_csv(\"train.csv\")\n",
    "test = pd.read_csv(\"test.csv\")\n",
    "submit = pd.read_csv(\"sample_submission.csv\")"
   ]
  },
  {
   "cell_type": "code",
   "execution_count": 161,
   "id": "70ba3eb3",
   "metadata": {},
   "outputs": [
    {
     "name": "stdout",
     "output_type": "stream",
     "text": [
      "<class 'pandas.core.frame.DataFrame'>\n",
      "RangeIndex: 252289 entries, 0 to 252288\n",
      "Data columns (total 19 columns):\n",
      " #   Column               Non-Null Count   Dtype  \n",
      "---  ------               --------------   -----  \n",
      " 0   sessionID            252289 non-null  object \n",
      " 1   userID               252289 non-null  object \n",
      " 2   TARGET               252289 non-null  float64\n",
      " 3   browser              252289 non-null  object \n",
      " 4   OS                   252289 non-null  object \n",
      " 5   device               252289 non-null  object \n",
      " 6   new                  252289 non-null  int64  \n",
      " 7   quality              252289 non-null  float64\n",
      " 8   duration             252289 non-null  float64\n",
      " 9   bounced              252289 non-null  int64  \n",
      " 10  transaction          252289 non-null  float64\n",
      " 11  transaction_revenue  252289 non-null  float64\n",
      " 12  continent            252289 non-null  object \n",
      " 13  subcontinent         252289 non-null  object \n",
      " 14  country              252289 non-null  object \n",
      " 15  traffic_source       252289 non-null  object \n",
      " 16  traffic_medium       252289 non-null  object \n",
      " 17  keyword              114614 non-null  object \n",
      " 18  referral_path        91182 non-null   object \n",
      "dtypes: float64(5), int64(2), object(12)\n",
      "memory usage: 36.6+ MB\n"
     ]
    }
   ],
   "source": [
    "train.info()"
   ]
  },
  {
   "cell_type": "code",
   "execution_count": 162,
   "id": "35965f85",
   "metadata": {},
   "outputs": [
    {
     "name": "stdout",
     "output_type": "stream",
     "text": [
      "<class 'pandas.core.frame.DataFrame'>\n",
      "RangeIndex: 79786 entries, 0 to 79785\n",
      "Data columns (total 18 columns):\n",
      " #   Column               Non-Null Count  Dtype  \n",
      "---  ------               --------------  -----  \n",
      " 0   sessionID            79786 non-null  object \n",
      " 1   userID               79786 non-null  object \n",
      " 2   browser              79786 non-null  object \n",
      " 3   OS                   79786 non-null  object \n",
      " 4   device               79786 non-null  object \n",
      " 5   new                  79786 non-null  int64  \n",
      " 6   quality              79786 non-null  float64\n",
      " 7   duration             79786 non-null  float64\n",
      " 8   bounced              79786 non-null  int64  \n",
      " 9   transaction          79786 non-null  float64\n",
      " 10  transaction_revenue  79786 non-null  float64\n",
      " 11  continent            79786 non-null  object \n",
      " 12  subcontinent         79786 non-null  object \n",
      " 13  country              79786 non-null  object \n",
      " 14  traffic_source       79786 non-null  object \n",
      " 15  traffic_medium       79786 non-null  object \n",
      " 16  keyword              36716 non-null  object \n",
      " 17  referral_path        25895 non-null  object \n",
      "dtypes: float64(4), int64(2), object(12)\n",
      "memory usage: 11.0+ MB\n"
     ]
    }
   ],
   "source": [
    "test.info()"
   ]
  },
  {
   "cell_type": "code",
   "execution_count": 163,
   "id": "458476d6",
   "metadata": {},
   "outputs": [
    {
     "name": "stdout",
     "output_type": "stream",
     "text": [
      "continent :  ['Americas' 'Europe' 'Asia' 'Africa' 'Oceania' '(not set)']\n",
      "subcontinent :  ['Northern America' 'Western Europe' 'Southeast Asia' 'Southern Europe'\n",
      " 'South America' 'Central America' 'Northern Europe' 'Eastern Europe'\n",
      " 'Eastern Asia' 'Southern Asia' 'Western Asia' 'Northern Africa'\n",
      " 'Australasia' 'Southern Africa' 'Eastern Africa' 'Western Africa'\n",
      " 'Caribbean' '(not set)' 'Polynesia' 'Middle Africa' 'Micronesian Region'\n",
      " 'Central Asia' 'Melanesia']\n",
      "country :  ['United States' 'Germany' 'Malaysia' 'Greece' 'Brazil' 'Italy' 'Mexico'\n",
      " 'Laos' 'United Kingdom' 'Philippines' 'Bulgaria' 'Russia' 'Poland'\n",
      " 'China' 'Romania' 'Belgium' 'India' 'United Arab Emirates' 'Portugal'\n",
      " 'Canada' 'Algeria' 'Egypt' 'Pakistan' 'Japan' 'Australia' 'South Africa'\n",
      " 'Turkey' 'Austria' 'New Zealand' 'Singapore' 'Taiwan' 'France'\n",
      " 'Saudi Arabia' 'Colombia' 'Ecuador' 'Thailand' 'Vietnam' 'Sweden'\n",
      " 'Sri Lanka' 'South Korea' 'Kuwait' 'Kenya' 'Bolivia' 'Spain' 'Hong Kong'\n",
      " 'Bangladesh' 'Serbia' 'Netherlands' 'El Salvador' 'Czechia' 'Peru'\n",
      " 'Ukraine' 'Réunion' 'Israel' 'Nepal' 'Ireland' 'Indonesia' 'Argentina'\n",
      " 'Finland' 'Hungary' 'Switzerland' 'Qatar' 'Georgia' 'Nigeria' 'Oman'\n",
      " 'Benin' 'Belarus' 'Côte d’Ivoire' 'Dominican Republic' 'Denmark'\n",
      " 'Morocco' 'Macau' 'Slovakia' 'Guatemala' 'Norway' 'Armenia' 'Sudan'\n",
      " 'Iraq' 'Albania' 'Cyprus' 'Uruguay' 'Estonia' 'Suriname' 'Costa Rica'\n",
      " 'Cambodia' '(not set)' 'Puerto Rico' 'Lithuania' 'Croatia'\n",
      " 'Bosnia & Herzegovina' 'Burundi' 'Yemen' 'Mali' 'Tunisia' 'Martinique'\n",
      " 'Jordan' 'Chile' 'Ethiopia' 'Luxembourg' 'French Polynesia'\n",
      " 'Trinidad & Tobago' 'Cameroon' 'Iceland' 'Northern Mariana Islands'\n",
      " 'Azerbaijan' 'Jamaica' 'Kazakhstan' 'Myanmar (Burma)' 'Venezuela'\n",
      " 'Mozambique' 'Tanzania' 'Libya' 'Palestine' 'Guinea' 'Macedonia (FYROM)'\n",
      " 'Kyrgyzstan' 'Congo - Kinshasa' 'Lebanon' 'Malta' 'Uganda' 'Bahrain'\n",
      " 'Panama' 'Slovenia' 'Latvia' 'Nicaragua' 'Montenegro' 'Gabon' 'Honduras'\n",
      " 'Afghanistan' 'Ghana' 'St. Kitts & Nevis' 'Barbados' 'Rwanda' 'Somalia'\n",
      " 'Fiji' 'Senegal' 'Niger' 'Andorra' 'Zambia' 'Namibia' 'Kosovo' 'Chad'\n",
      " 'Angola' 'Botswana' 'Haiti' 'Moldova' 'Uzbekistan' 'Bahamas'\n",
      " 'Faroe Islands' 'Curaçao' 'Brunei' 'Mauritius' 'Paraguay' 'Burkina Faso'\n",
      " 'St. Vincent & Grenadines' 'Caribbean Netherlands' 'Turkmenistan'\n",
      " 'Guernsey' 'Belize' 'Maldives' 'San Marino' 'Guadeloupe' 'Madagascar'\n",
      " 'Iran' 'Aruba' 'Cayman Islands' 'South Sudan' 'Bermuda' 'Djibouti'\n",
      " 'Congo - Brazzaville' 'Mongolia' 'Sierra Leone' 'Zimbabwe' 'Jersey'\n",
      " 'Guam' 'Monaco' 'Grenada' 'Liberia' 'British Virgin Islands'\n",
      " 'New Caledonia' 'Liechtenstein' 'Guyana' 'Antigua & Barbuda'\n",
      " 'French Guiana' 'Togo' 'Bhutan' 'Syria' 'Swaziland' 'Lesotho' 'Greenland'\n",
      " 'Mauritania' 'Tajikistan' 'Isle of Man' 'St. Lucia' 'St. Martin'\n",
      " 'Cape Verde' 'Guinea-Bissau' 'Malawi' 'Central African Republic'\n",
      " 'Micronesia' 'U.S. Virgin Islands' 'Mayotte' 'Papua New Guinea'\n",
      " 'Gibraltar' 'Vanuatu']\n"
     ]
    }
   ],
   "source": [
    "print('continent : ',train['continent'].unique())\n",
    "print('subcontinent : ',train['subcontinent'].unique())\n",
    "print('country : ',train['country'].unique())"
   ]
  },
  {
   "cell_type": "code",
   "execution_count": 164,
   "id": "b884c30d",
   "metadata": {},
   "outputs": [
    {
     "name": "stdout",
     "output_type": "stream",
     "text": [
      "continent :  6\n",
      "subcontinent :  23\n",
      "country :  205\n"
     ]
    }
   ],
   "source": [
    "print('continent : ',train['continent'].nunique())\n",
    "print('subcontinent : ',train['subcontinent'].nunique())\n",
    "print('country : ',train['country'].nunique())"
   ]
  },
  {
   "cell_type": "code",
   "execution_count": 165,
   "id": "ab3b8a2d",
   "metadata": {},
   "outputs": [
    {
     "data": {
      "text/plain": [
       "subcontinent\n",
       "Northern America      111945\n",
       "Southern Asia          21744\n",
       "Western Europe         18325\n",
       "Northern Europe        15432\n",
       "Southeast Asia         13977\n",
       "Eastern Asia           13598\n",
       "Southern Europe        10752\n",
       "South America           9791\n",
       "Eastern Europe          9239\n",
       "Western Asia            7677\n",
       "Northern Africa         5534\n",
       "Central America         4201\n",
       "Australasia             3895\n",
       "Southern Africa         2164\n",
       "Western Africa          1971\n",
       "Eastern Africa           655\n",
       "Caribbean                569\n",
       "(not set)                336\n",
       "Central Asia             258\n",
       "Middle Africa            190\n",
       "Micronesian Region        18\n",
       "Melanesia                 10\n",
       "Polynesia                  8\n",
       "Name: count, dtype: int64"
      ]
     },
     "execution_count": 165,
     "metadata": {},
     "output_type": "execute_result"
    }
   ],
   "source": [
    "train['subcontinent'].value_counts()"
   ]
  },
  {
   "cell_type": "code",
   "execution_count": 166,
   "id": "8353145a",
   "metadata": {},
   "outputs": [
    {
     "name": "stdout",
     "output_type": "stream",
     "text": [
      "subcontinent\n",
      "Northern America    111945\n",
      "etc                  70866\n",
      "Southern Asia        21744\n",
      "Western Europe       18325\n",
      "Northern Europe      15432\n",
      "Southeast Asia       13977\n",
      "Name: count, dtype: int64\n",
      "subcontinent\n",
      "Northern America    35465\n",
      "etc                 23353\n",
      "Southern Asia        6647\n",
      "Western Europe       5413\n",
      "Northern Europe      4927\n",
      "Southeast Asia       3981\n",
      "Name: count, dtype: int64\n"
     ]
    }
   ],
   "source": [
    "#subcontinent변수처리\n",
    "# 5개 범주만 남기고 나머지는 'etc'로 변경\n",
    "def categorize_subcontinent(subcontinent):\n",
    "    return subcontinent if subcontinent in [\"Northern America\", \"Southern Asia\", \"Western Europe\", \"Northern Europe\", \"Southeast Asia\"] else \"etc\"\n",
    "\n",
    "# apply 함수로 적용\n",
    "train['subcontinent'] = train['subcontinent'].apply(categorize_subcontinent)\n",
    "test['subcontinent'] = test['subcontinent'].apply(categorize_subcontinent)\n",
    "\n",
    "\n",
    "# 결과 출력\n",
    "print(train['subcontinent'].value_counts())\n",
    "print(test['subcontinent'].value_counts())"
   ]
  },
  {
   "cell_type": "code",
   "execution_count": 167,
   "id": "7c57a74d",
   "metadata": {},
   "outputs": [
    {
     "data": {
      "text/plain": [
       "array(['Chrome', 'Samsung Internet', 'Firefox', 'Opera',\n",
       "       'Safari (in-app)', 'Edge', 'Safari', 'Android Webview',\n",
       "       'UC Browser', 'Internet Explorer', 'Opera Mini', 'BlackBerry',\n",
       "       'Android Browser', 'Amazon Silk', 'Coc Coc', 'YaBrowser',\n",
       "       'Nintendo Browser', 'Nokia Browser', 'MRCHROME', 'Puffin',\n",
       "       'Mozilla Compatible Agent', 'Maxthon', '+Simple Browser',\n",
       "       'Apple-iPhone7C2', 'Playstation Vita Browser',\n",
       "       'osee2unifiedRelease', 'SAMSUNG-SM-B355E Opera', 'DESKTOP', 'Iron',\n",
       "       'Browser', 'rpfanjzoxyemsgbtichqkudwlv',\n",
       "       'cajrnbtvqwfkolzyxushpdgime', 'wvsmagudcqeytijorlhxnfzkbp',\n",
       "       'efkaxnbyohqtspzlvcwrjmigdu', 'bsfnwveckhgpdoyjxmizruqtla',\n",
       "       'Mozilla', 'Konqueror', 'Netscape', 'Amazon.com', 'SeaMonkey',\n",
       "       ';__CT_JOB_ID__:76fd1acb-e365-43c0-b967-908bcf5d5b59;',\n",
       "       'eosutpkiahjzvdgcwxlmyfqbrn', 'cnwmpegudakrqzljtvfxohbysi',\n",
       "       'fspmihbxzowgnuctrqykjlvade', 'YE',\n",
       "       ';__CT_JOB_ID__:7e575295-571e-4e82-9254-7f2c8bbb9183;',\n",
       "       'dkagwlhmfqxercuozpnbvtsiyj', 'kqebrzuwmiycxdvtoljnhsfpga',\n",
       "       'ohukwejvqmdtibfrzpycgxanls', 'Seznam',\n",
       "       ';__CT_JOB_ID__:fe02e46f-b6ae-41f1-8563-3b40bbb623a9;',\n",
       "       ';__CT_JOB_ID__:d14534ff-e2fc-4692-92aa-e34508f1c418;',\n",
       "       ';__CT_JOB_ID__:a4f837b8-8d78-4c42-ba9a-d870cf1a4a7e;',\n",
       "       ';__CT_JOB_ID__:dd6177aa-1baa-4007-9b38-b7cab4f7611c;',\n",
       "       ';__CT_JOB_ID__:58e2ecba-7666-4a10-b498-8216457ce472;',\n",
       "       ';__CT_JOB_ID__:4333777f-bb0c-4a18-935e-df5658dbce2d;',\n",
       "       ';__CT_JOB_ID__:2547db0b-ec43-452a-a0d4-ff42b7dc7907;',\n",
       "       ';__CT_JOB_ID__:2e0eca60-83ab-482d-bb81-343d113254fb;',\n",
       "       ';__CT_JOB_ID__:a7ed0808-e70c-4b19-b1a3-1018bbb7dc7f;',\n",
       "       ';__CT_JOB_ID__:85da5736-a78e-45a9-837e-f5a53e5cd725;',\n",
       "       ';__CT_JOB_ID__:a24a8978-e5e8-4dc9-af66-c4ed89ea25d7;',\n",
       "       ';__CT_JOB_ID__:a80e8e16-6e98-455b-885a-a4dd40f3d344;',\n",
       "       ';__CT_JOB_ID__:89e59554-ad41-4e94-957b-f12bd012530c;',\n",
       "       'Lunascape',\n",
       "       ';__CT_JOB_ID__:0b39e7ca-1431-42e3-ba1f-9d8951a65840;',\n",
       "       ';__CT_JOB_ID__:6e9dcf2f-f58f-4938-91e3-77e00868177b;',\n",
       "       'starmaker',\n",
       "       ';__CT_JOB_ID__:97909e28-4228-4b55-8ad5-cc791f2b583c;',\n",
       "       ';__CT_JOB_ID__:0a075729-93a5-43d0-9638-4cbd41d5f5a5;',\n",
       "       'NokiaC7-00'], dtype=object)"
      ]
     },
     "execution_count": 167,
     "metadata": {},
     "output_type": "execute_result"
    }
   ],
   "source": [
    "train['browser'].unique()"
   ]
  },
  {
   "cell_type": "code",
   "execution_count": 168,
   "id": "21787d6e",
   "metadata": {},
   "outputs": [
    {
     "data": {
      "text/plain": [
       "browser\n",
       "Chrome                                                  174395\n",
       "Safari                                                   35689\n",
       "Android Webview                                          13855\n",
       "Firefox                                                   8436\n",
       "Internet Explorer                                         4573\n",
       "                                                         ...  \n",
       "eosutpkiahjzvdgcwxlmyfqbrn                                   1\n",
       ";__CT_JOB_ID__:76fd1acb-e365-43c0-b967-908bcf5d5b59;         1\n",
       "wvsmagudcqeytijorlhxnfzkbp                                   1\n",
       "efkaxnbyohqtspzlvcwrjmigdu                                   1\n",
       "NokiaC7-00                                                   1\n",
       "Name: count, Length: 70, dtype: int64"
      ]
     },
     "execution_count": 168,
     "metadata": {},
     "output_type": "execute_result"
    }
   ],
   "source": [
    "train['browser'].value_counts()"
   ]
  },
  {
   "cell_type": "code",
   "execution_count": 169,
   "id": "06add122",
   "metadata": {},
   "outputs": [
    {
     "name": "stdout",
     "output_type": "stream",
     "text": [
      "0                  Chrome\n",
      "1                  Chrome\n",
      "2                     etc\n",
      "3                  Chrome\n",
      "4                  Chrome\n",
      "               ...       \n",
      "252284             Chrome\n",
      "252285             Chrome\n",
      "252286             Chrome\n",
      "252287    Android Webview\n",
      "252288             Chrome\n",
      "Name: browser, Length: 252289, dtype: object\n"
     ]
    }
   ],
   "source": [
    "#browser 변수 처리\n",
    "def categorize_browser(browser):\n",
    "    if 'chrome' in browser.lower():\n",
    "        return 'Chrome'\n",
    "    elif 'safari' in browser.lower():\n",
    "        return 'Safari'\n",
    "    elif 'android' in browser.lower():\n",
    "        return 'Android Webview'\n",
    "    elif 'firefox' in browser.lower():\n",
    "        return 'Firefox'\n",
    "    elif 'internet explorer' in browser.lower():\n",
    "        return 'Internet Explorer'\n",
    "    else:\n",
    "        return 'etc'\n",
    "    \n",
    "    \n",
    "# apply 함수로 적용\n",
    "train['browser'] = train['browser'].apply(categorize_browser)\n",
    "test['browser'] = test['browser'].apply(categorize_browser)\n",
    "\n",
    "# 결과 출력\n",
    "print(train['browser'])"
   ]
  },
  {
   "cell_type": "code",
   "execution_count": 170,
   "id": "5fda75b1",
   "metadata": {},
   "outputs": [
    {
     "data": {
      "text/plain": [
       "browser\n",
       "Chrome               174410\n",
       "Safari                37684\n",
       "Android Webview       13965\n",
       "etc                   13221\n",
       "Firefox                8436\n",
       "Internet Explorer      4573\n",
       "Name: count, dtype: int64"
      ]
     },
     "metadata": {},
     "output_type": "display_data"
    },
    {
     "data": {
      "text/plain": [
       "browser\n",
       "Chrome               57505\n",
       "Safari               11889\n",
       "etc                   4151\n",
       "Firefox               2634\n",
       "Android Webview       2247\n",
       "Internet Explorer     1360\n",
       "Name: count, dtype: int64"
      ]
     },
     "metadata": {},
     "output_type": "display_data"
    }
   ],
   "source": [
    "display(train['browser'].value_counts())\n",
    "display(test['browser'].value_counts())"
   ]
  },
  {
   "cell_type": "code",
   "execution_count": 171,
   "id": "8f1347cf",
   "metadata": {},
   "outputs": [
    {
     "data": {
      "text/plain": [
       "OS\n",
       "Windows             88119\n",
       "Macintosh           60316\n",
       "Android             51870\n",
       "iOS                 29778\n",
       "Linux                9562\n",
       "Chrome OS            9222\n",
       "(not set)            2592\n",
       "Tizen                 321\n",
       "Samsung               259\n",
       "Windows Phone         128\n",
       "OS/2                   36\n",
       "Xbox                   31\n",
       "BlackBerry             29\n",
       "Playstation Vita        9\n",
       "Nintendo 3DS            6\n",
       "Firefox OS              4\n",
       "FreeBSD                 3\n",
       "SunOS                   1\n",
       "Nintendo WiiU           1\n",
       "SymbianOS               1\n",
       "Nokia                   1\n",
       "Name: count, dtype: int64"
      ]
     },
     "execution_count": 171,
     "metadata": {},
     "output_type": "execute_result"
    }
   ],
   "source": [
    "#0s변수 처리\n",
    "train['OS'].value_counts()"
   ]
  },
  {
   "cell_type": "code",
   "execution_count": 172,
   "id": "ef47d0b7",
   "metadata": {},
   "outputs": [
    {
     "data": {
      "text/plain": [
       "OS\n",
       "Windows      88119\n",
       "Macintosh    60316\n",
       "Android      51870\n",
       "iOS          29778\n",
       "Linux         9562\n",
       "Chrome OS     9222\n",
       "etc           3422\n",
       "Name: count, dtype: int64"
      ]
     },
     "metadata": {},
     "output_type": "display_data"
    },
    {
     "data": {
      "text/plain": [
       "OS\n",
       "Windows      28383\n",
       "Macintosh    20338\n",
       "Android      14338\n",
       "iOS           9501\n",
       "Chrome OS     3100\n",
       "Linux         2947\n",
       "etc           1179\n",
       "Name: count, dtype: int64"
      ]
     },
     "metadata": {},
     "output_type": "display_data"
    }
   ],
   "source": [
    "#OS변수 처리\n",
    "def categorize_os(os):\n",
    "    top_os = [\"Windows\", \"Macintosh\", \"Android\", \"iOS\", \"Linux\", \"Chrome OS\"]\n",
    "    return os if os in top_os else \"etc\"\n",
    "\n",
    "# apply 함수로 적용\n",
    "train['OS'] = train['OS'].apply(lambda x: categorize_os(x))\n",
    "test['OS'] = test['OS'].apply(lambda x: categorize_os(x))\n",
    "\n",
    "display(train['OS'].value_counts())\n",
    "display(test['OS'].value_counts())"
   ]
  },
  {
   "cell_type": "code",
   "execution_count": 173,
   "id": "4b7e0554",
   "metadata": {},
   "outputs": [
    {
     "data": {
      "text/plain": [
       "traffic_source\n",
       "google                  116007\n",
       "(direct)                 59026\n",
       "youtube.com              52871\n",
       "analytics.google.com      7609\n",
       "Partners                  5369\n",
       "                         ...  \n",
       "google.ie                    1\n",
       "qc.search.yahoo.com          1\n",
       "earth.google.com             1\n",
       "br.search.yahoo.com          1\n",
       "calendar.google.com          1\n",
       "Name: count, Length: 168, dtype: int64"
      ]
     },
     "execution_count": 173,
     "metadata": {},
     "output_type": "execute_result"
    }
   ],
   "source": [
    "#traffic_source변수 처리\n",
    "train['traffic_source'].value_counts()"
   ]
  },
  {
   "cell_type": "code",
   "execution_count": 174,
   "id": "3b1c9023",
   "metadata": {},
   "outputs": [
    {
     "data": {
      "text/plain": [
       "array(['google', '(direct)', 'Partners', 'groups.google.com',\n",
       "       'youtube.com', 'google.com', 'bing', 'google.co.jp',\n",
       "       'analytics.google.com', 'baidu', 'quora.com',\n",
       "       'googleads.g.doubleclick.net', 'pinterest.com', 'mail.google.com',\n",
       "       'dealspotr.com', 'qiita.com', 'l.facebook.com', 'reddit.com',\n",
       "       'sites.google.com', 'blog.golang.org', 'support.google.com',\n",
       "       'yahoo', 'dfa', 't.co', 'lunametrics.com', 'docs.google.com',\n",
       "       'adwords.google.com', 's0.2mdn.net', 'm.baidu.com',\n",
       "       'm.facebook.com', 'int.search.tb.ask.com', 'google.com.br',\n",
       "       'google.es', 'arstechnica.com', 'msn.com', 'tw.search.yahoo.com',\n",
       "       'facebook.com', 'google.de', 'hangouts.google.com',\n",
       "       'duckduckgo.com', 'r.search.aol.com', 'my.yahoo.com',\n",
       "       'google.co.za', 'au.search.yahoo.com', 'in.search.yahoo.com',\n",
       "       'outlook.live.com', 'productforums.google.com', 'ask',\n",
       "       'google.co.id', 'google.co.uk', 'myactivity.google.com',\n",
       "       'google.com.ua', 'google.by', 'sashihara.jp', 'm.youtube.com',\n",
       "       'github.com', 'optimize.google.com', 'connect.googleforwork.com',\n",
       "       'ph.search.yahoo.com', 'es.search.yahoo.com', 'google.ru',\n",
       "       'keep.google.com', 'youtube.thinkwithgoogle.com',\n",
       "       'myasucourses.asu.edu', 'google.co.th', 'gophergala.com',\n",
       "       'learn.pct.edu', 'phandroid.com', 'online-metrics.com',\n",
       "       'plus.url.google.com', 'ca.search.yahoo.com', 'evernote.com',\n",
       "       'web.telegram.org', 'search.1and1.com', 'google.nl',\n",
       "       'uk.search.yahoo.com', 'getpocket.com', 'se.search.yahoo.com',\n",
       "       'us.search.yahoo.com', 'lm.facebook.com',\n",
       "       'malaysia.search.yahoo.com', 'bluequill.franklin.edu', 'google.lv',\n",
       "       'feedly.com', 'search.snapdo.com', 'online.fullsail.edu',\n",
       "       'away.vk.com', 'l.messenger.com', 'google.co.nz', 'google.fr',\n",
       "       'so.com', 'google.com.tr', 'kik.com', 'kidrex.org',\n",
       "       'search.tb.ask.com', 'images.google.com', 'mail.yahoo.com',\n",
       "       'google.com.au', 'search.xfinity.com', 'google.com.bd',\n",
       "       'google.be', 'businessinsider.com', 'aulagrado.esic.edu',\n",
       "       'plus.google.com', 'mail1.swic.edu', 'startpage.com',\n",
       "       'learn.colorado.edu', 'web.whatsapp.com',\n",
       "       'lisham-web.blogspot.com', 'google.com.mx', 'nl.search.yahoo.com',\n",
       "       'nl.pinterest.com', 'google.co.in', 'search.mysearch.com',\n",
       "       'de.wow.com', 'google.com.ng', 'google.it', 'google.com.sa',\n",
       "       'google.iq', 'google.com.eg', 'google.co.il', 'google.pl',\n",
       "       'it.search.yahoo.com', 'it.pinterest.com', 'images.google.com.br',\n",
       "       'amp.reddit.com', 'vk.com', 'google.pt', 'cz.pinterest.com',\n",
       "       'google.jo', 'google.ie', 'qc.search.yahoo.com',\n",
       "       'earth.google.com', 'br.search.yahoo.com', 'search.earthlink.net',\n",
       "       'fi.search.yahoo.com', 'google.com.ec', 'web.facebook.com',\n",
       "       'sg.search.yahoo.com', 'linkedin.com', 'ru.pinterest.com',\n",
       "       'ch.search.yahoo.com', 'mail.aol.com', 'google.com.pk',\n",
       "       'cse.google.com', 'wikihow.com', 'go.mail.ru',\n",
       "       'fr-fr.facebook.com', 'ca-mg5.mail.yahoo.com', 'chatwork.com',\n",
       "       'seroundtable.com', 'google.ca', 'results.searchlock.com',\n",
       "       'es.yhs4.search.yahoo.com', 'cl.search.yahoo.com', 'google.com.tw',\n",
       "       'fr.search.yahoo.com', 'google.com.hk', 'business.facebook.com',\n",
       "       'yandex', 'suche.t-online.de', 'goto.google.com',\n",
       "       'mx.search.yahoo.com', 'marketingland.com',\n",
       "       'espanol.search.yahoo.com', 'basecamp.com',\n",
       "       'blackboard.bentley.edu', 'calendar.google.com'], dtype=object)"
      ]
     },
     "execution_count": 174,
     "metadata": {},
     "output_type": "execute_result"
    }
   ],
   "source": [
    "train['traffic_source'].unique()"
   ]
  },
  {
   "cell_type": "code",
   "execution_count": 175,
   "id": "d65c4ab7",
   "metadata": {},
   "outputs": [
    {
     "data": {
      "text/plain": [
       "traffic_source\n",
       "google         129283\n",
       "(direct)        59026\n",
       "youtube.com     52876\n",
       "etc              5735\n",
       "Partners         5369\n",
       "Name: count, dtype: int64"
      ]
     },
     "metadata": {},
     "output_type": "display_data"
    },
    {
     "data": {
      "text/plain": [
       "traffic_source\n",
       "google         41959\n",
       "(direct)       19369\n",
       "youtube.com    13504\n",
       "Partners        2804\n",
       "etc             2150\n",
       "Name: count, dtype: int64"
      ]
     },
     "metadata": {},
     "output_type": "display_data"
    }
   ],
   "source": [
    "def categorize_traffic_source(traffic_source):\n",
    "    lower_case_traffic_source = traffic_source.lower()  # 대소문자 구분 없이 처리하기 위해 소문자로 변환\n",
    "    if 'google' in lower_case_traffic_source:\n",
    "        return 'google'\n",
    "    elif '(direct)' in lower_case_traffic_source:\n",
    "        return '(direct)'\n",
    "    elif 'youtube' in lower_case_traffic_source:\n",
    "        return 'youtube.com'\n",
    "    elif 'partners' in lower_case_traffic_source:\n",
    "        return 'Partners'\n",
    "    else:\n",
    "        return 'etc'\n",
    "\n",
    "# apply 함수로 적용\n",
    "train['traffic_source'] = train['traffic_source'].apply(categorize_traffic_source)\n",
    "test['traffic_source'] = test['traffic_source'].apply(categorize_traffic_source)\n",
    "\n",
    "display(train['traffic_source'].value_counts())\n",
    "display(test['traffic_source'].value_counts())"
   ]
  },
  {
   "cell_type": "code",
   "execution_count": 176,
   "id": "89957a41",
   "metadata": {},
   "outputs": [
    {
     "data": {
      "text/plain": [
       "traffic_medium\n",
       "organic      107370\n",
       "referral      70047\n",
       "(none)        59022\n",
       "cpc            9978\n",
       "affiliate      5365\n",
       "cpm             501\n",
       "(not set)         6\n",
       "Name: count, dtype: int64"
      ]
     },
     "execution_count": 176,
     "metadata": {},
     "output_type": "execute_result"
    }
   ],
   "source": [
    "train['traffic_medium'].value_counts()"
   ]
  },
  {
   "cell_type": "code",
   "execution_count": 177,
   "id": "857d6899",
   "metadata": {},
   "outputs": [
    {
     "data": {
      "text/plain": [
       "traffic_medium\n",
       "organic     107370\n",
       "referral     70047\n",
       "(none)       59022\n",
       "etc          15850\n",
       "Name: count, dtype: int64"
      ]
     },
     "metadata": {},
     "output_type": "display_data"
    },
    {
     "data": {
      "text/plain": [
       "traffic_medium\n",
       "organic     35894\n",
       "referral    19814\n",
       "(none)      19367\n",
       "etc          4711\n",
       "Name: count, dtype: int64"
      ]
     },
     "metadata": {},
     "output_type": "display_data"
    }
   ],
   "source": [
    "#traffic_medium 변수 처리\n",
    "def categorize_traffic_medium(traffic_medium):\n",
    "    top_mediums = [\"organic\", \"referral\", \"(none)\"]\n",
    "    return traffic_medium if traffic_medium in top_mediums else \"etc\"\n",
    "\n",
    "# apply 함수로 적용\n",
    "train['traffic_medium'] = train['traffic_medium'].apply(lambda x: categorize_traffic_medium(x))\n",
    "test['traffic_medium'] = test['traffic_medium'].apply(lambda x: categorize_traffic_medium(x))\n",
    "\n",
    "display(train['traffic_medium'].value_counts())\n",
    "display(test['traffic_medium'].value_counts())\n"
   ]
  },
  {
   "cell_type": "code",
   "execution_count": 178,
   "id": "52116a4f",
   "metadata": {},
   "outputs": [],
   "source": [
    "#범주형 변수 원핫인코딩\n",
    "import pandas as pd\n",
    "from sklearn.preprocessing import OneHotEncoder\n",
    "\n",
    "# OneHotEncoder 객체 생성\n",
    "encoder = OneHotEncoder()\n",
    "# 각 변수에 대해 원핫인코딩 수행\n",
    "encoded_data = encoder.fit_transform(train[['browser', 'OS', 'device', 'continent', 'subcontinent', 'traffic_source', 'traffic_medium']])\n",
    "# 결과를 데이터프레임으로 변환\n",
    "encoded_df = pd.DataFrame(encoded_data.toarray(), columns=encoder.get_feature_names_out(['browser', 'OS', 'device', 'continent', 'subcontinent', 'traffic_source', 'traffic_medium']))\n",
    "# 테스트 데이터에 대해 transform 수행\n",
    "encoded_test = encoder.transform(test[['browser', 'OS', 'device', 'continent', 'subcontinent', 'traffic_source', 'traffic_medium']])\n",
    "encoded_test_df = pd.DataFrame(encoded_test.toarray(), columns=encoder.get_feature_names_out(['browser', 'OS', 'device', 'continent', 'subcontinent', 'traffic_source', 'traffic_medium']))\n",
    "\n",
    "train.drop(columns=['browser', 'OS', 'device', 'continent', 'subcontinent', 'traffic_source', 'traffic_medium'], inplace=True)\n",
    "train_encoded = pd.concat([train, encoded_df], axis=1)\n",
    "test.drop(columns=['browser', 'OS', 'device', 'continent', 'subcontinent', 'traffic_source', 'traffic_medium'], inplace=True)\n",
    "test_encoded = pd.concat([test, encoded_test_df], axis=1)\n"
   ]
  },
  {
   "cell_type": "code",
   "execution_count": 208,
   "id": "caa763f7",
   "metadata": {},
   "outputs": [],
   "source": [
    "#수치형 변수 로그 변환\n",
    "variables_to_log_scale = ['quality', 'duration', 'transaction', 'transaction_revenue']\n",
    "def log_scale(df):\n",
    "    for variable in variables_to_log_scale:\n",
    "        df[variable] = df[variable].replace(0, 0.0001)\n",
    "        df[variable] = np.log1p(df[variable])\n",
    "        \n",
    "log_scale(train_encoded)\n",
    "log_scale(test_encoded)\n",
    "    "
   ]
  },
  {
   "cell_type": "code",
   "execution_count": 179,
   "id": "b80415b9",
   "metadata": {
    "scrolled": true
   },
   "outputs": [],
   "source": [
    "#수치형 변수 이상치 처리\n",
    "def replace_outliers_with_IQR(df, columns):\n",
    "    \"\"\"\n",
    "    이상치를 IQR을 사용하여 대체하는 함수\n",
    "    \n",
    "    :param df: 데이터프레임\n",
    "    :param columns: 이상치를 대체할 열 이름 목록\n",
    "    :return: 이상치를 IQR을 사용하여 대체한 데이터프레임\n",
    "    \"\"\"\n",
    "    replaced_df = df.copy()  # 원본 데이터프레임을 변경하지 않기 위해 복사본 생성\n",
    "    \n",
    "    for column in columns:\n",
    "        # 사분위수 계산\n",
    "        Q1 = np.percentile(df[column], 25)\n",
    "        Q3 = np.percentile(df[column], 75)\n",
    "        IQR = Q3 - Q1\n",
    "\n",
    "        # 이상치 경계값 계산\n",
    "        lower_bound = Q1 - 1.5 * IQR\n",
    "        upper_bound = Q3 + 1.5 * IQR\n",
    "\n",
    "        # 이상치 대체\n",
    "        replaced_df.loc[replaced_df[column] < lower_bound, column] = lower_bound\n",
    "        replaced_df.loc[replaced_df[column] > upper_bound, column] = upper_bound\n",
    "    \n",
    "    return replaced_df\n",
    "\n",
    "# 대체할 열 이름 목록\n",
    "columns = ['quality', 'duration', 'transaction', 'transaction_revenue']\n",
    "\n",
    "# 함수 적용\n",
    "replaced_train_df = replace_outliers_with_IQR(train_encoded, columns)\n",
    "replaced_test_df = replace_outliers_with_IQR(test_encoded, columns)"
   ]
  },
  {
   "cell_type": "code",
   "execution_count": 180,
   "id": "8d096c3a",
   "metadata": {},
   "outputs": [],
   "source": [
    "#수치형 변수 표준화 처리\n",
    "from sklearn.preprocessing import StandardScaler\n",
    "\n",
    "scaler = StandardScaler()\n",
    "\n",
    "numerical_columns = ['quality', 'duration', 'transaction', 'transaction_revenue']\n",
    "\n",
    "replaced_train_df[numerical_columns] = scaler.fit_transform(replaced_train_df[numerical_columns])\n",
    "\n",
    "# 테스트 데이터\n",
    "replaced_test_df[numerical_columns] = scaler.transform(replaced_test_df[numerical_columns])\n",
    "\n"
   ]
  },
  {
   "cell_type": "code",
   "execution_count": 209,
   "id": "ebc04d8d",
   "metadata": {},
   "outputs": [],
   "source": [
    "replaced_train_df['new_qual']=replaced_train_df['new']*replaced_train_df['quality']\n",
    "replaced_train_df['new_du']=replaced_train_df['new']*replaced_train_df['duration']\n",
    "\n",
    "replaced_test_df['new_qual']=replaced_test_df['new']*replaced_test_df['quality']\n",
    "replaced_test_df['new_du']=replaced_test_df['new']*replaced_test_df['duration']\n"
   ]
  },
  {
   "cell_type": "code",
   "execution_count": 181,
   "id": "5d852ad6",
   "metadata": {},
   "outputs": [
    {
     "data": {
      "text/html": [
       "<div>\n",
       "<style scoped>\n",
       "    .dataframe tbody tr th:only-of-type {\n",
       "        vertical-align: middle;\n",
       "    }\n",
       "\n",
       "    .dataframe tbody tr th {\n",
       "        vertical-align: top;\n",
       "    }\n",
       "\n",
       "    .dataframe thead th {\n",
       "        text-align: right;\n",
       "    }\n",
       "</style>\n",
       "<table border=\"1\" class=\"dataframe\">\n",
       "  <thead>\n",
       "    <tr style=\"text-align: right;\">\n",
       "      <th></th>\n",
       "      <th>sessionID</th>\n",
       "      <th>userID</th>\n",
       "      <th>TARGET</th>\n",
       "      <th>new</th>\n",
       "      <th>quality</th>\n",
       "      <th>duration</th>\n",
       "      <th>bounced</th>\n",
       "      <th>transaction</th>\n",
       "      <th>transaction_revenue</th>\n",
       "      <th>country</th>\n",
       "      <th>...</th>\n",
       "      <th>subcontinent_etc</th>\n",
       "      <th>traffic_source_(direct)</th>\n",
       "      <th>traffic_source_Partners</th>\n",
       "      <th>traffic_source_etc</th>\n",
       "      <th>traffic_source_google</th>\n",
       "      <th>traffic_source_youtube.com</th>\n",
       "      <th>traffic_medium_(none)</th>\n",
       "      <th>traffic_medium_etc</th>\n",
       "      <th>traffic_medium_organic</th>\n",
       "      <th>traffic_medium_referral</th>\n",
       "    </tr>\n",
       "  </thead>\n",
       "  <tbody>\n",
       "    <tr>\n",
       "      <th>0</th>\n",
       "      <td>SESSION_000000</td>\n",
       "      <td>USER_000000</td>\n",
       "      <td>17.0</td>\n",
       "      <td>0</td>\n",
       "      <td>0.0</td>\n",
       "      <td>2.038631</td>\n",
       "      <td>0</td>\n",
       "      <td>0.0</td>\n",
       "      <td>0.0</td>\n",
       "      <td>United States</td>\n",
       "      <td>...</td>\n",
       "      <td>0.0</td>\n",
       "      <td>0.0</td>\n",
       "      <td>0.0</td>\n",
       "      <td>0.0</td>\n",
       "      <td>1.0</td>\n",
       "      <td>0.0</td>\n",
       "      <td>0.0</td>\n",
       "      <td>0.0</td>\n",
       "      <td>1.0</td>\n",
       "      <td>0.0</td>\n",
       "    </tr>\n",
       "    <tr>\n",
       "      <th>1</th>\n",
       "      <td>SESSION_000001</td>\n",
       "      <td>USER_000001</td>\n",
       "      <td>3.0</td>\n",
       "      <td>1</td>\n",
       "      <td>0.0</td>\n",
       "      <td>-0.097329</td>\n",
       "      <td>0</td>\n",
       "      <td>0.0</td>\n",
       "      <td>0.0</td>\n",
       "      <td>Germany</td>\n",
       "      <td>...</td>\n",
       "      <td>0.0</td>\n",
       "      <td>0.0</td>\n",
       "      <td>0.0</td>\n",
       "      <td>0.0</td>\n",
       "      <td>1.0</td>\n",
       "      <td>0.0</td>\n",
       "      <td>0.0</td>\n",
       "      <td>0.0</td>\n",
       "      <td>1.0</td>\n",
       "      <td>0.0</td>\n",
       "    </tr>\n",
       "    <tr>\n",
       "      <th>2</th>\n",
       "      <td>SESSION_000002</td>\n",
       "      <td>USER_000002</td>\n",
       "      <td>1.0</td>\n",
       "      <td>1</td>\n",
       "      <td>0.0</td>\n",
       "      <td>-0.698790</td>\n",
       "      <td>1</td>\n",
       "      <td>0.0</td>\n",
       "      <td>0.0</td>\n",
       "      <td>Malaysia</td>\n",
       "      <td>...</td>\n",
       "      <td>0.0</td>\n",
       "      <td>1.0</td>\n",
       "      <td>0.0</td>\n",
       "      <td>0.0</td>\n",
       "      <td>0.0</td>\n",
       "      <td>0.0</td>\n",
       "      <td>1.0</td>\n",
       "      <td>0.0</td>\n",
       "      <td>0.0</td>\n",
       "      <td>0.0</td>\n",
       "    </tr>\n",
       "    <tr>\n",
       "      <th>3</th>\n",
       "      <td>SESSION_000003</td>\n",
       "      <td>USER_000003</td>\n",
       "      <td>1.0</td>\n",
       "      <td>1</td>\n",
       "      <td>0.0</td>\n",
       "      <td>-0.698790</td>\n",
       "      <td>1</td>\n",
       "      <td>0.0</td>\n",
       "      <td>0.0</td>\n",
       "      <td>United States</td>\n",
       "      <td>...</td>\n",
       "      <td>0.0</td>\n",
       "      <td>0.0</td>\n",
       "      <td>1.0</td>\n",
       "      <td>0.0</td>\n",
       "      <td>0.0</td>\n",
       "      <td>0.0</td>\n",
       "      <td>0.0</td>\n",
       "      <td>1.0</td>\n",
       "      <td>0.0</td>\n",
       "      <td>0.0</td>\n",
       "    </tr>\n",
       "    <tr>\n",
       "      <th>4</th>\n",
       "      <td>SESSION_000004</td>\n",
       "      <td>USER_000004</td>\n",
       "      <td>1.0</td>\n",
       "      <td>0</td>\n",
       "      <td>0.0</td>\n",
       "      <td>-0.698790</td>\n",
       "      <td>1</td>\n",
       "      <td>0.0</td>\n",
       "      <td>0.0</td>\n",
       "      <td>United States</td>\n",
       "      <td>...</td>\n",
       "      <td>0.0</td>\n",
       "      <td>0.0</td>\n",
       "      <td>0.0</td>\n",
       "      <td>0.0</td>\n",
       "      <td>1.0</td>\n",
       "      <td>0.0</td>\n",
       "      <td>0.0</td>\n",
       "      <td>0.0</td>\n",
       "      <td>0.0</td>\n",
       "      <td>1.0</td>\n",
       "    </tr>\n",
       "  </tbody>\n",
       "</table>\n",
       "<p>5 rows × 49 columns</p>\n",
       "</div>"
      ],
      "text/plain": [
       "        sessionID       userID  TARGET  new  quality  duration  bounced  \\\n",
       "0  SESSION_000000  USER_000000    17.0    0      0.0  2.038631        0   \n",
       "1  SESSION_000001  USER_000001     3.0    1      0.0 -0.097329        0   \n",
       "2  SESSION_000002  USER_000002     1.0    1      0.0 -0.698790        1   \n",
       "3  SESSION_000003  USER_000003     1.0    1      0.0 -0.698790        1   \n",
       "4  SESSION_000004  USER_000004     1.0    0      0.0 -0.698790        1   \n",
       "\n",
       "   transaction  transaction_revenue        country  ... subcontinent_etc  \\\n",
       "0          0.0                  0.0  United States  ...              0.0   \n",
       "1          0.0                  0.0        Germany  ...              0.0   \n",
       "2          0.0                  0.0       Malaysia  ...              0.0   \n",
       "3          0.0                  0.0  United States  ...              0.0   \n",
       "4          0.0                  0.0  United States  ...              0.0   \n",
       "\n",
       "  traffic_source_(direct)  traffic_source_Partners  traffic_source_etc  \\\n",
       "0                     0.0                      0.0                 0.0   \n",
       "1                     0.0                      0.0                 0.0   \n",
       "2                     1.0                      0.0                 0.0   \n",
       "3                     0.0                      1.0                 0.0   \n",
       "4                     0.0                      0.0                 0.0   \n",
       "\n",
       "   traffic_source_google  traffic_source_youtube.com  traffic_medium_(none)  \\\n",
       "0                    1.0                         0.0                    0.0   \n",
       "1                    1.0                         0.0                    0.0   \n",
       "2                    0.0                         0.0                    1.0   \n",
       "3                    0.0                         0.0                    0.0   \n",
       "4                    1.0                         0.0                    0.0   \n",
       "\n",
       "   traffic_medium_etc  traffic_medium_organic  traffic_medium_referral  \n",
       "0                 0.0                     1.0                      0.0  \n",
       "1                 0.0                     1.0                      0.0  \n",
       "2                 0.0                     0.0                      0.0  \n",
       "3                 1.0                     0.0                      0.0  \n",
       "4                 0.0                     0.0                      1.0  \n",
       "\n",
       "[5 rows x 49 columns]"
      ]
     },
     "execution_count": 181,
     "metadata": {},
     "output_type": "execute_result"
    }
   ],
   "source": [
    "replaced_train_df.head()"
   ]
  },
  {
   "cell_type": "code",
   "execution_count": 182,
   "id": "0021d262",
   "metadata": {},
   "outputs": [],
   "source": [
    "# 삭제할 열 이름 목록\n",
    "columns_to_drop = ['sessionID', 'userID', 'country', 'keyword', 'referral_path','TARGET']\n",
    "\n",
    "# 데이터프레임에서 주어진 열들을 삭제\n",
    "train_target=replaced_train_df['TARGET']\n",
    "replaced_train_df.drop(columns=columns_to_drop, inplace=True)\n",
    "\n",
    "columns_to_drop = ['sessionID', 'userID', 'country', 'keyword', 'referral_path']\n",
    "replaced_test_df.drop(columns=columns_to_drop, inplace=True)"
   ]
  },
  {
   "cell_type": "code",
   "execution_count": 200,
   "id": "c7c46ef7",
   "metadata": {},
   "outputs": [
    {
     "data": {
      "image/png": "[encoded data removed]",
      "text/plain": [
       "<Figure size 1000x600 with 1 Axes>"
      ]
     },
     "metadata": {},
     "output_type": "display_data"
    }
   ],
   "source": [
    "from sklearn.discriminant_analysis import LinearDiscriminantAnalysis as LDA\n",
    "# LDA 객체 생성\n",
    "lda = LDA()\n",
    "\n",
    "# LDA를 훈련 데이터에 적용\n",
    "lda.fit(replaced_train_df, train_target)\n",
    "lda_transformed_train = lda.transform(replaced_train_df)\n",
    "\n",
    "plt.figure(figsize=(10, 6))\n",
    "plt.plot(range(1, lda_transformed_train.shape[1] + 2), lda.explained_variance_ratio_)\n",
    "plt.xlabel('LDA Components')\n",
    "plt.ylabel('Explained Variance Ratio')\n",
    "plt.title('Scree Plot for LDA')\n",
    "plt.show()"
   ]
  },
  {
   "cell_type": "code",
   "execution_count": 201,
   "id": "fe575312",
   "metadata": {},
   "outputs": [],
   "source": [
    "# LDA수는 가장 적합한 2로 설정해서 다시 적용\n",
    "lda = LDA(n_components=2)\n",
    "\n",
    "lda.fit(replaced_train_df, train_target)\n",
    "lda_transformed_train = lda.transform(replaced_train_df)\n",
    "\n",
    "lda_transformed_test = lda.transform(replaced_test_df)"
   ]
  },
  {
   "cell_type": "code",
   "execution_count": 202,
   "id": "7967a69b",
   "metadata": {},
   "outputs": [
    {
     "data": {
      "text/plain": [
       "2"
      ]
     },
     "execution_count": 202,
     "metadata": {},
     "output_type": "execute_result"
    }
   ],
   "source": [
    "lda_transformed_train.shape[1]"
   ]
  },
  {
   "cell_type": "code",
   "execution_count": 203,
   "id": "72d0a03f",
   "metadata": {},
   "outputs": [],
   "source": [
    "# LDA로 생성된 칼럼명을 작성하기 위함\n",
    "lda_columns_train = [f'LDA{i+1}' for i in range(lda_transformed_train.shape[1])]\n",
    "lda_columns_test = [f'LDA{i+1}' for i in range(lda_transformed_test.shape[1])]\n",
    "\n",
    "lda_df_train = pd.DataFrame(lda_transformed_train, columns = lda_columns_train)\n",
    "lda_df_test = pd.DataFrame(lda_transformed_test, columns = lda_columns_test)"
   ]
  },
  {
   "cell_type": "code",
   "execution_count": 204,
   "id": "3f5b7e37",
   "metadata": {},
   "outputs": [],
   "source": [
    "lda_train_x = pd.concat([replaced_train_df, lda_df_train], axis=1)\n",
    "lda_test_x = pd.concat([replaced_test_df, lda_df_test], axis=1)"
   ]
  },
  {
   "cell_type": "code",
   "execution_count": 205,
   "id": "75d7879a",
   "metadata": {},
   "outputs": [
    {
     "data": {
      "text/plain": [
       "Index(['new', 'quality', 'duration', 'bounced', 'transaction',\n",
       "       'transaction_revenue', 'browser_Android Webview', 'browser_Chrome',\n",
       "       'browser_Firefox', 'browser_Internet Explorer', 'browser_Safari',\n",
       "       'browser_etc', 'OS_Android', 'OS_Chrome OS', 'OS_Linux', 'OS_Macintosh',\n",
       "       'OS_Windows', 'OS_etc', 'OS_iOS', 'device_desktop', 'device_mobile',\n",
       "       'device_tablet', 'continent_(not set)', 'continent_Africa',\n",
       "       'continent_Americas', 'continent_Asia', 'continent_Europe',\n",
       "       'continent_Oceania', 'subcontinent_Northern America',\n",
       "       'subcontinent_Northern Europe', 'subcontinent_Southeast Asia',\n",
       "       'subcontinent_Southern Asia', 'subcontinent_Western Europe',\n",
       "       'subcontinent_etc', 'traffic_source_(direct)',\n",
       "       'traffic_source_Partners', 'traffic_source_etc',\n",
       "       'traffic_source_google', 'traffic_source_youtube.com',\n",
       "       'traffic_medium_(none)', 'traffic_medium_etc', 'traffic_medium_organic',\n",
       "       'traffic_medium_referral', 'LDA1', 'LDA2'],\n",
       "      dtype='object')"
      ]
     },
     "execution_count": 205,
     "metadata": {},
     "output_type": "execute_result"
    }
   ],
   "source": [
    "lda_train_x.columns"
   ]
  },
  {
   "cell_type": "code",
   "execution_count": 207,
   "id": "ce4c455d",
   "metadata": {},
   "outputs": [
    {
     "data": {
      "text/html": [
       "<div>\n",
       "<style scoped>\n",
       "    .dataframe tbody tr th:only-of-type {\n",
       "        vertical-align: middle;\n",
       "    }\n",
       "\n",
       "    .dataframe tbody tr th {\n",
       "        vertical-align: top;\n",
       "    }\n",
       "\n",
       "    .dataframe thead th {\n",
       "        text-align: right;\n",
       "    }\n",
       "</style>\n",
       "<table border=\"1\" class=\"dataframe\">\n",
       "  <thead>\n",
       "    <tr style=\"text-align: right;\">\n",
       "      <th></th>\n",
       "      <th>new</th>\n",
       "      <th>quality</th>\n",
       "      <th>duration</th>\n",
       "      <th>bounced</th>\n",
       "      <th>transaction</th>\n",
       "      <th>transaction_revenue</th>\n",
       "      <th>browser_Android Webview</th>\n",
       "      <th>browser_Chrome</th>\n",
       "      <th>browser_Firefox</th>\n",
       "      <th>browser_Internet Explorer</th>\n",
       "      <th>...</th>\n",
       "      <th>traffic_source_Partners</th>\n",
       "      <th>traffic_source_etc</th>\n",
       "      <th>traffic_source_google</th>\n",
       "      <th>traffic_source_youtube.com</th>\n",
       "      <th>traffic_medium_(none)</th>\n",
       "      <th>traffic_medium_etc</th>\n",
       "      <th>traffic_medium_organic</th>\n",
       "      <th>traffic_medium_referral</th>\n",
       "      <th>LDA1</th>\n",
       "      <th>LDA2</th>\n",
       "    </tr>\n",
       "  </thead>\n",
       "  <tbody>\n",
       "    <tr>\n",
       "      <th>0</th>\n",
       "      <td>0</td>\n",
       "      <td>0.0</td>\n",
       "      <td>2.038631</td>\n",
       "      <td>0</td>\n",
       "      <td>0.0</td>\n",
       "      <td>0.0</td>\n",
       "      <td>0.0</td>\n",
       "      <td>1.0</td>\n",
       "      <td>0.0</td>\n",
       "      <td>0.0</td>\n",
       "      <td>...</td>\n",
       "      <td>0.0</td>\n",
       "      <td>0.0</td>\n",
       "      <td>1.0</td>\n",
       "      <td>0.0</td>\n",
       "      <td>0.0</td>\n",
       "      <td>0.0</td>\n",
       "      <td>1.0</td>\n",
       "      <td>0.0</td>\n",
       "      <td>7.091803</td>\n",
       "      <td>2.856329</td>\n",
       "    </tr>\n",
       "    <tr>\n",
       "      <th>1</th>\n",
       "      <td>1</td>\n",
       "      <td>0.0</td>\n",
       "      <td>-0.097329</td>\n",
       "      <td>0</td>\n",
       "      <td>0.0</td>\n",
       "      <td>0.0</td>\n",
       "      <td>0.0</td>\n",
       "      <td>1.0</td>\n",
       "      <td>0.0</td>\n",
       "      <td>0.0</td>\n",
       "      <td>...</td>\n",
       "      <td>0.0</td>\n",
       "      <td>0.0</td>\n",
       "      <td>1.0</td>\n",
       "      <td>0.0</td>\n",
       "      <td>0.0</td>\n",
       "      <td>0.0</td>\n",
       "      <td>1.0</td>\n",
       "      <td>0.0</td>\n",
       "      <td>6.518823</td>\n",
       "      <td>-1.603713</td>\n",
       "    </tr>\n",
       "    <tr>\n",
       "      <th>2</th>\n",
       "      <td>1</td>\n",
       "      <td>0.0</td>\n",
       "      <td>-0.698790</td>\n",
       "      <td>1</td>\n",
       "      <td>0.0</td>\n",
       "      <td>0.0</td>\n",
       "      <td>0.0</td>\n",
       "      <td>0.0</td>\n",
       "      <td>0.0</td>\n",
       "      <td>0.0</td>\n",
       "      <td>...</td>\n",
       "      <td>0.0</td>\n",
       "      <td>0.0</td>\n",
       "      <td>0.0</td>\n",
       "      <td>0.0</td>\n",
       "      <td>1.0</td>\n",
       "      <td>0.0</td>\n",
       "      <td>0.0</td>\n",
       "      <td>0.0</td>\n",
       "      <td>-6.840201</td>\n",
       "      <td>-0.209969</td>\n",
       "    </tr>\n",
       "    <tr>\n",
       "      <th>3</th>\n",
       "      <td>1</td>\n",
       "      <td>0.0</td>\n",
       "      <td>-0.698790</td>\n",
       "      <td>1</td>\n",
       "      <td>0.0</td>\n",
       "      <td>0.0</td>\n",
       "      <td>0.0</td>\n",
       "      <td>1.0</td>\n",
       "      <td>0.0</td>\n",
       "      <td>0.0</td>\n",
       "      <td>...</td>\n",
       "      <td>1.0</td>\n",
       "      <td>0.0</td>\n",
       "      <td>0.0</td>\n",
       "      <td>0.0</td>\n",
       "      <td>0.0</td>\n",
       "      <td>1.0</td>\n",
       "      <td>0.0</td>\n",
       "      <td>0.0</td>\n",
       "      <td>-6.719953</td>\n",
       "      <td>0.235915</td>\n",
       "    </tr>\n",
       "    <tr>\n",
       "      <th>4</th>\n",
       "      <td>0</td>\n",
       "      <td>0.0</td>\n",
       "      <td>-0.698790</td>\n",
       "      <td>1</td>\n",
       "      <td>0.0</td>\n",
       "      <td>0.0</td>\n",
       "      <td>0.0</td>\n",
       "      <td>1.0</td>\n",
       "      <td>0.0</td>\n",
       "      <td>0.0</td>\n",
       "      <td>...</td>\n",
       "      <td>0.0</td>\n",
       "      <td>0.0</td>\n",
       "      <td>1.0</td>\n",
       "      <td>0.0</td>\n",
       "      <td>0.0</td>\n",
       "      <td>0.0</td>\n",
       "      <td>0.0</td>\n",
       "      <td>1.0</td>\n",
       "      <td>-6.779186</td>\n",
       "      <td>0.055448</td>\n",
       "    </tr>\n",
       "  </tbody>\n",
       "</table>\n",
       "<p>5 rows × 45 columns</p>\n",
       "</div>"
      ],
      "text/plain": [
       "   new  quality  duration  bounced  transaction  transaction_revenue  \\\n",
       "0    0      0.0  2.038631        0          0.0                  0.0   \n",
       "1    1      0.0 -0.097329        0          0.0                  0.0   \n",
       "2    1      0.0 -0.698790        1          0.0                  0.0   \n",
       "3    1      0.0 -0.698790        1          0.0                  0.0   \n",
       "4    0      0.0 -0.698790        1          0.0                  0.0   \n",
       "\n",
       "   browser_Android Webview  browser_Chrome  browser_Firefox  \\\n",
       "0                      0.0             1.0              0.0   \n",
       "1                      0.0             1.0              0.0   \n",
       "2                      0.0             0.0              0.0   \n",
       "3                      0.0             1.0              0.0   \n",
       "4                      0.0             1.0              0.0   \n",
       "\n",
       "   browser_Internet Explorer  ...  traffic_source_Partners  \\\n",
       "0                        0.0  ...                      0.0   \n",
       "1                        0.0  ...                      0.0   \n",
       "2                        0.0  ...                      0.0   \n",
       "3                        0.0  ...                      1.0   \n",
       "4                        0.0  ...                      0.0   \n",
       "\n",
       "   traffic_source_etc  traffic_source_google  traffic_source_youtube.com  \\\n",
       "0                 0.0                    1.0                         0.0   \n",
       "1                 0.0                    1.0                         0.0   \n",
       "2                 0.0                    0.0                         0.0   \n",
       "3                 0.0                    0.0                         0.0   \n",
       "4                 0.0                    1.0                         0.0   \n",
       "\n",
       "   traffic_medium_(none)  traffic_medium_etc  traffic_medium_organic  \\\n",
       "0                    0.0                 0.0                     1.0   \n",
       "1                    0.0                 0.0                     1.0   \n",
       "2                    1.0                 0.0                     0.0   \n",
       "3                    0.0                 1.0                     0.0   \n",
       "4                    0.0                 0.0                     0.0   \n",
       "\n",
       "   traffic_medium_referral      LDA1      LDA2  \n",
       "0                      0.0  7.091803  2.856329  \n",
       "1                      0.0  6.518823 -1.603713  \n",
       "2                      0.0 -6.840201 -0.209969  \n",
       "3                      0.0 -6.719953  0.235915  \n",
       "4                      1.0 -6.779186  0.055448  \n",
       "\n",
       "[5 rows x 45 columns]"
      ]
     },
     "execution_count": 207,
     "metadata": {},
     "output_type": "execute_result"
    }
   ],
   "source": [
    "lda_train_x.head()"
   ]
  },
  {
   "cell_type": "code",
   "execution_count": null,
   "id": "d27c4ab7",
   "metadata": {},
   "outputs": [],
   "source": []
  }
 ],
 "metadata": {
  "kernelspec": {
   "display_name": "Python 3 (ipykernel)",
   "language": "python",
   "name": "python3"
  },
  "language_info": {
   "codemirror_mode": {
    "name": "ipython",
    "version": 3
   },
   "file_extension": ".py",
   "mimetype": "text/x-python",
   "name": "python",
   "nbconvert_exporter": "python",
   "pygments_lexer": "ipython3",
   "version": "3.11.5"
  }
 },
 "nbformat": 4,
 "nbformat_minor": 5
}

{
 "cells": [
  {
   "cell_type": "code",
   "execution_count": 43,
   "id": "5e003de2-c37e-4162-bda7-cd1d214f4140",
   "metadata": {},
   "outputs": [],
   "source": [
    "import pandas as pd\n",
    "import seaborn as sns\n",
    "import matplotlib.pyplot as plt\n",
    "import numpy as np"
   ]
  },
  {
   "cell_type": "code",
   "execution_count": 44,
   "id": "0f2db0c0-8c01-49a0-9cdd-ffa496b06744",
   "metadata": {},
   "outputs": [],
   "source": [
    "train_df = pd.read_csv('train.csv')\n",
    "test_df = pd.read_csv('test.csv')"
   ]
  },
  {
   "cell_type": "code",
   "execution_count": 45,
   "id": "83d6afd0-87df-4357-bfbf-f9c6ca4d2794",
   "metadata": {},
   "outputs": [
    {
     "data": {
      "text/html": [
       "<div>\n",
       "<style scoped>\n",
       "    .dataframe tbody tr th:only-of-type {\n",
       "        vertical-align: middle;\n",
       "    }\n",
       "\n",
       "    .dataframe tbody tr th {\n",
       "        vertical-align: top;\n",
       "    }\n",
       "\n",
       "    .dataframe thead th {\n",
       "        text-align: right;\n",
       "    }\n",
       "</style>\n",
       "<table border=\"1\" class=\"dataframe\">\n",
       "  <thead>\n",
       "    <tr style=\"text-align: right;\">\n",
       "      <th></th>\n",
       "      <th>sessionID</th>\n",
       "      <th>userID</th>\n",
       "      <th>TARGET</th>\n",
       "      <th>browser</th>\n",
       "      <th>OS</th>\n",
       "      <th>device</th>\n",
       "      <th>new</th>\n",
       "      <th>quality</th>\n",
       "      <th>duration</th>\n",
       "      <th>bounced</th>\n",
       "      <th>transaction</th>\n",
       "      <th>transaction_revenue</th>\n",
       "      <th>continent</th>\n",
       "      <th>subcontinent</th>\n",
       "      <th>country</th>\n",
       "      <th>traffic_source</th>\n",
       "      <th>traffic_medium</th>\n",
       "      <th>keyword</th>\n",
       "      <th>referral_path</th>\n",
       "    </tr>\n",
       "  </thead>\n",
       "  <tbody>\n",
       "    <tr>\n",
       "      <th>0</th>\n",
       "      <td>SESSION_000000</td>\n",
       "      <td>USER_000000</td>\n",
       "      <td>17.0</td>\n",
       "      <td>Chrome</td>\n",
       "      <td>Macintosh</td>\n",
       "      <td>desktop</td>\n",
       "      <td>0</td>\n",
       "      <td>45.0</td>\n",
       "      <td>839.0</td>\n",
       "      <td>0</td>\n",
       "      <td>0.0</td>\n",
       "      <td>0.0</td>\n",
       "      <td>Americas</td>\n",
       "      <td>Northern America</td>\n",
       "      <td>United States</td>\n",
       "      <td>google</td>\n",
       "      <td>organic</td>\n",
       "      <td>Category8</td>\n",
       "      <td>NaN</td>\n",
       "    </tr>\n",
       "    <tr>\n",
       "      <th>1</th>\n",
       "      <td>SESSION_000001</td>\n",
       "      <td>USER_000001</td>\n",
       "      <td>3.0</td>\n",
       "      <td>Chrome</td>\n",
       "      <td>Windows</td>\n",
       "      <td>desktop</td>\n",
       "      <td>1</td>\n",
       "      <td>1.0</td>\n",
       "      <td>39.0</td>\n",
       "      <td>0</td>\n",
       "      <td>0.0</td>\n",
       "      <td>0.0</td>\n",
       "      <td>Europe</td>\n",
       "      <td>Western Europe</td>\n",
       "      <td>Germany</td>\n",
       "      <td>google</td>\n",
       "      <td>organic</td>\n",
       "      <td>Category8</td>\n",
       "      <td>NaN</td>\n",
       "    </tr>\n",
       "    <tr>\n",
       "      <th>2</th>\n",
       "      <td>SESSION_000002</td>\n",
       "      <td>USER_000002</td>\n",
       "      <td>1.0</td>\n",
       "      <td>Samsung Internet</td>\n",
       "      <td>Android</td>\n",
       "      <td>mobile</td>\n",
       "      <td>1</td>\n",
       "      <td>1.0</td>\n",
       "      <td>0.0</td>\n",
       "      <td>1</td>\n",
       "      <td>0.0</td>\n",
       "      <td>0.0</td>\n",
       "      <td>Asia</td>\n",
       "      <td>Southeast Asia</td>\n",
       "      <td>Malaysia</td>\n",
       "      <td>(direct)</td>\n",
       "      <td>(none)</td>\n",
       "      <td>NaN</td>\n",
       "      <td>NaN</td>\n",
       "    </tr>\n",
       "    <tr>\n",
       "      <th>3</th>\n",
       "      <td>SESSION_000003</td>\n",
       "      <td>USER_000003</td>\n",
       "      <td>1.0</td>\n",
       "      <td>Chrome</td>\n",
       "      <td>Macintosh</td>\n",
       "      <td>desktop</td>\n",
       "      <td>1</td>\n",
       "      <td>1.0</td>\n",
       "      <td>0.0</td>\n",
       "      <td>1</td>\n",
       "      <td>0.0</td>\n",
       "      <td>0.0</td>\n",
       "      <td>Americas</td>\n",
       "      <td>Northern America</td>\n",
       "      <td>United States</td>\n",
       "      <td>Partners</td>\n",
       "      <td>affiliate</td>\n",
       "      <td>NaN</td>\n",
       "      <td>NaN</td>\n",
       "    </tr>\n",
       "    <tr>\n",
       "      <th>4</th>\n",
       "      <td>SESSION_000004</td>\n",
       "      <td>USER_000004</td>\n",
       "      <td>1.0</td>\n",
       "      <td>Chrome</td>\n",
       "      <td>iOS</td>\n",
       "      <td>mobile</td>\n",
       "      <td>0</td>\n",
       "      <td>1.0</td>\n",
       "      <td>0.0</td>\n",
       "      <td>1</td>\n",
       "      <td>0.0</td>\n",
       "      <td>0.0</td>\n",
       "      <td>Americas</td>\n",
       "      <td>Northern America</td>\n",
       "      <td>United States</td>\n",
       "      <td>groups.google.com</td>\n",
       "      <td>referral</td>\n",
       "      <td>NaN</td>\n",
       "      <td>Category6_Path_0000</td>\n",
       "    </tr>\n",
       "  </tbody>\n",
       "</table>\n",
       "</div>"
      ],
      "text/plain": [
       "        sessionID       userID  TARGET           browser         OS   device  \\\n",
       "0  SESSION_000000  USER_000000    17.0            Chrome  Macintosh  desktop   \n",
       "1  SESSION_000001  USER_000001     3.0            Chrome    Windows  desktop   \n",
       "2  SESSION_000002  USER_000002     1.0  Samsung Internet    Android   mobile   \n",
       "3  SESSION_000003  USER_000003     1.0            Chrome  Macintosh  desktop   \n",
       "4  SESSION_000004  USER_000004     1.0            Chrome        iOS   mobile   \n",
       "\n",
       "   new  quality  duration  bounced  transaction  transaction_revenue  \\\n",
       "0    0     45.0     839.0        0          0.0                  0.0   \n",
       "1    1      1.0      39.0        0          0.0                  0.0   \n",
       "2    1      1.0       0.0        1          0.0                  0.0   \n",
       "3    1      1.0       0.0        1          0.0                  0.0   \n",
       "4    0      1.0       0.0        1          0.0                  0.0   \n",
       "\n",
       "  continent      subcontinent        country     traffic_source  \\\n",
       "0  Americas  Northern America  United States             google   \n",
       "1    Europe    Western Europe        Germany             google   \n",
       "2      Asia    Southeast Asia       Malaysia           (direct)   \n",
       "3  Americas  Northern America  United States           Partners   \n",
       "4  Americas  Northern America  United States  groups.google.com   \n",
       "\n",
       "  traffic_medium    keyword        referral_path  \n",
       "0        organic  Category8                  NaN  \n",
       "1        organic  Category8                  NaN  \n",
       "2         (none)        NaN                  NaN  \n",
       "3      affiliate        NaN                  NaN  \n",
       "4       referral        NaN  Category6_Path_0000  "
      ]
     },
     "execution_count": 45,
     "metadata": {},
     "output_type": "execute_result"
    }
   ],
   "source": [
    "train_df.head()\n",
    "\n",
    "# identifier: 'sessionID', 'userID'\n",
    "\n",
    "# continous: 'TARGET'(dependent), 'quality', 'duration', 'transaction', 'transaction_revenue'\n",
    "\n",
    "# category: 'browser', 'OS', 'device', 'country','continent', 'subcontinent', 'traffic_source', 'traffic_medium', 'keyword', 'referral_path'\n",
    "# binary: 'new','bounced'"
   ]
  },
  {
   "cell_type": "markdown",
   "id": "4eb8b8f8-e266-4f0e-ae01-2aa466d0f783",
   "metadata": {},
   "source": [
    "# Pre-processing"
   ]
  },
  {
   "cell_type": "code",
   "execution_count": 46,
   "id": "dea2f959-fb48-4b19-93c1-71d38f78c7aa",
   "metadata": {},
   "outputs": [],
   "source": [
    "# drop columns with missing values: 'referral_path','keyword'\n",
    "x_train =  train_df.drop(['TARGET','sessionID','userID'], axis=1)\n",
    "y_train = train_df['TARGET']\n",
    "test_df= test_df.drop(['sessionID','userID'],axis=1)"
   ]
  },
  {
   "cell_type": "markdown",
   "id": "e4ffe164-dcb9-4fe9-bc8b-4affd0548c25",
   "metadata": {},
   "source": [
    "## Grouping: traffic_source"
   ]
  },
  {
   "cell_type": "code",
   "execution_count": 47,
   "id": "7f2fb920-830b-415f-8eb7-c59efe2d4f54",
   "metadata": {},
   "outputs": [],
   "source": [
    "cols = ['google', 'youtube', 'baidu', 'facebook', 'yahoo', 'bing', 'quora', 'quiita', 'Partners', 'reddit']\n",
    "\n",
    "# test\n",
    "for col in cols:\n",
    "    x_train.loc[x_train['traffic_source'].str.contains(col), 'traffic_source'] = col\n",
    "\n",
    "# train \n",
    "for col in cols:\n",
    "    test_df.loc[test_df['traffic_source'].str.contains(col), 'traffic_source'] = col"
   ]
  },
  {
   "cell_type": "code",
   "execution_count": 48,
   "id": "b6c3890e-3947-4d41-91a1-4a87f2d33766",
   "metadata": {
    "scrolled": true,
    "tags": []
   },
   "outputs": [
    {
     "name": "stdout",
     "output_type": "stream",
     "text": [
      "google: 129283\n",
      "(direct): 59026\n",
      "youtube: 52876\n",
      "Partners: 5369\n",
      "facebook: 747\n",
      "bing: 704\n",
      "reddit: 683\n",
      "qiita.com: 548\n",
      "quora: 503\n",
      "baidu: 474\n",
      "dfa: 436\n",
      "away.vk.com: 379\n",
      "yahoo: 301\n",
      "blog.golang.org: 186\n",
      "dealspotr.com: 93\n",
      "lunametrics.com: 81\n",
      "duckduckgo.com: 75\n",
      "t.co: 64\n",
      "linkedin.com: 45\n",
      "sashihara.jp: 44\n",
      "int.search.tb.ask.com: 39\n",
      "aulagrado.esic.edu: 36\n",
      "outlook.live.com: 31\n",
      "online-metrics.com: 26\n",
      "ask: 25\n",
      "pinterest.com: 21\n",
      "l.messenger.com: 17\n",
      "phandroid.com: 17\n",
      "learn.pct.edu: 16\n",
      "msn.com: 15\n",
      "myasucourses.asu.edu: 11\n",
      "vk.com: 11\n",
      "arstechnica.com: 8\n",
      "github.com: 7\n",
      "r.search.aol.com: 7\n",
      "bluequill.franklin.edu: 6\n",
      "s0.2mdn.net: 6\n",
      "gophergala.com: 6\n",
      "search.xfinity.com: 5\n",
      "evernote.com: 4\n",
      "web.whatsapp.com: 4\n",
      "search.tb.ask.com: 3\n",
      "startpage.com: 3\n",
      "businessinsider.com: 3\n",
      "search.1and1.com: 3\n",
      "it.pinterest.com: 3\n",
      "online.fullsail.edu: 3\n",
      "learn.colorado.edu: 3\n",
      "go.mail.ru: 2\n",
      "wikihow.com: 2\n",
      "search.mysearch.com: 2\n",
      "chatwork.com: 2\n",
      "blackboard.bentley.edu: 2\n",
      "kik.com: 2\n",
      "getpocket.com: 2\n",
      "lisham-web.blogspot.com: 1\n",
      "search.snapdo.com: 1\n",
      "basecamp.com: 1\n",
      "marketingland.com: 1\n",
      "suche.t-online.de: 1\n",
      "yandex: 1\n",
      "results.searchlock.com: 1\n",
      "seroundtable.com: 1\n",
      "web.telegram.org: 1\n",
      "mail.aol.com: 1\n",
      "nl.pinterest.com: 1\n",
      "ru.pinterest.com: 1\n",
      "so.com: 1\n",
      "search.earthlink.net: 1\n",
      "cz.pinterest.com: 1\n",
      "kidrex.org: 1\n",
      "de.wow.com: 1\n",
      "mail1.swic.edu: 1\n",
      "feedly.com: 1\n"
     ]
    }
   ],
   "source": [
    "counts = x_train['traffic_source'].value_counts()\n",
    "for value, count in counts.items():\n",
    "    print(f\"{value}: {count}\")"
   ]
  },
  {
   "cell_type": "markdown",
   "id": "23994733-f1fd-4004-a854-87a5ad4ae922",
   "metadata": {},
   "source": [
    "## New Category: 'others'"
   ]
  },
  {
   "cell_type": "code",
   "execution_count": 49,
   "id": "f248685c-43ed-4768-8850-03758010331e",
   "metadata": {},
   "outputs": [],
   "source": [
    "cols = ['browser', 'OS', 'subcontinent', 'traffic_source']\n",
    "\n",
    "threshold = 100\n",
    "\n",
    "for col in cols:\n",
    "    x_train[col] = x_train[col].where(x_train[col].map(x_train[col].value_counts()) >= threshold, 'others')\n",
    "    \n",
    "for col in cols:\n",
    "    test_df[col] = test_df[col].where(test_df[col].map(test_df[col].value_counts()) >= threshold, 'others')"
   ]
  },
  {
   "cell_type": "markdown",
   "id": "48d643e7",
   "metadata": {},
   "source": [
    "## keyword 및 refferal_path 처리"
   ]
  },
  {
   "cell_type": "code",
   "execution_count": 50,
   "id": "451200e8",
   "metadata": {},
   "outputs": [],
   "source": [
    "import re\n",
    "\n",
    "def extract_category(keyword):\n",
    "    if isinstance(keyword, str):\n",
    "        match = re.search(r'Category\\d+', keyword)\n",
    "        if match:\n",
    "            return match.group(0)\n",
    "    return keyword\n",
    "\n",
    "x_train['keyword'] = x_train['keyword'].apply(extract_category)\n",
    "x_train['keyword'] = x_train['keyword'].fillna('others')\n",
    "x_train['keyword'].unique()\n",
    "\n",
    "test_df['keyword'] = test_df['keyword'].apply(extract_category)\n",
    "test_df['keyword'] = test_df['keyword'].fillna('others')"
   ]
  },
  {
   "cell_type": "code",
   "execution_count": 51,
   "id": "cc772ef5",
   "metadata": {},
   "outputs": [
    {
     "data": {
      "text/plain": [
       "array(['Others', 'Category6', 'Category7', 'Category5', 'Category11',\n",
       "       'Category8', 'Category9', 'Category13', 'Category1', 'Category2',\n",
       "       'Category3', 'Category4', 'Category12', 'Category10'], dtype=object)"
      ]
     },
     "execution_count": 51,
     "metadata": {},
     "output_type": "execute_result"
    }
   ],
   "source": [
    "x_train['referral_path'] = x_train['referral_path'].apply(extract_category)\n",
    "x_train['referral_path'] = x_train['referral_path'].fillna('Others')\n",
    "x_train['referral_path'].unique()"
   ]
  },
  {
   "cell_type": "code",
   "execution_count": 52,
   "id": "72f7177c",
   "metadata": {},
   "outputs": [
    {
     "data": {
      "text/plain": [
       "array(['Category1', 'Others', 'Category2', 'Category11', 'Category3',\n",
       "       'Category10', 'Category6', 'Category8', 'Category5', 'Category12',\n",
       "       'Category13', 'Category7', 'Category9', 'Category4'], dtype=object)"
      ]
     },
     "execution_count": 52,
     "metadata": {},
     "output_type": "execute_result"
    }
   ],
   "source": [
    "test_df['referral_path'] = test_df['referral_path'].apply(extract_category)\n",
    "test_df['referral_path'] = test_df['referral_path'].fillna('Others')\n",
    "test_df['referral_path'].unique()"
   ]
  },
  {
   "cell_type": "code",
   "execution_count": 53,
   "id": "8a31d168",
   "metadata": {},
   "outputs": [
    {
     "data": {
      "text/html": [
       "<div>\n",
       "<style scoped>\n",
       "    .dataframe tbody tr th:only-of-type {\n",
       "        vertical-align: middle;\n",
       "    }\n",
       "\n",
       "    .dataframe tbody tr th {\n",
       "        vertical-align: top;\n",
       "    }\n",
       "\n",
       "    .dataframe thead th {\n",
       "        text-align: right;\n",
       "    }\n",
       "</style>\n",
       "<table border=\"1\" class=\"dataframe\">\n",
       "  <thead>\n",
       "    <tr style=\"text-align: right;\">\n",
       "      <th></th>\n",
       "      <th>browser</th>\n",
       "      <th>OS</th>\n",
       "      <th>device</th>\n",
       "      <th>new</th>\n",
       "      <th>quality</th>\n",
       "      <th>duration</th>\n",
       "      <th>bounced</th>\n",
       "      <th>transaction</th>\n",
       "      <th>transaction_revenue</th>\n",
       "      <th>continent</th>\n",
       "      <th>subcontinent</th>\n",
       "      <th>country</th>\n",
       "      <th>traffic_source</th>\n",
       "      <th>traffic_medium</th>\n",
       "      <th>keyword</th>\n",
       "      <th>referral_path</th>\n",
       "    </tr>\n",
       "  </thead>\n",
       "  <tbody>\n",
       "    <tr>\n",
       "      <th>0</th>\n",
       "      <td>Chrome</td>\n",
       "      <td>Linux</td>\n",
       "      <td>desktop</td>\n",
       "      <td>1</td>\n",
       "      <td>75.0</td>\n",
       "      <td>698.0</td>\n",
       "      <td>0</td>\n",
       "      <td>0.0</td>\n",
       "      <td>0.0</td>\n",
       "      <td>Americas</td>\n",
       "      <td>Northern America</td>\n",
       "      <td>United States</td>\n",
       "      <td>(direct)</td>\n",
       "      <td>(none)</td>\n",
       "      <td>others</td>\n",
       "      <td>Category1</td>\n",
       "    </tr>\n",
       "    <tr>\n",
       "      <th>1</th>\n",
       "      <td>Safari</td>\n",
       "      <td>iOS</td>\n",
       "      <td>tablet</td>\n",
       "      <td>0</td>\n",
       "      <td>1.0</td>\n",
       "      <td>0.0</td>\n",
       "      <td>1</td>\n",
       "      <td>0.0</td>\n",
       "      <td>0.0</td>\n",
       "      <td>Americas</td>\n",
       "      <td>Northern America</td>\n",
       "      <td>United States</td>\n",
       "      <td>google</td>\n",
       "      <td>organic</td>\n",
       "      <td>Category8</td>\n",
       "      <td>Others</td>\n",
       "    </tr>\n",
       "    <tr>\n",
       "      <th>2</th>\n",
       "      <td>Chrome</td>\n",
       "      <td>Windows</td>\n",
       "      <td>desktop</td>\n",
       "      <td>1</td>\n",
       "      <td>1.0</td>\n",
       "      <td>33.0</td>\n",
       "      <td>0</td>\n",
       "      <td>0.0</td>\n",
       "      <td>0.0</td>\n",
       "      <td>Asia</td>\n",
       "      <td>Southern Asia</td>\n",
       "      <td>India</td>\n",
       "      <td>youtube</td>\n",
       "      <td>referral</td>\n",
       "      <td>others</td>\n",
       "      <td>Category2</td>\n",
       "    </tr>\n",
       "    <tr>\n",
       "      <th>3</th>\n",
       "      <td>Chrome</td>\n",
       "      <td>Android</td>\n",
       "      <td>mobile</td>\n",
       "      <td>1</td>\n",
       "      <td>1.0</td>\n",
       "      <td>76.0</td>\n",
       "      <td>0</td>\n",
       "      <td>0.0</td>\n",
       "      <td>0.0</td>\n",
       "      <td>Americas</td>\n",
       "      <td>Northern America</td>\n",
       "      <td>United States</td>\n",
       "      <td>google</td>\n",
       "      <td>organic</td>\n",
       "      <td>Category8</td>\n",
       "      <td>Others</td>\n",
       "    </tr>\n",
       "    <tr>\n",
       "      <th>4</th>\n",
       "      <td>Internet Explorer</td>\n",
       "      <td>others</td>\n",
       "      <td>mobile</td>\n",
       "      <td>1</td>\n",
       "      <td>2.0</td>\n",
       "      <td>372.0</td>\n",
       "      <td>0</td>\n",
       "      <td>0.0</td>\n",
       "      <td>0.0</td>\n",
       "      <td>Asia</td>\n",
       "      <td>Southern Asia</td>\n",
       "      <td>India</td>\n",
       "      <td>youtube</td>\n",
       "      <td>referral</td>\n",
       "      <td>others</td>\n",
       "      <td>Category11</td>\n",
       "    </tr>\n",
       "  </tbody>\n",
       "</table>\n",
       "</div>"
      ],
      "text/plain": [
       "             browser       OS   device  new  quality  duration  bounced  \\\n",
       "0             Chrome    Linux  desktop    1     75.0     698.0        0   \n",
       "1             Safari      iOS   tablet    0      1.0       0.0        1   \n",
       "2             Chrome  Windows  desktop    1      1.0      33.0        0   \n",
       "3             Chrome  Android   mobile    1      1.0      76.0        0   \n",
       "4  Internet Explorer   others   mobile    1      2.0     372.0        0   \n",
       "\n",
       "   transaction  transaction_revenue continent      subcontinent  \\\n",
       "0          0.0                  0.0  Americas  Northern America   \n",
       "1          0.0                  0.0  Americas  Northern America   \n",
       "2          0.0                  0.0      Asia     Southern Asia   \n",
       "3          0.0                  0.0  Americas  Northern America   \n",
       "4          0.0                  0.0      Asia     Southern Asia   \n",
       "\n",
       "         country traffic_source traffic_medium    keyword referral_path  \n",
       "0  United States       (direct)         (none)     others     Category1  \n",
       "1  United States         google        organic  Category8        Others  \n",
       "2          India        youtube       referral     others     Category2  \n",
       "3  United States         google        organic  Category8        Others  \n",
       "4          India        youtube       referral     others    Category11  "
      ]
     },
     "execution_count": 53,
     "metadata": {},
     "output_type": "execute_result"
    }
   ],
   "source": [
    "test_df.head()"
   ]
  },
  {
   "cell_type": "markdown",
   "id": "feace49c-4e02-45f6-8ca4-675a4e29a6be",
   "metadata": {},
   "source": [
    "## Encoding"
   ]
  },
  {
   "cell_type": "code",
   "execution_count": 54,
   "id": "a322b3cd-8a34-4f3f-a882-40cd9cfd1aea",
   "metadata": {},
   "outputs": [
    {
     "name": "stderr",
     "output_type": "stream",
     "text": [
      "C:\\Users\\taeho\\anaconda3\\Lib\\site-packages\\sklearn\\preprocessing\\_encoders.py:972: FutureWarning: `sparse` was renamed to `sparse_output` in version 1.2 and will be removed in 1.4. `sparse_output` is ignored unless you leave `sparse` to its default value.\n",
      "  warnings.warn(\n"
     ]
    },
    {
     "data": {
      "text/html": [
       "<div>\n",
       "<style scoped>\n",
       "    .dataframe tbody tr th:only-of-type {\n",
       "        vertical-align: middle;\n",
       "    }\n",
       "\n",
       "    .dataframe tbody tr th {\n",
       "        vertical-align: top;\n",
       "    }\n",
       "\n",
       "    .dataframe thead th {\n",
       "        text-align: right;\n",
       "    }\n",
       "</style>\n",
       "<table border=\"1\" class=\"dataframe\">\n",
       "  <thead>\n",
       "    <tr style=\"text-align: right;\">\n",
       "      <th></th>\n",
       "      <th>browser_Amazon Silk</th>\n",
       "      <th>browser_Android Browser</th>\n",
       "      <th>browser_Android Webview</th>\n",
       "      <th>browser_Chrome</th>\n",
       "      <th>browser_Coc Coc</th>\n",
       "      <th>browser_Edge</th>\n",
       "      <th>browser_Firefox</th>\n",
       "      <th>browser_Internet Explorer</th>\n",
       "      <th>browser_Mozilla Compatible Agent</th>\n",
       "      <th>browser_Opera</th>\n",
       "      <th>...</th>\n",
       "      <th>keyword_Category12</th>\n",
       "      <th>keyword_Category2</th>\n",
       "      <th>keyword_Category3</th>\n",
       "      <th>keyword_Category4</th>\n",
       "      <th>keyword_Category5</th>\n",
       "      <th>keyword_Category6</th>\n",
       "      <th>keyword_Category7</th>\n",
       "      <th>keyword_Category8</th>\n",
       "      <th>keyword_Category9</th>\n",
       "      <th>keyword_others</th>\n",
       "    </tr>\n",
       "  </thead>\n",
       "  <tbody>\n",
       "    <tr>\n",
       "      <th>0</th>\n",
       "      <td>0.0</td>\n",
       "      <td>0.0</td>\n",
       "      <td>0.0</td>\n",
       "      <td>1.0</td>\n",
       "      <td>0.0</td>\n",
       "      <td>0.0</td>\n",
       "      <td>0.0</td>\n",
       "      <td>0.0</td>\n",
       "      <td>0.0</td>\n",
       "      <td>0.0</td>\n",
       "      <td>...</td>\n",
       "      <td>0.0</td>\n",
       "      <td>0.0</td>\n",
       "      <td>0.0</td>\n",
       "      <td>0.0</td>\n",
       "      <td>0.0</td>\n",
       "      <td>0.0</td>\n",
       "      <td>0.0</td>\n",
       "      <td>1.0</td>\n",
       "      <td>0.0</td>\n",
       "      <td>0.0</td>\n",
       "    </tr>\n",
       "    <tr>\n",
       "      <th>1</th>\n",
       "      <td>0.0</td>\n",
       "      <td>0.0</td>\n",
       "      <td>0.0</td>\n",
       "      <td>1.0</td>\n",
       "      <td>0.0</td>\n",
       "      <td>0.0</td>\n",
       "      <td>0.0</td>\n",
       "      <td>0.0</td>\n",
       "      <td>0.0</td>\n",
       "      <td>0.0</td>\n",
       "      <td>...</td>\n",
       "      <td>0.0</td>\n",
       "      <td>0.0</td>\n",
       "      <td>0.0</td>\n",
       "      <td>0.0</td>\n",
       "      <td>0.0</td>\n",
       "      <td>0.0</td>\n",
       "      <td>0.0</td>\n",
       "      <td>1.0</td>\n",
       "      <td>0.0</td>\n",
       "      <td>0.0</td>\n",
       "    </tr>\n",
       "    <tr>\n",
       "      <th>2</th>\n",
       "      <td>0.0</td>\n",
       "      <td>0.0</td>\n",
       "      <td>0.0</td>\n",
       "      <td>0.0</td>\n",
       "      <td>0.0</td>\n",
       "      <td>0.0</td>\n",
       "      <td>0.0</td>\n",
       "      <td>0.0</td>\n",
       "      <td>0.0</td>\n",
       "      <td>0.0</td>\n",
       "      <td>...</td>\n",
       "      <td>0.0</td>\n",
       "      <td>0.0</td>\n",
       "      <td>0.0</td>\n",
       "      <td>0.0</td>\n",
       "      <td>0.0</td>\n",
       "      <td>0.0</td>\n",
       "      <td>0.0</td>\n",
       "      <td>0.0</td>\n",
       "      <td>0.0</td>\n",
       "      <td>1.0</td>\n",
       "    </tr>\n",
       "    <tr>\n",
       "      <th>3</th>\n",
       "      <td>0.0</td>\n",
       "      <td>0.0</td>\n",
       "      <td>0.0</td>\n",
       "      <td>1.0</td>\n",
       "      <td>0.0</td>\n",
       "      <td>0.0</td>\n",
       "      <td>0.0</td>\n",
       "      <td>0.0</td>\n",
       "      <td>0.0</td>\n",
       "      <td>0.0</td>\n",
       "      <td>...</td>\n",
       "      <td>0.0</td>\n",
       "      <td>0.0</td>\n",
       "      <td>0.0</td>\n",
       "      <td>0.0</td>\n",
       "      <td>0.0</td>\n",
       "      <td>0.0</td>\n",
       "      <td>0.0</td>\n",
       "      <td>0.0</td>\n",
       "      <td>0.0</td>\n",
       "      <td>1.0</td>\n",
       "    </tr>\n",
       "    <tr>\n",
       "      <th>4</th>\n",
       "      <td>0.0</td>\n",
       "      <td>0.0</td>\n",
       "      <td>0.0</td>\n",
       "      <td>1.0</td>\n",
       "      <td>0.0</td>\n",
       "      <td>0.0</td>\n",
       "      <td>0.0</td>\n",
       "      <td>0.0</td>\n",
       "      <td>0.0</td>\n",
       "      <td>0.0</td>\n",
       "      <td>...</td>\n",
       "      <td>0.0</td>\n",
       "      <td>0.0</td>\n",
       "      <td>0.0</td>\n",
       "      <td>0.0</td>\n",
       "      <td>0.0</td>\n",
       "      <td>0.0</td>\n",
       "      <td>0.0</td>\n",
       "      <td>0.0</td>\n",
       "      <td>0.0</td>\n",
       "      <td>1.0</td>\n",
       "    </tr>\n",
       "  </tbody>\n",
       "</table>\n",
       "<p>5 rows × 312 columns</p>\n",
       "</div>"
      ],
      "text/plain": [
       "   browser_Amazon Silk  browser_Android Browser  browser_Android Webview  \\\n",
       "0                  0.0                      0.0                      0.0   \n",
       "1                  0.0                      0.0                      0.0   \n",
       "2                  0.0                      0.0                      0.0   \n",
       "3                  0.0                      0.0                      0.0   \n",
       "4                  0.0                      0.0                      0.0   \n",
       "\n",
       "   browser_Chrome  browser_Coc Coc  browser_Edge  browser_Firefox  \\\n",
       "0             1.0              0.0           0.0              0.0   \n",
       "1             1.0              0.0           0.0              0.0   \n",
       "2             0.0              0.0           0.0              0.0   \n",
       "3             1.0              0.0           0.0              0.0   \n",
       "4             1.0              0.0           0.0              0.0   \n",
       "\n",
       "   browser_Internet Explorer  browser_Mozilla Compatible Agent  browser_Opera  \\\n",
       "0                        0.0                               0.0            0.0   \n",
       "1                        0.0                               0.0            0.0   \n",
       "2                        0.0                               0.0            0.0   \n",
       "3                        0.0                               0.0            0.0   \n",
       "4                        0.0                               0.0            0.0   \n",
       "\n",
       "   ...  keyword_Category12  keyword_Category2  keyword_Category3  \\\n",
       "0  ...                 0.0                0.0                0.0   \n",
       "1  ...                 0.0                0.0                0.0   \n",
       "2  ...                 0.0                0.0                0.0   \n",
       "3  ...                 0.0                0.0                0.0   \n",
       "4  ...                 0.0                0.0                0.0   \n",
       "\n",
       "   keyword_Category4  keyword_Category5  keyword_Category6  keyword_Category7  \\\n",
       "0                0.0                0.0                0.0                0.0   \n",
       "1                0.0                0.0                0.0                0.0   \n",
       "2                0.0                0.0                0.0                0.0   \n",
       "3                0.0                0.0                0.0                0.0   \n",
       "4                0.0                0.0                0.0                0.0   \n",
       "\n",
       "   keyword_Category8  keyword_Category9  keyword_others  \n",
       "0                1.0                0.0             0.0  \n",
       "1                1.0                0.0             0.0  \n",
       "2                0.0                0.0             1.0  \n",
       "3                0.0                0.0             1.0  \n",
       "4                0.0                0.0             1.0  \n",
       "\n",
       "[5 rows x 312 columns]"
      ]
     },
     "metadata": {},
     "output_type": "display_data"
    },
    {
     "data": {
      "text/html": [
       "<div>\n",
       "<style scoped>\n",
       "    .dataframe tbody tr th:only-of-type {\n",
       "        vertical-align: middle;\n",
       "    }\n",
       "\n",
       "    .dataframe tbody tr th {\n",
       "        vertical-align: top;\n",
       "    }\n",
       "\n",
       "    .dataframe thead th {\n",
       "        text-align: right;\n",
       "    }\n",
       "</style>\n",
       "<table border=\"1\" class=\"dataframe\">\n",
       "  <thead>\n",
       "    <tr style=\"text-align: right;\">\n",
       "      <th></th>\n",
       "      <th>browser_Amazon Silk</th>\n",
       "      <th>browser_Android Browser</th>\n",
       "      <th>browser_Android Webview</th>\n",
       "      <th>browser_Chrome</th>\n",
       "      <th>browser_Coc Coc</th>\n",
       "      <th>browser_Edge</th>\n",
       "      <th>browser_Firefox</th>\n",
       "      <th>browser_Internet Explorer</th>\n",
       "      <th>browser_Mozilla Compatible Agent</th>\n",
       "      <th>browser_Opera</th>\n",
       "      <th>...</th>\n",
       "      <th>keyword_Category12</th>\n",
       "      <th>keyword_Category2</th>\n",
       "      <th>keyword_Category3</th>\n",
       "      <th>keyword_Category4</th>\n",
       "      <th>keyword_Category5</th>\n",
       "      <th>keyword_Category6</th>\n",
       "      <th>keyword_Category7</th>\n",
       "      <th>keyword_Category8</th>\n",
       "      <th>keyword_Category9</th>\n",
       "      <th>keyword_others</th>\n",
       "    </tr>\n",
       "  </thead>\n",
       "  <tbody>\n",
       "    <tr>\n",
       "      <th>0</th>\n",
       "      <td>0.0</td>\n",
       "      <td>0.0</td>\n",
       "      <td>0.0</td>\n",
       "      <td>1.0</td>\n",
       "      <td>0.0</td>\n",
       "      <td>0.0</td>\n",
       "      <td>0.0</td>\n",
       "      <td>0.0</td>\n",
       "      <td>0.0</td>\n",
       "      <td>0.0</td>\n",
       "      <td>...</td>\n",
       "      <td>0.0</td>\n",
       "      <td>0.0</td>\n",
       "      <td>0.0</td>\n",
       "      <td>0.0</td>\n",
       "      <td>0.0</td>\n",
       "      <td>0.0</td>\n",
       "      <td>0.0</td>\n",
       "      <td>0.0</td>\n",
       "      <td>0.0</td>\n",
       "      <td>1.0</td>\n",
       "    </tr>\n",
       "    <tr>\n",
       "      <th>1</th>\n",
       "      <td>0.0</td>\n",
       "      <td>0.0</td>\n",
       "      <td>0.0</td>\n",
       "      <td>0.0</td>\n",
       "      <td>0.0</td>\n",
       "      <td>0.0</td>\n",
       "      <td>0.0</td>\n",
       "      <td>0.0</td>\n",
       "      <td>0.0</td>\n",
       "      <td>0.0</td>\n",
       "      <td>...</td>\n",
       "      <td>0.0</td>\n",
       "      <td>0.0</td>\n",
       "      <td>0.0</td>\n",
       "      <td>0.0</td>\n",
       "      <td>0.0</td>\n",
       "      <td>0.0</td>\n",
       "      <td>0.0</td>\n",
       "      <td>1.0</td>\n",
       "      <td>0.0</td>\n",
       "      <td>0.0</td>\n",
       "    </tr>\n",
       "    <tr>\n",
       "      <th>2</th>\n",
       "      <td>0.0</td>\n",
       "      <td>0.0</td>\n",
       "      <td>0.0</td>\n",
       "      <td>1.0</td>\n",
       "      <td>0.0</td>\n",
       "      <td>0.0</td>\n",
       "      <td>0.0</td>\n",
       "      <td>0.0</td>\n",
       "      <td>0.0</td>\n",
       "      <td>0.0</td>\n",
       "      <td>...</td>\n",
       "      <td>0.0</td>\n",
       "      <td>0.0</td>\n",
       "      <td>0.0</td>\n",
       "      <td>0.0</td>\n",
       "      <td>0.0</td>\n",
       "      <td>0.0</td>\n",
       "      <td>0.0</td>\n",
       "      <td>0.0</td>\n",
       "      <td>0.0</td>\n",
       "      <td>1.0</td>\n",
       "    </tr>\n",
       "    <tr>\n",
       "      <th>3</th>\n",
       "      <td>0.0</td>\n",
       "      <td>0.0</td>\n",
       "      <td>0.0</td>\n",
       "      <td>1.0</td>\n",
       "      <td>0.0</td>\n",
       "      <td>0.0</td>\n",
       "      <td>0.0</td>\n",
       "      <td>0.0</td>\n",
       "      <td>0.0</td>\n",
       "      <td>0.0</td>\n",
       "      <td>...</td>\n",
       "      <td>0.0</td>\n",
       "      <td>0.0</td>\n",
       "      <td>0.0</td>\n",
       "      <td>0.0</td>\n",
       "      <td>0.0</td>\n",
       "      <td>0.0</td>\n",
       "      <td>0.0</td>\n",
       "      <td>1.0</td>\n",
       "      <td>0.0</td>\n",
       "      <td>0.0</td>\n",
       "    </tr>\n",
       "    <tr>\n",
       "      <th>4</th>\n",
       "      <td>0.0</td>\n",
       "      <td>0.0</td>\n",
       "      <td>0.0</td>\n",
       "      <td>0.0</td>\n",
       "      <td>0.0</td>\n",
       "      <td>0.0</td>\n",
       "      <td>0.0</td>\n",
       "      <td>1.0</td>\n",
       "      <td>0.0</td>\n",
       "      <td>0.0</td>\n",
       "      <td>...</td>\n",
       "      <td>0.0</td>\n",
       "      <td>0.0</td>\n",
       "      <td>0.0</td>\n",
       "      <td>0.0</td>\n",
       "      <td>0.0</td>\n",
       "      <td>0.0</td>\n",
       "      <td>0.0</td>\n",
       "      <td>0.0</td>\n",
       "      <td>0.0</td>\n",
       "      <td>1.0</td>\n",
       "    </tr>\n",
       "  </tbody>\n",
       "</table>\n",
       "<p>5 rows × 312 columns</p>\n",
       "</div>"
      ],
      "text/plain": [
       "   browser_Amazon Silk  browser_Android Browser  browser_Android Webview  \\\n",
       "0                  0.0                      0.0                      0.0   \n",
       "1                  0.0                      0.0                      0.0   \n",
       "2                  0.0                      0.0                      0.0   \n",
       "3                  0.0                      0.0                      0.0   \n",
       "4                  0.0                      0.0                      0.0   \n",
       "\n",
       "   browser_Chrome  browser_Coc Coc  browser_Edge  browser_Firefox  \\\n",
       "0             1.0              0.0           0.0              0.0   \n",
       "1             0.0              0.0           0.0              0.0   \n",
       "2             1.0              0.0           0.0              0.0   \n",
       "3             1.0              0.0           0.0              0.0   \n",
       "4             0.0              0.0           0.0              0.0   \n",
       "\n",
       "   browser_Internet Explorer  browser_Mozilla Compatible Agent  browser_Opera  \\\n",
       "0                        0.0                               0.0            0.0   \n",
       "1                        0.0                               0.0            0.0   \n",
       "2                        0.0                               0.0            0.0   \n",
       "3                        0.0                               0.0            0.0   \n",
       "4                        1.0                               0.0            0.0   \n",
       "\n",
       "   ...  keyword_Category12  keyword_Category2  keyword_Category3  \\\n",
       "0  ...                 0.0                0.0                0.0   \n",
       "1  ...                 0.0                0.0                0.0   \n",
       "2  ...                 0.0                0.0                0.0   \n",
       "3  ...                 0.0                0.0                0.0   \n",
       "4  ...                 0.0                0.0                0.0   \n",
       "\n",
       "   keyword_Category4  keyword_Category5  keyword_Category6  keyword_Category7  \\\n",
       "0                0.0                0.0                0.0                0.0   \n",
       "1                0.0                0.0                0.0                0.0   \n",
       "2                0.0                0.0                0.0                0.0   \n",
       "3                0.0                0.0                0.0                0.0   \n",
       "4                0.0                0.0                0.0                0.0   \n",
       "\n",
       "   keyword_Category8  keyword_Category9  keyword_others  \n",
       "0                0.0                0.0             1.0  \n",
       "1                1.0                0.0             0.0  \n",
       "2                0.0                0.0             1.0  \n",
       "3                1.0                0.0             0.0  \n",
       "4                0.0                0.0             1.0  \n",
       "\n",
       "[5 rows x 312 columns]"
      ]
     },
     "metadata": {},
     "output_type": "display_data"
    }
   ],
   "source": [
    "# oneHotEncoder vs binaryEncoder\n",
    "\n",
    "from sklearn.preprocessing import OneHotEncoder  \n",
    "\n",
    "categories = ['browser', 'OS', 'device', 'country','continent', 'subcontinent', 'traffic_source', 'traffic_medium', 'referral_path', 'keyword']\n",
    "\n",
    "encoder = OneHotEncoder(sparse = False, handle_unknown = 'ignore')   # drop = 'first'\n",
    "\n",
    "train_encoded_df = pd.DataFrame(encoder.fit_transform(x_train[categories]) , columns=encoder.get_feature_names_out(categories))\n",
    "display(train_encoded_df.head())\n",
    "\n",
    "try :\n",
    "    test_encoded_df = pd.DataFrame(encoder.transform(test_df[categories]), columns=encoder.get_feature_names_out(categories))\n",
    "    display(test_encoded_df.head())\n",
    "\n",
    "except Exception as e:\n",
    "    print(f\"Error : {e}\")"
   ]
  },
  {
   "cell_type": "markdown",
   "id": "e8cc18c5-d516-4227-a297-5929d01d4016",
   "metadata": {},
   "source": [
    "## z-score normalization"
   ]
  },
  {
   "cell_type": "code",
   "execution_count": 55,
   "id": "15de5829-0449-4fe4-a23f-790942da8c3e",
   "metadata": {},
   "outputs": [
    {
     "data": {
      "text/html": [
       "<div>\n",
       "<style scoped>\n",
       "    .dataframe tbody tr th:only-of-type {\n",
       "        vertical-align: middle;\n",
       "    }\n",
       "\n",
       "    .dataframe tbody tr th {\n",
       "        vertical-align: top;\n",
       "    }\n",
       "\n",
       "    .dataframe thead th {\n",
       "        text-align: right;\n",
       "    }\n",
       "</style>\n",
       "<table border=\"1\" class=\"dataframe\">\n",
       "  <thead>\n",
       "    <tr style=\"text-align: right;\">\n",
       "      <th></th>\n",
       "      <th>quality</th>\n",
       "      <th>duration</th>\n",
       "      <th>transaction</th>\n",
       "      <th>transaction_revenue</th>\n",
       "    </tr>\n",
       "  </thead>\n",
       "  <tbody>\n",
       "    <tr>\n",
       "      <th>0</th>\n",
       "      <td>3.713206</td>\n",
       "      <td>2.193865</td>\n",
       "      <td>-0.089494</td>\n",
       "      <td>-0.042587</td>\n",
       "    </tr>\n",
       "    <tr>\n",
       "      <th>1</th>\n",
       "      <td>-0.253972</td>\n",
       "      <td>-0.223964</td>\n",
       "      <td>-0.089494</td>\n",
       "      <td>-0.042587</td>\n",
       "    </tr>\n",
       "    <tr>\n",
       "      <th>2</th>\n",
       "      <td>-0.253972</td>\n",
       "      <td>-0.341833</td>\n",
       "      <td>-0.089494</td>\n",
       "      <td>-0.042587</td>\n",
       "    </tr>\n",
       "    <tr>\n",
       "      <th>3</th>\n",
       "      <td>-0.253972</td>\n",
       "      <td>-0.341833</td>\n",
       "      <td>-0.089494</td>\n",
       "      <td>-0.042587</td>\n",
       "    </tr>\n",
       "    <tr>\n",
       "      <th>4</th>\n",
       "      <td>-0.253972</td>\n",
       "      <td>-0.341833</td>\n",
       "      <td>-0.089494</td>\n",
       "      <td>-0.042587</td>\n",
       "    </tr>\n",
       "  </tbody>\n",
       "</table>\n",
       "</div>"
      ],
      "text/plain": [
       "    quality  duration  transaction  transaction_revenue\n",
       "0  3.713206  2.193865    -0.089494            -0.042587\n",
       "1 -0.253972 -0.223964    -0.089494            -0.042587\n",
       "2 -0.253972 -0.341833    -0.089494            -0.042587\n",
       "3 -0.253972 -0.341833    -0.089494            -0.042587\n",
       "4 -0.253972 -0.341833    -0.089494            -0.042587"
      ]
     },
     "metadata": {},
     "output_type": "display_data"
    },
    {
     "data": {
      "text/html": [
       "<div>\n",
       "<style scoped>\n",
       "    .dataframe tbody tr th:only-of-type {\n",
       "        vertical-align: middle;\n",
       "    }\n",
       "\n",
       "    .dataframe tbody tr th {\n",
       "        vertical-align: top;\n",
       "    }\n",
       "\n",
       "    .dataframe thead th {\n",
       "        text-align: right;\n",
       "    }\n",
       "</style>\n",
       "<table border=\"1\" class=\"dataframe\">\n",
       "  <thead>\n",
       "    <tr style=\"text-align: right;\">\n",
       "      <th></th>\n",
       "      <th>quality</th>\n",
       "      <th>duration</th>\n",
       "      <th>transaction</th>\n",
       "      <th>transaction_revenue</th>\n",
       "    </tr>\n",
       "  </thead>\n",
       "  <tbody>\n",
       "    <tr>\n",
       "      <th>0</th>\n",
       "      <td>6.418101</td>\n",
       "      <td>1.767722</td>\n",
       "      <td>-0.089494</td>\n",
       "      <td>-0.042587</td>\n",
       "    </tr>\n",
       "    <tr>\n",
       "      <th>1</th>\n",
       "      <td>-0.253972</td>\n",
       "      <td>-0.341833</td>\n",
       "      <td>-0.089494</td>\n",
       "      <td>-0.042587</td>\n",
       "    </tr>\n",
       "    <tr>\n",
       "      <th>2</th>\n",
       "      <td>-0.253972</td>\n",
       "      <td>-0.242098</td>\n",
       "      <td>-0.089494</td>\n",
       "      <td>-0.042587</td>\n",
       "    </tr>\n",
       "    <tr>\n",
       "      <th>3</th>\n",
       "      <td>-0.253972</td>\n",
       "      <td>-0.112140</td>\n",
       "      <td>-0.089494</td>\n",
       "      <td>-0.042587</td>\n",
       "    </tr>\n",
       "    <tr>\n",
       "      <th>4</th>\n",
       "      <td>-0.163809</td>\n",
       "      <td>0.782457</td>\n",
       "      <td>-0.089494</td>\n",
       "      <td>-0.042587</td>\n",
       "    </tr>\n",
       "  </tbody>\n",
       "</table>\n",
       "</div>"
      ],
      "text/plain": [
       "    quality  duration  transaction  transaction_revenue\n",
       "0  6.418101  1.767722    -0.089494            -0.042587\n",
       "1 -0.253972 -0.341833    -0.089494            -0.042587\n",
       "2 -0.253972 -0.242098    -0.089494            -0.042587\n",
       "3 -0.253972 -0.112140    -0.089494            -0.042587\n",
       "4 -0.163809  0.782457    -0.089494            -0.042587"
      ]
     },
     "metadata": {},
     "output_type": "display_data"
    }
   ],
   "source": [
    "from sklearn.preprocessing import StandardScaler\n",
    "\n",
    "continuous_col = ['quality', 'duration', 'transaction', 'transaction_revenue']\n",
    "\n",
    "# train\n",
    "scaler = StandardScaler()\n",
    "train_scaled_df = pd.DataFrame(scaler.fit_transform(x_train[continuous_col]), index=x_train.index, columns=continuous_col)\n",
    "display(train_scaled_df.head())\n",
    "\n",
    "# test\n",
    "test_scaled_df = pd.DataFrame(scaler.transform(test_df[continuous_col]), index=test_df.index, columns=continuous_col)\n",
    "display(test_scaled_df.head())"
   ]
  },
  {
   "cell_type": "markdown",
   "id": "1a159c1e-1e13-4d8f-b153-4dc6fccc514b",
   "metadata": {},
   "source": [
    "## Final Dataset"
   ]
  },
  {
   "cell_type": "code",
   "execution_count": 56,
   "id": "20805187-f1be-4326-a7f6-cffedeaa7246",
   "metadata": {
    "scrolled": true
   },
   "outputs": [
    {
     "data": {
      "text/html": [
       "<div>\n",
       "<style scoped>\n",
       "    .dataframe tbody tr th:only-of-type {\n",
       "        vertical-align: middle;\n",
       "    }\n",
       "\n",
       "    .dataframe tbody tr th {\n",
       "        vertical-align: top;\n",
       "    }\n",
       "\n",
       "    .dataframe thead th {\n",
       "        text-align: right;\n",
       "    }\n",
       "</style>\n",
       "<table border=\"1\" class=\"dataframe\">\n",
       "  <thead>\n",
       "    <tr style=\"text-align: right;\">\n",
       "      <th></th>\n",
       "      <th>browser_Amazon Silk</th>\n",
       "      <th>browser_Android Browser</th>\n",
       "      <th>browser_Android Webview</th>\n",
       "      <th>browser_Chrome</th>\n",
       "      <th>browser_Coc Coc</th>\n",
       "      <th>browser_Edge</th>\n",
       "      <th>browser_Firefox</th>\n",
       "      <th>browser_Internet Explorer</th>\n",
       "      <th>browser_Mozilla Compatible Agent</th>\n",
       "      <th>browser_Opera</th>\n",
       "      <th>...</th>\n",
       "      <th>keyword_Category7</th>\n",
       "      <th>keyword_Category8</th>\n",
       "      <th>keyword_Category9</th>\n",
       "      <th>keyword_others</th>\n",
       "      <th>quality</th>\n",
       "      <th>duration</th>\n",
       "      <th>transaction</th>\n",
       "      <th>transaction_revenue</th>\n",
       "      <th>bounced</th>\n",
       "      <th>new</th>\n",
       "    </tr>\n",
       "  </thead>\n",
       "  <tbody>\n",
       "    <tr>\n",
       "      <th>0</th>\n",
       "      <td>0.0</td>\n",
       "      <td>0.0</td>\n",
       "      <td>0.0</td>\n",
       "      <td>1.0</td>\n",
       "      <td>0.0</td>\n",
       "      <td>0.0</td>\n",
       "      <td>0.0</td>\n",
       "      <td>0.0</td>\n",
       "      <td>0.0</td>\n",
       "      <td>0.0</td>\n",
       "      <td>...</td>\n",
       "      <td>0.0</td>\n",
       "      <td>1.0</td>\n",
       "      <td>0.0</td>\n",
       "      <td>0.0</td>\n",
       "      <td>3.713206</td>\n",
       "      <td>2.193865</td>\n",
       "      <td>-0.089494</td>\n",
       "      <td>-0.042587</td>\n",
       "      <td>0</td>\n",
       "      <td>0</td>\n",
       "    </tr>\n",
       "    <tr>\n",
       "      <th>1</th>\n",
       "      <td>0.0</td>\n",
       "      <td>0.0</td>\n",
       "      <td>0.0</td>\n",
       "      <td>1.0</td>\n",
       "      <td>0.0</td>\n",
       "      <td>0.0</td>\n",
       "      <td>0.0</td>\n",
       "      <td>0.0</td>\n",
       "      <td>0.0</td>\n",
       "      <td>0.0</td>\n",
       "      <td>...</td>\n",
       "      <td>0.0</td>\n",
       "      <td>1.0</td>\n",
       "      <td>0.0</td>\n",
       "      <td>0.0</td>\n",
       "      <td>-0.253972</td>\n",
       "      <td>-0.223964</td>\n",
       "      <td>-0.089494</td>\n",
       "      <td>-0.042587</td>\n",
       "      <td>0</td>\n",
       "      <td>1</td>\n",
       "    </tr>\n",
       "    <tr>\n",
       "      <th>2</th>\n",
       "      <td>0.0</td>\n",
       "      <td>0.0</td>\n",
       "      <td>0.0</td>\n",
       "      <td>0.0</td>\n",
       "      <td>0.0</td>\n",
       "      <td>0.0</td>\n",
       "      <td>0.0</td>\n",
       "      <td>0.0</td>\n",
       "      <td>0.0</td>\n",
       "      <td>0.0</td>\n",
       "      <td>...</td>\n",
       "      <td>0.0</td>\n",
       "      <td>0.0</td>\n",
       "      <td>0.0</td>\n",
       "      <td>1.0</td>\n",
       "      <td>-0.253972</td>\n",
       "      <td>-0.341833</td>\n",
       "      <td>-0.089494</td>\n",
       "      <td>-0.042587</td>\n",
       "      <td>1</td>\n",
       "      <td>1</td>\n",
       "    </tr>\n",
       "    <tr>\n",
       "      <th>3</th>\n",
       "      <td>0.0</td>\n",
       "      <td>0.0</td>\n",
       "      <td>0.0</td>\n",
       "      <td>1.0</td>\n",
       "      <td>0.0</td>\n",
       "      <td>0.0</td>\n",
       "      <td>0.0</td>\n",
       "      <td>0.0</td>\n",
       "      <td>0.0</td>\n",
       "      <td>0.0</td>\n",
       "      <td>...</td>\n",
       "      <td>0.0</td>\n",
       "      <td>0.0</td>\n",
       "      <td>0.0</td>\n",
       "      <td>1.0</td>\n",
       "      <td>-0.253972</td>\n",
       "      <td>-0.341833</td>\n",
       "      <td>-0.089494</td>\n",
       "      <td>-0.042587</td>\n",
       "      <td>1</td>\n",
       "      <td>1</td>\n",
       "    </tr>\n",
       "    <tr>\n",
       "      <th>4</th>\n",
       "      <td>0.0</td>\n",
       "      <td>0.0</td>\n",
       "      <td>0.0</td>\n",
       "      <td>1.0</td>\n",
       "      <td>0.0</td>\n",
       "      <td>0.0</td>\n",
       "      <td>0.0</td>\n",
       "      <td>0.0</td>\n",
       "      <td>0.0</td>\n",
       "      <td>0.0</td>\n",
       "      <td>...</td>\n",
       "      <td>0.0</td>\n",
       "      <td>0.0</td>\n",
       "      <td>0.0</td>\n",
       "      <td>1.0</td>\n",
       "      <td>-0.253972</td>\n",
       "      <td>-0.341833</td>\n",
       "      <td>-0.089494</td>\n",
       "      <td>-0.042587</td>\n",
       "      <td>1</td>\n",
       "      <td>0</td>\n",
       "    </tr>\n",
       "  </tbody>\n",
       "</table>\n",
       "<p>5 rows × 318 columns</p>\n",
       "</div>"
      ],
      "text/plain": [
       "   browser_Amazon Silk  browser_Android Browser  browser_Android Webview  \\\n",
       "0                  0.0                      0.0                      0.0   \n",
       "1                  0.0                      0.0                      0.0   \n",
       "2                  0.0                      0.0                      0.0   \n",
       "3                  0.0                      0.0                      0.0   \n",
       "4                  0.0                      0.0                      0.0   \n",
       "\n",
       "   browser_Chrome  browser_Coc Coc  browser_Edge  browser_Firefox  \\\n",
       "0             1.0              0.0           0.0              0.0   \n",
       "1             1.0              0.0           0.0              0.0   \n",
       "2             0.0              0.0           0.0              0.0   \n",
       "3             1.0              0.0           0.0              0.0   \n",
       "4             1.0              0.0           0.0              0.0   \n",
       "\n",
       "   browser_Internet Explorer  browser_Mozilla Compatible Agent  browser_Opera  \\\n",
       "0                        0.0                               0.0            0.0   \n",
       "1                        0.0                               0.0            0.0   \n",
       "2                        0.0                               0.0            0.0   \n",
       "3                        0.0                               0.0            0.0   \n",
       "4                        0.0                               0.0            0.0   \n",
       "\n",
       "   ...  keyword_Category7  keyword_Category8  keyword_Category9  \\\n",
       "0  ...                0.0                1.0                0.0   \n",
       "1  ...                0.0                1.0                0.0   \n",
       "2  ...                0.0                0.0                0.0   \n",
       "3  ...                0.0                0.0                0.0   \n",
       "4  ...                0.0                0.0                0.0   \n",
       "\n",
       "   keyword_others   quality  duration  transaction  transaction_revenue  \\\n",
       "0             0.0  3.713206  2.193865    -0.089494            -0.042587   \n",
       "1             0.0 -0.253972 -0.223964    -0.089494            -0.042587   \n",
       "2             1.0 -0.253972 -0.341833    -0.089494            -0.042587   \n",
       "3             1.0 -0.253972 -0.341833    -0.089494            -0.042587   \n",
       "4             1.0 -0.253972 -0.341833    -0.089494            -0.042587   \n",
       "\n",
       "   bounced  new  \n",
       "0        0    0  \n",
       "1        0    1  \n",
       "2        1    1  \n",
       "3        1    1  \n",
       "4        1    0  \n",
       "\n",
       "[5 rows x 318 columns]"
      ]
     },
     "metadata": {},
     "output_type": "display_data"
    },
    {
     "data": {
      "text/html": [
       "<div>\n",
       "<style scoped>\n",
       "    .dataframe tbody tr th:only-of-type {\n",
       "        vertical-align: middle;\n",
       "    }\n",
       "\n",
       "    .dataframe tbody tr th {\n",
       "        vertical-align: top;\n",
       "    }\n",
       "\n",
       "    .dataframe thead th {\n",
       "        text-align: right;\n",
       "    }\n",
       "</style>\n",
       "<table border=\"1\" class=\"dataframe\">\n",
       "  <thead>\n",
       "    <tr style=\"text-align: right;\">\n",
       "      <th></th>\n",
       "      <th>browser_Amazon Silk</th>\n",
       "      <th>browser_Android Browser</th>\n",
       "      <th>browser_Android Webview</th>\n",
       "      <th>browser_Chrome</th>\n",
       "      <th>browser_Coc Coc</th>\n",
       "      <th>browser_Edge</th>\n",
       "      <th>browser_Firefox</th>\n",
       "      <th>browser_Internet Explorer</th>\n",
       "      <th>browser_Mozilla Compatible Agent</th>\n",
       "      <th>browser_Opera</th>\n",
       "      <th>...</th>\n",
       "      <th>keyword_Category7</th>\n",
       "      <th>keyword_Category8</th>\n",
       "      <th>keyword_Category9</th>\n",
       "      <th>keyword_others</th>\n",
       "      <th>quality</th>\n",
       "      <th>duration</th>\n",
       "      <th>transaction</th>\n",
       "      <th>transaction_revenue</th>\n",
       "      <th>bounced</th>\n",
       "      <th>new</th>\n",
       "    </tr>\n",
       "  </thead>\n",
       "  <tbody>\n",
       "    <tr>\n",
       "      <th>0</th>\n",
       "      <td>0.0</td>\n",
       "      <td>0.0</td>\n",
       "      <td>0.0</td>\n",
       "      <td>1.0</td>\n",
       "      <td>0.0</td>\n",
       "      <td>0.0</td>\n",
       "      <td>0.0</td>\n",
       "      <td>0.0</td>\n",
       "      <td>0.0</td>\n",
       "      <td>0.0</td>\n",
       "      <td>...</td>\n",
       "      <td>0.0</td>\n",
       "      <td>0.0</td>\n",
       "      <td>0.0</td>\n",
       "      <td>1.0</td>\n",
       "      <td>6.418101</td>\n",
       "      <td>1.767722</td>\n",
       "      <td>-0.089494</td>\n",
       "      <td>-0.042587</td>\n",
       "      <td>0</td>\n",
       "      <td>1</td>\n",
       "    </tr>\n",
       "    <tr>\n",
       "      <th>1</th>\n",
       "      <td>0.0</td>\n",
       "      <td>0.0</td>\n",
       "      <td>0.0</td>\n",
       "      <td>0.0</td>\n",
       "      <td>0.0</td>\n",
       "      <td>0.0</td>\n",
       "      <td>0.0</td>\n",
       "      <td>0.0</td>\n",
       "      <td>0.0</td>\n",
       "      <td>0.0</td>\n",
       "      <td>...</td>\n",
       "      <td>0.0</td>\n",
       "      <td>1.0</td>\n",
       "      <td>0.0</td>\n",
       "      <td>0.0</td>\n",
       "      <td>-0.253972</td>\n",
       "      <td>-0.341833</td>\n",
       "      <td>-0.089494</td>\n",
       "      <td>-0.042587</td>\n",
       "      <td>1</td>\n",
       "      <td>0</td>\n",
       "    </tr>\n",
       "    <tr>\n",
       "      <th>2</th>\n",
       "      <td>0.0</td>\n",
       "      <td>0.0</td>\n",
       "      <td>0.0</td>\n",
       "      <td>1.0</td>\n",
       "      <td>0.0</td>\n",
       "      <td>0.0</td>\n",
       "      <td>0.0</td>\n",
       "      <td>0.0</td>\n",
       "      <td>0.0</td>\n",
       "      <td>0.0</td>\n",
       "      <td>...</td>\n",
       "      <td>0.0</td>\n",
       "      <td>0.0</td>\n",
       "      <td>0.0</td>\n",
       "      <td>1.0</td>\n",
       "      <td>-0.253972</td>\n",
       "      <td>-0.242098</td>\n",
       "      <td>-0.089494</td>\n",
       "      <td>-0.042587</td>\n",
       "      <td>0</td>\n",
       "      <td>1</td>\n",
       "    </tr>\n",
       "    <tr>\n",
       "      <th>3</th>\n",
       "      <td>0.0</td>\n",
       "      <td>0.0</td>\n",
       "      <td>0.0</td>\n",
       "      <td>1.0</td>\n",
       "      <td>0.0</td>\n",
       "      <td>0.0</td>\n",
       "      <td>0.0</td>\n",
       "      <td>0.0</td>\n",
       "      <td>0.0</td>\n",
       "      <td>0.0</td>\n",
       "      <td>...</td>\n",
       "      <td>0.0</td>\n",
       "      <td>1.0</td>\n",
       "      <td>0.0</td>\n",
       "      <td>0.0</td>\n",
       "      <td>-0.253972</td>\n",
       "      <td>-0.112140</td>\n",
       "      <td>-0.089494</td>\n",
       "      <td>-0.042587</td>\n",
       "      <td>0</td>\n",
       "      <td>1</td>\n",
       "    </tr>\n",
       "    <tr>\n",
       "      <th>4</th>\n",
       "      <td>0.0</td>\n",
       "      <td>0.0</td>\n",
       "      <td>0.0</td>\n",
       "      <td>0.0</td>\n",
       "      <td>0.0</td>\n",
       "      <td>0.0</td>\n",
       "      <td>0.0</td>\n",
       "      <td>1.0</td>\n",
       "      <td>0.0</td>\n",
       "      <td>0.0</td>\n",
       "      <td>...</td>\n",
       "      <td>0.0</td>\n",
       "      <td>0.0</td>\n",
       "      <td>0.0</td>\n",
       "      <td>1.0</td>\n",
       "      <td>-0.163809</td>\n",
       "      <td>0.782457</td>\n",
       "      <td>-0.089494</td>\n",
       "      <td>-0.042587</td>\n",
       "      <td>0</td>\n",
       "      <td>1</td>\n",
       "    </tr>\n",
       "  </tbody>\n",
       "</table>\n",
       "<p>5 rows × 318 columns</p>\n",
       "</div>"
      ],
      "text/plain": [
       "   browser_Amazon Silk  browser_Android Browser  browser_Android Webview  \\\n",
       "0                  0.0                      0.0                      0.0   \n",
       "1                  0.0                      0.0                      0.0   \n",
       "2                  0.0                      0.0                      0.0   \n",
       "3                  0.0                      0.0                      0.0   \n",
       "4                  0.0                      0.0                      0.0   \n",
       "\n",
       "   browser_Chrome  browser_Coc Coc  browser_Edge  browser_Firefox  \\\n",
       "0             1.0              0.0           0.0              0.0   \n",
       "1             0.0              0.0           0.0              0.0   \n",
       "2             1.0              0.0           0.0              0.0   \n",
       "3             1.0              0.0           0.0              0.0   \n",
       "4             0.0              0.0           0.0              0.0   \n",
       "\n",
       "   browser_Internet Explorer  browser_Mozilla Compatible Agent  browser_Opera  \\\n",
       "0                        0.0                               0.0            0.0   \n",
       "1                        0.0                               0.0            0.0   \n",
       "2                        0.0                               0.0            0.0   \n",
       "3                        0.0                               0.0            0.0   \n",
       "4                        1.0                               0.0            0.0   \n",
       "\n",
       "   ...  keyword_Category7  keyword_Category8  keyword_Category9  \\\n",
       "0  ...                0.0                0.0                0.0   \n",
       "1  ...                0.0                1.0                0.0   \n",
       "2  ...                0.0                0.0                0.0   \n",
       "3  ...                0.0                1.0                0.0   \n",
       "4  ...                0.0                0.0                0.0   \n",
       "\n",
       "   keyword_others   quality  duration  transaction  transaction_revenue  \\\n",
       "0             1.0  6.418101  1.767722    -0.089494            -0.042587   \n",
       "1             0.0 -0.253972 -0.341833    -0.089494            -0.042587   \n",
       "2             1.0 -0.253972 -0.242098    -0.089494            -0.042587   \n",
       "3             0.0 -0.253972 -0.112140    -0.089494            -0.042587   \n",
       "4             1.0 -0.163809  0.782457    -0.089494            -0.042587   \n",
       "\n",
       "   bounced  new  \n",
       "0        0    1  \n",
       "1        1    0  \n",
       "2        0    1  \n",
       "3        0    1  \n",
       "4        0    1  \n",
       "\n",
       "[5 rows x 318 columns]"
      ]
     },
     "metadata": {},
     "output_type": "display_data"
    }
   ],
   "source": [
    "# merge all selected columns\n",
    "x_train_fin = pd.concat([train_encoded_df, train_scaled_df,  train_df[['bounced', 'new']]], axis=1)\n",
    "display(x_train_fin.head())\n",
    "\n",
    "x_test_fin = pd.concat([test_encoded_df, test_scaled_df,  test_df[['bounced', 'new']]], axis=1)\n",
    "display(x_test_fin.head())"
   ]
  },
  {
   "cell_type": "code",
   "execution_count": 57,
   "id": "f2450892",
   "metadata": {},
   "outputs": [],
   "source": [
    "# 비율 및 비율 변환\n",
    "x_train_fin['avg_transaction_revenue'] = x_train_fin['transaction_revenue'] / x_train_fin['transaction']\n",
    "x_test_fin['avg_transaction_revenue'] = x_test_fin['transaction_revenue'] / x_test_fin['transaction']\n",
    "\n",
    "# 합산 및 차분\n",
    "x_train_fin['total_engagement'] = x_train_fin['quality'] + x_train_fin['duration'] + x_train_fin['transaction']\n",
    "x_test_fin['total_engagement'] = x_test_fin['quality'] + x_test_fin['duration'] + x_test_fin['transaction']\n",
    "\n",
    "# 상호작용 및 다항식 생성\n",
    "x_train_fin['quality_duration_interaction'] = x_train_fin['quality'] * x_train_fin['duration']\n",
    "x_test_fin['quality_duration_interaction'] = x_test_fin['quality'] * x_test_fin['duration']\n",
    "\n",
    "# 추가 변수 생성\n",
    "x_train_fin['quality_div_duration'] = x_train_fin['quality'] / x_train_fin['duration']\n",
    "x_test_fin['quality_div_duration'] = x_test_fin['quality'] / x_test_fin['duration']\n",
    "\n",
    "x_train_fin['quality_squared'] = x_train_fin['quality'] ** 2\n",
    "x_test_fin['quality_squared'] = x_test_fin['quality'] ** 2\n",
    "\n",
    "x_train_fin['duration_mul_quality'] = x_train_fin['duration'] * x_train_fin['quality']\n",
    "x_test_fin['duration_mul_quality'] = x_test_fin['duration'] * x_test_fin['quality']\n",
    "\n",
    "# 추가적인 변수 조합\n",
    "x_train_fin['engagement_div_transaction'] = x_train_fin['total_engagement'] / x_train_fin['transaction']\n",
    "x_test_fin['engagement_div_transaction'] = x_test_fin['total_engagement'] / x_test_fin['transaction']\n",
    "\n",
    "x_train_fin['quality_div_transaction'] = x_train_fin['quality'] / x_train_fin['transaction']\n",
    "x_test_fin['quality_div_transaction'] = x_test_fin['quality'] / x_test_fin['transaction']\n",
    "\n",
    "# 추가적인 변수 조합\n",
    "x_train_fin['duration_mul_transaction'] = x_train_fin['duration'] * x_train_fin['transaction']\n",
    "x_test_fin['duration_mul_transaction'] = x_test_fin['duration'] * x_test_fin['transaction']\n",
    "\n",
    "x_train_fin['duration_div_quality'] = x_train_fin['duration'] / x_train_fin['quality']\n",
    "x_test_fin['duration_div_quality'] = x_test_fin['duration'] / x_test_fin['quality']\n",
    "\n",
    "x_train_fin['quality_mul_transaction'] = x_train_fin['quality'] * x_train_fin['transaction']\n",
    "x_test_fin['quality_mul_transaction'] = x_test_fin['quality'] * x_test_fin['transaction']\n",
    "\n",
    "x_train_fin['transaction_div_duration'] = x_train_fin['transaction'] / x_train_fin['duration']\n",
    "x_test_fin['transaction_div_duration'] = x_test_fin['transaction'] / x_test_fin['duration']\n",
    "\n",
    "# 추가적인 변수 조합\n",
    "x_train_fin['duration_squared'] = x_train_fin['duration'] ** 2\n",
    "x_test_fin['duration_squared'] = x_test_fin['duration'] ** 2\n",
    "\n",
    "x_train_fin['quality_div_total_engagement'] = x_train_fin['quality'] / x_train_fin['total_engagement']\n",
    "x_test_fin['quality_div_total_engagement'] = x_test_fin['quality'] / x_test_fin['total_engagement']\n",
    "\n",
    "x_train_fin['transaction_div_total_engagement'] = x_train_fin['transaction'] / x_train_fin['total_engagement']\n",
    "x_test_fin['transaction_div_total_engagement'] = x_test_fin['transaction'] / x_test_fin['total_engagement']\n",
    "\n",
    "x_train_fin['total_engagement_mul_duration'] = x_train_fin['total_engagement'] * x_train_fin['duration']\n",
    "x_test_fin['total_engagement_mul_duration'] = x_test_fin['total_engagement'] * x_test_fin['duration']\n",
    "\n",
    "x_train_fin['quality_duration_div_transaction'] = (x_train_fin['quality'] * x_train_fin['duration']) / x_train_fin['transaction']\n",
    "x_test_fin['quality_duration_div_transaction'] = (x_test_fin['quality'] * x_test_fin['duration']) / x_test_fin['transaction']\n",
    "\n",
    "# 새로운 변수 추가 (5개)\n",
    "x_train_fin['duration_div_transaction'] = x_train_fin['duration'] / x_train_fin['transaction']\n",
    "x_test_fin['duration_div_transaction'] = x_test_fin['duration'] / x_test_fin['transaction']\n",
    "\n",
    "x_train_fin['transaction_div_quality'] = x_train_fin['transaction'] / x_train_fin['quality']\n",
    "x_test_fin['transaction_div_quality'] = x_test_fin['transaction'] / x_test_fin['quality']\n",
    "\n",
    "x_train_fin['total_engagement_div_duration'] = x_train_fin['total_engagement'] / x_train_fin['duration']\n",
    "x_test_fin['total_engagement_div_duration'] = x_test_fin['total_engagement'] / x_test_fin['duration']\n",
    "\n",
    "x_train_fin['total_engagement_div_quality'] = x_train_fin['total_engagement'] / x_train_fin['quality']\n",
    "x_test_fin['total_engagement_div_quality'] = x_test_fin['total_engagement'] / x_test_fin['quality']\n",
    "\n",
    "x_train_fin['total_engagement_mul_quality'] = x_train_fin['total_engagement'] * x_train_fin['quality']\n",
    "x_test_fin['total_engagement_mul_quality'] = x_test_fin['total_engagement'] * x_test_fin['quality']\n"
   ]
  },
  {
   "cell_type": "code",
   "execution_count": 58,
   "id": "41f5664f",
   "metadata": {},
   "outputs": [
    {
     "data": {
      "text/plain": [
       "Index(['browser_Amazon Silk', 'browser_Android Browser',\n",
       "       'browser_Android Webview', 'browser_Chrome', 'browser_Coc Coc',\n",
       "       'browser_Edge', 'browser_Firefox', 'browser_Internet Explorer',\n",
       "       'browser_Mozilla Compatible Agent', 'browser_Opera',\n",
       "       ...\n",
       "       'duration_squared', 'quality_div_total_engagement',\n",
       "       'transaction_div_total_engagement', 'total_engagement_mul_duration',\n",
       "       'quality_duration_div_transaction', 'duration_div_transaction',\n",
       "       'transaction_div_quality', 'total_engagement_div_duration',\n",
       "       'total_engagement_div_quality', 'total_engagement_mul_quality'],\n",
       "      dtype='object', length=340)"
      ]
     },
     "execution_count": 58,
     "metadata": {},
     "output_type": "execute_result"
    }
   ],
   "source": [
    "x_train_fin.columns"
   ]
  },
  {
   "cell_type": "code",
   "execution_count": 41,
   "id": "cb64416a",
   "metadata": {},
   "outputs": [
    {
     "name": "stderr",
     "output_type": "stream",
     "text": [
      "[I 2024-03-02 23:20:31,018] A new study created in memory with name: no-name-71a1c159-6677-4144-8375-0aeec91ee84a\n",
      "C:\\Users\\taeho\\AppData\\Local\\Temp\\ipykernel_27840\\1874363896.py:15: FutureWarning: suggest_loguniform has been deprecated in v3.0.0. This feature will be removed in v6.0.0. See https://github.com/optuna/optuna/releases/tag/v3.0.0. Use suggest_float(..., log=True) instead.\n",
      "  'learning_rate': trial.suggest_loguniform('learning_rate', 0.01, 0.1),\n"
     ]
    },
    {
     "name": "stdout",
     "output_type": "stream",
     "text": [
      "[LightGBM] [Warning] Found whitespace in feature_names, replace with underlines\n",
      "[LightGBM] [Info] Auto-choosing col-wise multi-threading, the overhead of testing was 0.032411 seconds.\n",
      "You can set `force_col_wise=true` to remove the overhead.\n",
      "[LightGBM] [Info] Total Bins 5933\n",
      "[LightGBM] [Info] Number of data points in the train set: 201831, number of used features: 242\n",
      "[LightGBM] [Info] Start training from score 3.595914\n"
     ]
    },
    {
     "name": "stderr",
     "output_type": "stream",
     "text": [
      "[I 2024-03-02 23:20:35,109] Trial 0 finished with value: 2.6652895447282146 and parameters: {'n_estimators': 124, 'max_depth': 21, 'learning_rate': 0.03088071146198625, 'num_leaves': 42, 'min_child_samples': 40}. Best is trial 0 with value: 2.6652895447282146.\n",
      "C:\\Users\\taeho\\AppData\\Local\\Temp\\ipykernel_27840\\1874363896.py:15: FutureWarning: suggest_loguniform has been deprecated in v3.0.0. This feature will be removed in v6.0.0. See https://github.com/optuna/optuna/releases/tag/v3.0.0. Use suggest_float(..., log=True) instead.\n",
      "  'learning_rate': trial.suggest_loguniform('learning_rate', 0.01, 0.1),\n"
     ]
    },
    {
     "name": "stdout",
     "output_type": "stream",
     "text": [
      "[LightGBM] [Warning] Found whitespace in feature_names, replace with underlines\n",
      "[LightGBM] [Info] Auto-choosing col-wise multi-threading, the overhead of testing was 0.030900 seconds.\n",
      "You can set `force_col_wise=true` to remove the overhead.\n",
      "[LightGBM] [Info] Total Bins 6009\n",
      "[LightGBM] [Info] Number of data points in the train set: 201831, number of used features: 280\n",
      "[LightGBM] [Info] Start training from score 3.595914\n"
     ]
    },
    {
     "name": "stderr",
     "output_type": "stream",
     "text": [
      "[I 2024-03-02 23:20:38,547] Trial 1 finished with value: 3.2122827231493067 and parameters: {'n_estimators': 116, 'max_depth': 10, 'learning_rate': 0.011616478938159987, 'num_leaves': 13, 'min_child_samples': 12}. Best is trial 0 with value: 2.6652895447282146.\n",
      "C:\\Users\\taeho\\AppData\\Local\\Temp\\ipykernel_27840\\1874363896.py:15: FutureWarning: suggest_loguniform has been deprecated in v3.0.0. This feature will be removed in v6.0.0. See https://github.com/optuna/optuna/releases/tag/v3.0.0. Use suggest_float(..., log=True) instead.\n",
      "  'learning_rate': trial.suggest_loguniform('learning_rate', 0.01, 0.1),\n"
     ]
    },
    {
     "name": "stdout",
     "output_type": "stream",
     "text": [
      "[LightGBM] [Warning] Found whitespace in feature_names, replace with underlines\n",
      "[LightGBM] [Info] Auto-choosing col-wise multi-threading, the overhead of testing was 0.031679 seconds.\n",
      "You can set `force_col_wise=true` to remove the overhead.\n",
      "[LightGBM] [Info] Total Bins 5997\n",
      "[LightGBM] [Info] Number of data points in the train set: 201831, number of used features: 274\n",
      "[LightGBM] [Info] Start training from score 3.595914\n"
     ]
    },
    {
     "name": "stderr",
     "output_type": "stream",
     "text": [
      "[I 2024-03-02 23:20:42,062] Trial 2 finished with value: 2.6359710990596112 and parameters: {'n_estimators': 134, 'max_depth': 20, 'learning_rate': 0.0707125208611463, 'num_leaves': 28, 'min_child_samples': 14}. Best is trial 2 with value: 2.6359710990596112.\n",
      "C:\\Users\\taeho\\AppData\\Local\\Temp\\ipykernel_27840\\1874363896.py:15: FutureWarning: suggest_loguniform has been deprecated in v3.0.0. This feature will be removed in v6.0.0. See https://github.com/optuna/optuna/releases/tag/v3.0.0. Use suggest_float(..., log=True) instead.\n",
      "  'learning_rate': trial.suggest_loguniform('learning_rate', 0.01, 0.1),\n"
     ]
    },
    {
     "name": "stdout",
     "output_type": "stream",
     "text": [
      "[LightGBM] [Warning] Found whitespace in feature_names, replace with underlines\n",
      "[LightGBM] [Info] Auto-choosing col-wise multi-threading, the overhead of testing was 0.032780 seconds.\n",
      "You can set `force_col_wise=true` to remove the overhead.\n",
      "[LightGBM] [Info] Total Bins 6029\n",
      "[LightGBM] [Info] Number of data points in the train set: 201831, number of used features: 290\n",
      "[LightGBM] [Info] Start training from score 3.595914\n"
     ]
    },
    {
     "name": "stderr",
     "output_type": "stream",
     "text": [
      "[I 2024-03-02 23:20:45,531] Trial 3 finished with value: 3.0263772179952637 and parameters: {'n_estimators': 110, 'max_depth': 10, 'learning_rate': 0.01448737349394577, 'num_leaves': 24, 'min_child_samples': 8}. Best is trial 2 with value: 2.6359710990596112.\n",
      "C:\\Users\\taeho\\AppData\\Local\\Temp\\ipykernel_27840\\1874363896.py:15: FutureWarning: suggest_loguniform has been deprecated in v3.0.0. This feature will be removed in v6.0.0. See https://github.com/optuna/optuna/releases/tag/v3.0.0. Use suggest_float(..., log=True) instead.\n",
      "  'learning_rate': trial.suggest_loguniform('learning_rate', 0.01, 0.1),\n"
     ]
    },
    {
     "name": "stdout",
     "output_type": "stream",
     "text": [
      "[LightGBM] [Warning] Found whitespace in feature_names, replace with underlines\n",
      "[LightGBM] [Info] Auto-choosing col-wise multi-threading, the overhead of testing was 0.031443 seconds.\n",
      "You can set `force_col_wise=true` to remove the overhead.\n",
      "[LightGBM] [Info] Total Bins 5923\n",
      "[LightGBM] [Info] Number of data points in the train set: 201831, number of used features: 237\n",
      "[LightGBM] [Info] Start training from score 3.595914\n"
     ]
    },
    {
     "name": "stderr",
     "output_type": "stream",
     "text": [
      "[I 2024-03-02 23:20:49,114] Trial 4 finished with value: 2.96600366870729 and parameters: {'n_estimators': 138, 'max_depth': 9, 'learning_rate': 0.013436045767248512, 'num_leaves': 18, 'min_child_samples': 47}. Best is trial 2 with value: 2.6359710990596112.\n",
      "C:\\Users\\taeho\\AppData\\Local\\Temp\\ipykernel_27840\\1874363896.py:15: FutureWarning: suggest_loguniform has been deprecated in v3.0.0. This feature will be removed in v6.0.0. See https://github.com/optuna/optuna/releases/tag/v3.0.0. Use suggest_float(..., log=True) instead.\n",
      "  'learning_rate': trial.suggest_loguniform('learning_rate', 0.01, 0.1),\n"
     ]
    },
    {
     "name": "stdout",
     "output_type": "stream",
     "text": [
      "[LightGBM] [Warning] Found whitespace in feature_names, replace with underlines\n",
      "[LightGBM] [Info] Auto-choosing row-wise multi-threading, the overhead of testing was 0.013913 seconds.\n",
      "You can set `force_row_wise=true` to remove the overhead.\n",
      "And if memory is not enough, you can set `force_col_wise=true`.\n",
      "[LightGBM] [Info] Total Bins 5951\n",
      "[LightGBM] [Info] Number of data points in the train set: 201831, number of used features: 251\n",
      "[LightGBM] [Info] Start training from score 3.595914\n"
     ]
    },
    {
     "name": "stderr",
     "output_type": "stream",
     "text": [
      "[I 2024-03-02 23:20:52,363] Trial 5 finished with value: 2.683733581322101 and parameters: {'n_estimators': 100, 'max_depth': 30, 'learning_rate': 0.06431187715525, 'num_leaves': 19, 'min_child_samples': 33}. Best is trial 2 with value: 2.6359710990596112.\n",
      "C:\\Users\\taeho\\AppData\\Local\\Temp\\ipykernel_27840\\1874363896.py:15: FutureWarning: suggest_loguniform has been deprecated in v3.0.0. This feature will be removed in v6.0.0. See https://github.com/optuna/optuna/releases/tag/v3.0.0. Use suggest_float(..., log=True) instead.\n",
      "  'learning_rate': trial.suggest_loguniform('learning_rate', 0.01, 0.1),\n"
     ]
    },
    {
     "name": "stdout",
     "output_type": "stream",
     "text": [
      "[LightGBM] [Warning] Found whitespace in feature_names, replace with underlines\n",
      "[LightGBM] [Info] Auto-choosing col-wise multi-threading, the overhead of testing was 0.031285 seconds.\n",
      "You can set `force_col_wise=true` to remove the overhead.\n",
      "[LightGBM] [Info] Total Bins 6047\n",
      "[LightGBM] [Info] Number of data points in the train set: 201831, number of used features: 299\n",
      "[LightGBM] [Info] Start training from score 3.595914\n"
     ]
    },
    {
     "name": "stderr",
     "output_type": "stream",
     "text": [
      "[I 2024-03-02 23:20:55,675] Trial 6 finished with value: 2.6376856704594505 and parameters: {'n_estimators': 101, 'max_depth': 17, 'learning_rate': 0.07744935715685942, 'num_leaves': 39, 'min_child_samples': 6}. Best is trial 2 with value: 2.6359710990596112.\n",
      "C:\\Users\\taeho\\AppData\\Local\\Temp\\ipykernel_27840\\1874363896.py:15: FutureWarning: suggest_loguniform has been deprecated in v3.0.0. This feature will be removed in v6.0.0. See https://github.com/optuna/optuna/releases/tag/v3.0.0. Use suggest_float(..., log=True) instead.\n",
      "  'learning_rate': trial.suggest_loguniform('learning_rate', 0.01, 0.1),\n"
     ]
    },
    {
     "name": "stdout",
     "output_type": "stream",
     "text": [
      "[LightGBM] [Warning] Found whitespace in feature_names, replace with underlines\n",
      "[LightGBM] [Info] Auto-choosing col-wise multi-threading, the overhead of testing was 0.032526 seconds.\n",
      "You can set `force_col_wise=true` to remove the overhead.\n",
      "[LightGBM] [Info] Total Bins 5933\n",
      "[LightGBM] [Info] Number of data points in the train set: 201831, number of used features: 242\n",
      "[LightGBM] [Info] Start training from score 3.595914\n"
     ]
    },
    {
     "name": "stderr",
     "output_type": "stream",
     "text": [
      "[I 2024-03-02 23:20:59,947] Trial 7 finished with value: 2.853496587664751 and parameters: {'n_estimators': 129, 'max_depth': 23, 'learning_rate': 0.014315658894053404, 'num_leaves': 45, 'min_child_samples': 40}. Best is trial 2 with value: 2.6359710990596112.\n",
      "C:\\Users\\taeho\\AppData\\Local\\Temp\\ipykernel_27840\\1874363896.py:15: FutureWarning: suggest_loguniform has been deprecated in v3.0.0. This feature will be removed in v6.0.0. See https://github.com/optuna/optuna/releases/tag/v3.0.0. Use suggest_float(..., log=True) instead.\n",
      "  'learning_rate': trial.suggest_loguniform('learning_rate', 0.01, 0.1),\n"
     ]
    },
    {
     "name": "stdout",
     "output_type": "stream",
     "text": [
      "[LightGBM] [Warning] Found whitespace in feature_names, replace with underlines\n",
      "[LightGBM] [Info] Auto-choosing col-wise multi-threading, the overhead of testing was 0.033376 seconds.\n",
      "You can set `force_col_wise=true` to remove the overhead.\n",
      "[LightGBM] [Info] Total Bins 5983\n",
      "[LightGBM] [Info] Number of data points in the train set: 201831, number of used features: 267\n",
      "[LightGBM] [Info] Start training from score 3.595914\n"
     ]
    },
    {
     "name": "stderr",
     "output_type": "stream",
     "text": [
      "[I 2024-03-02 23:21:03,739] Trial 8 finished with value: 3.083174543804973 and parameters: {'n_estimators': 120, 'max_depth': 13, 'learning_rate': 0.011281610202476085, 'num_leaves': 33, 'min_child_samples': 19}. Best is trial 2 with value: 2.6359710990596112.\n",
      "C:\\Users\\taeho\\AppData\\Local\\Temp\\ipykernel_27840\\1874363896.py:15: FutureWarning: suggest_loguniform has been deprecated in v3.0.0. This feature will be removed in v6.0.0. See https://github.com/optuna/optuna/releases/tag/v3.0.0. Use suggest_float(..., log=True) instead.\n",
      "  'learning_rate': trial.suggest_loguniform('learning_rate', 0.01, 0.1),\n"
     ]
    },
    {
     "name": "stdout",
     "output_type": "stream",
     "text": [
      "[LightGBM] [Warning] Found whitespace in feature_names, replace with underlines\n",
      "[LightGBM] [Info] Auto-choosing col-wise multi-threading, the overhead of testing was 0.030937 seconds.\n",
      "You can set `force_col_wise=true` to remove the overhead.\n",
      "[LightGBM] [Info] Total Bins 6011\n",
      "[LightGBM] [Info] Number of data points in the train set: 201831, number of used features: 281\n",
      "[LightGBM] [Info] Start training from score 3.595914\n"
     ]
    },
    {
     "name": "stderr",
     "output_type": "stream",
     "text": [
      "[I 2024-03-02 23:21:07,151] Trial 9 finished with value: 3.0241043266302756 and parameters: {'n_estimators': 112, 'max_depth': 11, 'learning_rate': 0.017758848580278614, 'num_leaves': 10, 'min_child_samples': 11}. Best is trial 2 with value: 2.6359710990596112.\n",
      "C:\\Users\\taeho\\AppData\\Local\\Temp\\ipykernel_27840\\1874363896.py:15: FutureWarning: suggest_loguniform has been deprecated in v3.0.0. This feature will be removed in v6.0.0. See https://github.com/optuna/optuna/releases/tag/v3.0.0. Use suggest_float(..., log=True) instead.\n",
      "  'learning_rate': trial.suggest_loguniform('learning_rate', 0.01, 0.1),\n"
     ]
    },
    {
     "name": "stdout",
     "output_type": "stream",
     "text": [
      "[LightGBM] [Warning] Found whitespace in feature_names, replace with underlines\n",
      "[LightGBM] [Info] Auto-choosing col-wise multi-threading, the overhead of testing was 0.032141 seconds.\n",
      "You can set `force_col_wise=true` to remove the overhead.\n",
      "[LightGBM] [Info] Total Bins 5971\n",
      "[LightGBM] [Info] Number of data points in the train set: 201831, number of used features: 261\n",
      "[LightGBM] [Info] Start training from score 3.595914\n",
      "[LightGBM] [Warning] No further splits with positive gain, best gain: -inf\n",
      "[LightGBM] [Warning] No further splits with positive gain, best gain: -inf\n",
      "[LightGBM] [Warning] No further splits with positive gain, best gain: -inf\n",
      "[LightGBM] [Warning] No further splits with positive gain, best gain: -inf\n",
      "[LightGBM] [Warning] No further splits with positive gain, best gain: -inf\n",
      "[LightGBM] [Warning] No further splits with positive gain, best gain: -inf\n",
      "[LightGBM] [Warning] No further splits with positive gain, best gain: -inf\n",
      "[LightGBM] [Warning] No further splits with positive gain, best gain: -inf\n",
      "[LightGBM] [Warning] No further splits with positive gain, best gain: -inf\n",
      "[LightGBM] [Warning] No further splits with positive gain, best gain: -inf\n",
      "[LightGBM] [Warning] No further splits with positive gain, best gain: -inf\n",
      "[LightGBM] [Warning] No further splits with positive gain, best gain: -inf\n",
      "[LightGBM] [Warning] No further splits with positive gain, best gain: -inf\n",
      "[LightGBM] [Warning] No further splits with positive gain, best gain: -inf\n",
      "[LightGBM] [Warning] No further splits with positive gain, best gain: -inf\n",
      "[LightGBM] [Warning] No further splits with positive gain, best gain: -inf\n",
      "[LightGBM] [Warning] No further splits with positive gain, best gain: -inf\n",
      "[LightGBM] [Warning] No further splits with positive gain, best gain: -inf\n",
      "[LightGBM] [Warning] No further splits with positive gain, best gain: -inf\n",
      "[LightGBM] [Warning] No further splits with positive gain, best gain: -inf\n",
      "[LightGBM] [Warning] No further splits with positive gain, best gain: -inf\n",
      "[LightGBM] [Warning] No further splits with positive gain, best gain: -inf\n",
      "[LightGBM] [Warning] No further splits with positive gain, best gain: -inf\n",
      "[LightGBM] [Warning] No further splits with positive gain, best gain: -inf\n",
      "[LightGBM] [Warning] No further splits with positive gain, best gain: -inf\n",
      "[LightGBM] [Warning] No further splits with positive gain, best gain: -inf\n",
      "[LightGBM] [Warning] No further splits with positive gain, best gain: -inf\n",
      "[LightGBM] [Warning] No further splits with positive gain, best gain: -inf\n",
      "[LightGBM] [Warning] No further splits with positive gain, best gain: -inf\n",
      "[LightGBM] [Warning] No further splits with positive gain, best gain: -inf\n",
      "[LightGBM] [Warning] No further splits with positive gain, best gain: -inf\n",
      "[LightGBM] [Warning] No further splits with positive gain, best gain: -inf\n",
      "[LightGBM] [Warning] No further splits with positive gain, best gain: -inf\n",
      "[LightGBM] [Warning] No further splits with positive gain, best gain: -inf\n",
      "[LightGBM] [Warning] No further splits with positive gain, best gain: -inf\n",
      "[LightGBM] [Warning] No further splits with positive gain, best gain: -inf\n",
      "[LightGBM] [Warning] No further splits with positive gain, best gain: -inf\n",
      "[LightGBM] [Warning] No further splits with positive gain, best gain: -inf\n",
      "[LightGBM] [Warning] No further splits with positive gain, best gain: -inf\n",
      "[LightGBM] [Warning] No further splits with positive gain, best gain: -inf\n",
      "[LightGBM] [Warning] No further splits with positive gain, best gain: -inf\n",
      "[LightGBM] [Warning] No further splits with positive gain, best gain: -inf\n",
      "[LightGBM] [Warning] No further splits with positive gain, best gain: -inf\n",
      "[LightGBM] [Warning] No further splits with positive gain, best gain: -inf\n",
      "[LightGBM] [Warning] No further splits with positive gain, best gain: -inf\n",
      "[LightGBM] [Warning] No further splits with positive gain, best gain: -inf\n",
      "[LightGBM] [Warning] No further splits with positive gain, best gain: -inf\n",
      "[LightGBM] [Warning] No further splits with positive gain, best gain: -inf\n",
      "[LightGBM] [Warning] No further splits with positive gain, best gain: -inf\n",
      "[LightGBM] [Warning] No further splits with positive gain, best gain: -inf\n",
      "[LightGBM] [Warning] No further splits with positive gain, best gain: -inf\n",
      "[LightGBM] [Warning] No further splits with positive gain, best gain: -inf\n",
      "[LightGBM] [Warning] No further splits with positive gain, best gain: -inf\n",
      "[LightGBM] [Warning] No further splits with positive gain, best gain: -inf\n",
      "[LightGBM] [Warning] No further splits with positive gain, best gain: -inf\n",
      "[LightGBM] [Warning] No further splits with positive gain, best gain: -inf\n",
      "[LightGBM] [Warning] No further splits with positive gain, best gain: -inf\n",
      "[LightGBM] [Warning] No further splits with positive gain, best gain: -inf\n",
      "[LightGBM] [Warning] No further splits with positive gain, best gain: -inf\n",
      "[LightGBM] [Warning] No further splits with positive gain, best gain: -inf\n",
      "[LightGBM] [Warning] No further splits with positive gain, best gain: -inf\n",
      "[LightGBM] [Warning] No further splits with positive gain, best gain: -inf\n",
      "[LightGBM] [Warning] No further splits with positive gain, best gain: -inf\n",
      "[LightGBM] [Warning] No further splits with positive gain, best gain: -inf\n",
      "[LightGBM] [Warning] No further splits with positive gain, best gain: -inf\n",
      "[LightGBM] [Warning] No further splits with positive gain, best gain: -inf\n",
      "[LightGBM] [Warning] No further splits with positive gain, best gain: -inf\n",
      "[LightGBM] [Warning] No further splits with positive gain, best gain: -inf\n",
      "[LightGBM] [Warning] No further splits with positive gain, best gain: -inf\n",
      "[LightGBM] [Warning] No further splits with positive gain, best gain: -inf\n",
      "[LightGBM] [Warning] No further splits with positive gain, best gain: -inf\n",
      "[LightGBM] [Warning] No further splits with positive gain, best gain: -inf\n",
      "[LightGBM] [Warning] No further splits with positive gain, best gain: -inf\n",
      "[LightGBM] [Warning] No further splits with positive gain, best gain: -inf\n",
      "[LightGBM] [Warning] No further splits with positive gain, best gain: -inf\n",
      "[LightGBM] [Warning] No further splits with positive gain, best gain: -inf\n",
      "[LightGBM] [Warning] No further splits with positive gain, best gain: -inf\n",
      "[LightGBM] [Warning] No further splits with positive gain, best gain: -inf\n",
      "[LightGBM] [Warning] No further splits with positive gain, best gain: -inf\n",
      "[LightGBM] [Warning] No further splits with positive gain, best gain: -inf\n",
      "[LightGBM] [Warning] No further splits with positive gain, best gain: -inf\n",
      "[LightGBM] [Warning] No further splits with positive gain, best gain: -inf\n",
      "[LightGBM] [Warning] No further splits with positive gain, best gain: -inf\n",
      "[LightGBM] [Warning] No further splits with positive gain, best gain: -inf\n",
      "[LightGBM] [Warning] No further splits with positive gain, best gain: -inf\n",
      "[LightGBM] [Warning] No further splits with positive gain, best gain: -inf\n",
      "[LightGBM] [Warning] No further splits with positive gain, best gain: -inf\n",
      "[LightGBM] [Warning] No further splits with positive gain, best gain: -inf\n",
      "[LightGBM] [Warning] No further splits with positive gain, best gain: -inf\n",
      "[LightGBM] [Warning] No further splits with positive gain, best gain: -inf\n",
      "[LightGBM] [Warning] No further splits with positive gain, best gain: -inf\n",
      "[LightGBM] [Warning] No further splits with positive gain, best gain: -inf\n",
      "[LightGBM] [Warning] No further splits with positive gain, best gain: -inf\n",
      "[LightGBM] [Warning] No further splits with positive gain, best gain: -inf\n",
      "[LightGBM] [Warning] No further splits with positive gain, best gain: -inf\n",
      "[LightGBM] [Warning] No further splits with positive gain, best gain: -inf\n",
      "[LightGBM] [Warning] No further splits with positive gain, best gain: -inf\n",
      "[LightGBM] [Warning] No further splits with positive gain, best gain: -inf\n",
      "[LightGBM] [Warning] No further splits with positive gain, best gain: -inf\n",
      "[LightGBM] [Warning] No further splits with positive gain, best gain: -inf\n",
      "[LightGBM] [Warning] No further splits with positive gain, best gain: -inf\n",
      "[LightGBM] [Warning] No further splits with positive gain, best gain: -inf\n",
      "[LightGBM] [Warning] No further splits with positive gain, best gain: -inf\n"
     ]
    },
    {
     "name": "stderr",
     "output_type": "stream",
     "text": [
      "[I 2024-03-02 23:21:10,660] Trial 10 finished with value: 2.683817216636811 and parameters: {'n_estimators': 147, 'max_depth': 5, 'learning_rate': 0.04788148512774753, 'num_leaves': 30, 'min_child_samples': 23}. Best is trial 2 with value: 2.6359710990596112.\n",
      "C:\\Users\\taeho\\AppData\\Local\\Temp\\ipykernel_27840\\1874363896.py:15: FutureWarning: suggest_loguniform has been deprecated in v3.0.0. This feature will be removed in v6.0.0. See https://github.com/optuna/optuna/releases/tag/v3.0.0. Use suggest_float(..., log=True) instead.\n",
      "  'learning_rate': trial.suggest_loguniform('learning_rate', 0.01, 0.1),\n"
     ]
    },
    {
     "name": "stdout",
     "output_type": "stream",
     "text": [
      "[LightGBM] [Warning] Found whitespace in feature_names, replace with underlines\n",
      "[LightGBM] [Info] Auto-choosing col-wise multi-threading, the overhead of testing was 0.031387 seconds.\n",
      "You can set `force_col_wise=true` to remove the overhead.\n",
      "[LightGBM] [Info] Total Bins 6047\n",
      "[LightGBM] [Info] Number of data points in the train set: 201831, number of used features: 299\n",
      "[LightGBM] [Info] Start training from score 3.595914\n"
     ]
    },
    {
     "name": "stderr",
     "output_type": "stream",
     "text": [
      "[I 2024-03-02 23:21:14,191] Trial 11 finished with value: 2.6340042889585367 and parameters: {'n_estimators': 135, 'max_depth': 19, 'learning_rate': 0.09895422709140358, 'num_leaves': 37, 'min_child_samples': 6}. Best is trial 11 with value: 2.6340042889585367.\n",
      "C:\\Users\\taeho\\AppData\\Local\\Temp\\ipykernel_27840\\1874363896.py:15: FutureWarning: suggest_loguniform has been deprecated in v3.0.0. This feature will be removed in v6.0.0. See https://github.com/optuna/optuna/releases/tag/v3.0.0. Use suggest_float(..., log=True) instead.\n",
      "  'learning_rate': trial.suggest_loguniform('learning_rate', 0.01, 0.1),\n"
     ]
    },
    {
     "name": "stdout",
     "output_type": "stream",
     "text": [
      "[LightGBM] [Warning] Found whitespace in feature_names, replace with underlines\n",
      "[LightGBM] [Info] Auto-choosing col-wise multi-threading, the overhead of testing was 0.031873 seconds.\n",
      "You can set `force_col_wise=true` to remove the overhead.\n",
      "[LightGBM] [Info] Total Bins 5993\n",
      "[LightGBM] [Info] Number of data points in the train set: 201831, number of used features: 272\n",
      "[LightGBM] [Info] Start training from score 3.595914\n"
     ]
    },
    {
     "name": "stderr",
     "output_type": "stream",
     "text": [
      "[I 2024-03-02 23:21:17,750] Trial 12 finished with value: 2.6298581123799063 and parameters: {'n_estimators': 135, 'max_depth': 24, 'learning_rate': 0.09957186190311249, 'num_leaves': 33, 'min_child_samples': 17}. Best is trial 12 with value: 2.6298581123799063.\n",
      "C:\\Users\\taeho\\AppData\\Local\\Temp\\ipykernel_27840\\1874363896.py:15: FutureWarning: suggest_loguniform has been deprecated in v3.0.0. This feature will be removed in v6.0.0. See https://github.com/optuna/optuna/releases/tag/v3.0.0. Use suggest_float(..., log=True) instead.\n",
      "  'learning_rate': trial.suggest_loguniform('learning_rate', 0.01, 0.1),\n"
     ]
    },
    {
     "name": "stdout",
     "output_type": "stream",
     "text": [
      "[LightGBM] [Warning] Found whitespace in feature_names, replace with underlines\n",
      "[LightGBM] [Info] Auto-choosing col-wise multi-threading, the overhead of testing was 0.032213 seconds.\n",
      "You can set `force_col_wise=true` to remove the overhead.\n",
      "[LightGBM] [Info] Total Bins 5977\n",
      "[LightGBM] [Info] Number of data points in the train set: 201831, number of used features: 264\n",
      "[LightGBM] [Info] Start training from score 3.595914\n"
     ]
    },
    {
     "name": "stderr",
     "output_type": "stream",
     "text": [
      "[I 2024-03-02 23:21:22,836] Trial 13 finished with value: 2.6418417794994546 and parameters: {'n_estimators': 144, 'max_depth': 26, 'learning_rate': 0.09283484748520952, 'num_leaves': 37, 'min_child_samples': 21}. Best is trial 12 with value: 2.6298581123799063.\n",
      "C:\\Users\\taeho\\AppData\\Local\\Temp\\ipykernel_27840\\1874363896.py:15: FutureWarning: suggest_loguniform has been deprecated in v3.0.0. This feature will be removed in v6.0.0. See https://github.com/optuna/optuna/releases/tag/v3.0.0. Use suggest_float(..., log=True) instead.\n",
      "  'learning_rate': trial.suggest_loguniform('learning_rate', 0.01, 0.1),\n"
     ]
    },
    {
     "name": "stdout",
     "output_type": "stream",
     "text": [
      "[LightGBM] [Warning] Found whitespace in feature_names, replace with underlines\n",
      "[LightGBM] [Info] Auto-choosing col-wise multi-threading, the overhead of testing was 0.031936 seconds.\n",
      "You can set `force_col_wise=true` to remove the overhead.\n",
      "[LightGBM] [Info] Total Bins 5967\n",
      "[LightGBM] [Info] Number of data points in the train set: 201831, number of used features: 259\n",
      "[LightGBM] [Info] Start training from score 3.595914\n"
     ]
    },
    {
     "name": "stderr",
     "output_type": "stream",
     "text": [
      "[I 2024-03-02 23:21:26,719] Trial 14 finished with value: 2.6473786050910504 and parameters: {'n_estimators': 137, 'max_depth': 17, 'learning_rate': 0.04312277920162311, 'num_leaves': 36, 'min_child_samples': 26}. Best is trial 12 with value: 2.6298581123799063.\n",
      "C:\\Users\\taeho\\AppData\\Local\\Temp\\ipykernel_27840\\1874363896.py:15: FutureWarning: suggest_loguniform has been deprecated in v3.0.0. This feature will be removed in v6.0.0. See https://github.com/optuna/optuna/releases/tag/v3.0.0. Use suggest_float(..., log=True) instead.\n",
      "  'learning_rate': trial.suggest_loguniform('learning_rate', 0.01, 0.1),\n"
     ]
    },
    {
     "name": "stdout",
     "output_type": "stream",
     "text": [
      "[LightGBM] [Warning] Found whitespace in feature_names, replace with underlines\n",
      "[LightGBM] [Info] Auto-choosing col-wise multi-threading, the overhead of testing was 0.032546 seconds.\n",
      "You can set `force_col_wise=true` to remove the overhead.\n",
      "[LightGBM] [Info] Total Bins 5993\n",
      "[LightGBM] [Info] Number of data points in the train set: 201831, number of used features: 272\n",
      "[LightGBM] [Info] Start training from score 3.595914\n"
     ]
    },
    {
     "name": "stderr",
     "output_type": "stream",
     "text": [
      "[I 2024-03-02 23:21:30,556] Trial 15 finished with value: 2.629987662674811 and parameters: {'n_estimators': 129, 'max_depth': 27, 'learning_rate': 0.09685273414660532, 'num_leaves': 50, 'min_child_samples': 16}. Best is trial 12 with value: 2.6298581123799063.\n",
      "C:\\Users\\taeho\\AppData\\Local\\Temp\\ipykernel_27840\\1874363896.py:15: FutureWarning: suggest_loguniform has been deprecated in v3.0.0. This feature will be removed in v6.0.0. See https://github.com/optuna/optuna/releases/tag/v3.0.0. Use suggest_float(..., log=True) instead.\n",
      "  'learning_rate': trial.suggest_loguniform('learning_rate', 0.01, 0.1),\n"
     ]
    },
    {
     "name": "stdout",
     "output_type": "stream",
     "text": [
      "[LightGBM] [Warning] Found whitespace in feature_names, replace with underlines\n",
      "[LightGBM] [Info] Auto-choosing col-wise multi-threading, the overhead of testing was 0.031857 seconds.\n",
      "You can set `force_col_wise=true` to remove the overhead.\n",
      "[LightGBM] [Info] Total Bins 5993\n",
      "[LightGBM] [Info] Number of data points in the train set: 201831, number of used features: 272\n",
      "[LightGBM] [Info] Start training from score 3.595914\n"
     ]
    },
    {
     "name": "stderr",
     "output_type": "stream",
     "text": [
      "[I 2024-03-02 23:21:34,866] Trial 16 finished with value: 2.653498813525174 and parameters: {'n_estimators': 128, 'max_depth': 28, 'learning_rate': 0.029989795801606944, 'num_leaves': 48, 'min_child_samples': 17}. Best is trial 12 with value: 2.6298581123799063.\n",
      "C:\\Users\\taeho\\AppData\\Local\\Temp\\ipykernel_27840\\1874363896.py:15: FutureWarning: suggest_loguniform has been deprecated in v3.0.0. This feature will be removed in v6.0.0. See https://github.com/optuna/optuna/releases/tag/v3.0.0. Use suggest_float(..., log=True) instead.\n",
      "  'learning_rate': trial.suggest_loguniform('learning_rate', 0.01, 0.1),\n"
     ]
    },
    {
     "name": "stdout",
     "output_type": "stream",
     "text": [
      "[LightGBM] [Warning] Found whitespace in feature_names, replace with underlines\n",
      "[LightGBM] [Info] Auto-choosing col-wise multi-threading, the overhead of testing was 0.031045 seconds.\n",
      "You can set `force_col_wise=true` to remove the overhead.\n",
      "[LightGBM] [Info] Total Bins 5955\n",
      "[LightGBM] [Info] Number of data points in the train set: 201831, number of used features: 253\n",
      "[LightGBM] [Info] Start training from score 3.595914\n"
     ]
    },
    {
     "name": "stderr",
     "output_type": "stream",
     "text": [
      "[I 2024-03-02 23:21:40,144] Trial 17 finished with value: 2.635432381823482 and parameters: {'n_estimators': 142, 'max_depth': 25, 'learning_rate': 0.04897383840836449, 'num_leaves': 50, 'min_child_samples': 32}. Best is trial 12 with value: 2.6298581123799063.\n",
      "C:\\Users\\taeho\\AppData\\Local\\Temp\\ipykernel_27840\\1874363896.py:15: FutureWarning: suggest_loguniform has been deprecated in v3.0.0. This feature will be removed in v6.0.0. See https://github.com/optuna/optuna/releases/tag/v3.0.0. Use suggest_float(..., log=True) instead.\n",
      "  'learning_rate': trial.suggest_loguniform('learning_rate', 0.01, 0.1),\n"
     ]
    },
    {
     "name": "stdout",
     "output_type": "stream",
     "text": [
      "[LightGBM] [Warning] Found whitespace in feature_names, replace with underlines\n",
      "[LightGBM] [Info] Auto-choosing col-wise multi-threading, the overhead of testing was 0.031600 seconds.\n",
      "You can set `force_col_wise=true` to remove the overhead.\n",
      "[LightGBM] [Info] Total Bins 5961\n",
      "[LightGBM] [Info] Number of data points in the train set: 201831, number of used features: 256\n",
      "[LightGBM] [Info] Start training from score 3.595914\n"
     ]
    },
    {
     "name": "stderr",
     "output_type": "stream",
     "text": [
      "[I 2024-03-02 23:21:44,224] Trial 18 finished with value: 2.710669988880083 and parameters: {'n_estimators': 131, 'max_depth': 24, 'learning_rate': 0.021581320591981645, 'num_leaves': 44, 'min_child_samples': 29}. Best is trial 12 with value: 2.6298581123799063.\n",
      "C:\\Users\\taeho\\AppData\\Local\\Temp\\ipykernel_27840\\1874363896.py:15: FutureWarning: suggest_loguniform has been deprecated in v3.0.0. This feature will be removed in v6.0.0. See https://github.com/optuna/optuna/releases/tag/v3.0.0. Use suggest_float(..., log=True) instead.\n",
      "  'learning_rate': trial.suggest_loguniform('learning_rate', 0.01, 0.1),\n"
     ]
    },
    {
     "name": "stdout",
     "output_type": "stream",
     "text": [
      "[LightGBM] [Warning] Found whitespace in feature_names, replace with underlines\n",
      "[LightGBM] [Info] Auto-choosing col-wise multi-threading, the overhead of testing was 0.032653 seconds.\n",
      "You can set `force_col_wise=true` to remove the overhead.\n",
      "[LightGBM] [Info] Total Bins 5995\n",
      "[LightGBM] [Info] Number of data points in the train set: 201831, number of used features: 273\n",
      "[LightGBM] [Info] Start training from score 3.595914\n"
     ]
    },
    {
     "name": "stderr",
     "output_type": "stream",
     "text": [
      "[I 2024-03-02 23:21:47,863] Trial 19 finished with value: 2.642566467830883 and parameters: {'n_estimators': 150, 'max_depth': 30, 'learning_rate': 0.060124506318358494, 'num_leaves': 26, 'min_child_samples': 15}. Best is trial 12 with value: 2.6298581123799063.\n",
      "C:\\Users\\taeho\\AppData\\Local\\Temp\\ipykernel_27840\\1874363896.py:15: FutureWarning: suggest_loguniform has been deprecated in v3.0.0. This feature will be removed in v6.0.0. See https://github.com/optuna/optuna/releases/tag/v3.0.0. Use suggest_float(..., log=True) instead.\n",
      "  'learning_rate': trial.suggest_loguniform('learning_rate', 0.01, 0.1),\n"
     ]
    },
    {
     "name": "stdout",
     "output_type": "stream",
     "text": [
      "[LightGBM] [Warning] Found whitespace in feature_names, replace with underlines\n",
      "[LightGBM] [Info] Auto-choosing col-wise multi-threading, the overhead of testing was 0.032111 seconds.\n",
      "You can set `force_col_wise=true` to remove the overhead.\n",
      "[LightGBM] [Info] Total Bins 5969\n",
      "[LightGBM] [Info] Number of data points in the train set: 201831, number of used features: 260\n",
      "[LightGBM] [Info] Start training from score 3.595914\n"
     ]
    },
    {
     "name": "stderr",
     "output_type": "stream",
     "text": [
      "[I 2024-03-02 23:21:51,263] Trial 20 finished with value: 2.695959123511292 and parameters: {'n_estimators': 123, 'max_depth': 27, 'learning_rate': 0.037510451416298225, 'num_leaves': 22, 'min_child_samples': 25}. Best is trial 12 with value: 2.6298581123799063.\n",
      "C:\\Users\\taeho\\AppData\\Local\\Temp\\ipykernel_27840\\1874363896.py:15: FutureWarning: suggest_loguniform has been deprecated in v3.0.0. This feature will be removed in v6.0.0. See https://github.com/optuna/optuna/releases/tag/v3.0.0. Use suggest_float(..., log=True) instead.\n",
      "  'learning_rate': trial.suggest_loguniform('learning_rate', 0.01, 0.1),\n"
     ]
    },
    {
     "name": "stdout",
     "output_type": "stream",
     "text": [
      "[LightGBM] [Warning] Found whitespace in feature_names, replace with underlines\n",
      "[LightGBM] [Info] Auto-choosing row-wise multi-threading, the overhead of testing was 0.227747 seconds.\n",
      "You can set `force_row_wise=true` to remove the overhead.\n",
      "And if memory is not enough, you can set `force_col_wise=true`.\n",
      "[LightGBM] [Info] Total Bins 6061\n",
      "[LightGBM] [Info] Number of data points in the train set: 201831, number of used features: 306\n",
      "[LightGBM] [Info] Start training from score 3.595914\n"
     ]
    },
    {
     "name": "stderr",
     "output_type": "stream",
     "text": [
      "[I 2024-03-02 23:21:55,626] Trial 21 finished with value: 2.6285175616499235 and parameters: {'n_estimators': 139, 'max_depth': 20, 'learning_rate': 0.09773012905601336, 'num_leaves': 33, 'min_child_samples': 5}. Best is trial 21 with value: 2.6285175616499235.\n",
      "C:\\Users\\taeho\\AppData\\Local\\Temp\\ipykernel_27840\\1874363896.py:15: FutureWarning: suggest_loguniform has been deprecated in v3.0.0. This feature will be removed in v6.0.0. See https://github.com/optuna/optuna/releases/tag/v3.0.0. Use suggest_float(..., log=True) instead.\n",
      "  'learning_rate': trial.suggest_loguniform('learning_rate', 0.01, 0.1),\n"
     ]
    },
    {
     "name": "stdout",
     "output_type": "stream",
     "text": [
      "[LightGBM] [Warning] Found whitespace in feature_names, replace with underlines\n",
      "[LightGBM] [Info] Auto-choosing col-wise multi-threading, the overhead of testing was 0.032014 seconds.\n",
      "You can set `force_col_wise=true` to remove the overhead.\n",
      "[LightGBM] [Info] Total Bins 6019\n",
      "[LightGBM] [Info] Number of data points in the train set: 201831, number of used features: 285\n",
      "[LightGBM] [Info] Start training from score 3.595914\n"
     ]
    },
    {
     "name": "stderr",
     "output_type": "stream",
     "text": [
      "[I 2024-03-02 23:21:59,251] Trial 22 finished with value: 2.618026721117471 and parameters: {'n_estimators': 141, 'max_depth': 22, 'learning_rate': 0.08248280638156204, 'num_leaves': 33, 'min_child_samples': 10}. Best is trial 22 with value: 2.618026721117471.\n",
      "C:\\Users\\taeho\\AppData\\Local\\Temp\\ipykernel_27840\\1874363896.py:15: FutureWarning: suggest_loguniform has been deprecated in v3.0.0. This feature will be removed in v6.0.0. See https://github.com/optuna/optuna/releases/tag/v3.0.0. Use suggest_float(..., log=True) instead.\n",
      "  'learning_rate': trial.suggest_loguniform('learning_rate', 0.01, 0.1),\n"
     ]
    },
    {
     "name": "stdout",
     "output_type": "stream",
     "text": [
      "[LightGBM] [Warning] Found whitespace in feature_names, replace with underlines\n",
      "[LightGBM] [Info] Auto-choosing col-wise multi-threading, the overhead of testing was 0.031703 seconds.\n",
      "You can set `force_col_wise=true` to remove the overhead.\n",
      "[LightGBM] [Info] Total Bins 6019\n",
      "[LightGBM] [Info] Number of data points in the train set: 201831, number of used features: 285\n",
      "[LightGBM] [Info] Start training from score 3.595914\n"
     ]
    },
    {
     "name": "stderr",
     "output_type": "stream",
     "text": [
      "[I 2024-03-02 23:22:02,888] Trial 23 finished with value: 2.622082739299718 and parameters: {'n_estimators': 141, 'max_depth': 22, 'learning_rate': 0.07950342903977602, 'num_leaves': 33, 'min_child_samples': 10}. Best is trial 22 with value: 2.618026721117471.\n",
      "C:\\Users\\taeho\\AppData\\Local\\Temp\\ipykernel_27840\\1874363896.py:15: FutureWarning: suggest_loguniform has been deprecated in v3.0.0. This feature will be removed in v6.0.0. See https://github.com/optuna/optuna/releases/tag/v3.0.0. Use suggest_float(..., log=True) instead.\n",
      "  'learning_rate': trial.suggest_loguniform('learning_rate', 0.01, 0.1),\n"
     ]
    },
    {
     "name": "stdout",
     "output_type": "stream",
     "text": [
      "[LightGBM] [Warning] Found whitespace in feature_names, replace with underlines\n",
      "[LightGBM] [Info] Auto-choosing col-wise multi-threading, the overhead of testing was 0.029900 seconds.\n",
      "You can set `force_col_wise=true` to remove the overhead.\n",
      "[LightGBM] [Info] Total Bins 6019\n",
      "[LightGBM] [Info] Number of data points in the train set: 201831, number of used features: 285\n",
      "[LightGBM] [Info] Start training from score 3.595914\n"
     ]
    },
    {
     "name": "stderr",
     "output_type": "stream",
     "text": [
      "[I 2024-03-02 23:22:06,506] Trial 24 finished with value: 2.635525429099546 and parameters: {'n_estimators': 143, 'max_depth': 15, 'learning_rate': 0.07868078029616749, 'num_leaves': 32, 'min_child_samples': 10}. Best is trial 22 with value: 2.618026721117471.\n",
      "C:\\Users\\taeho\\AppData\\Local\\Temp\\ipykernel_27840\\1874363896.py:15: FutureWarning: suggest_loguniform has been deprecated in v3.0.0. This feature will be removed in v6.0.0. See https://github.com/optuna/optuna/releases/tag/v3.0.0. Use suggest_float(..., log=True) instead.\n",
      "  'learning_rate': trial.suggest_loguniform('learning_rate', 0.01, 0.1),\n"
     ]
    },
    {
     "name": "stdout",
     "output_type": "stream",
     "text": [
      "[LightGBM] [Warning] Found whitespace in feature_names, replace with underlines\n",
      "[LightGBM] [Info] Auto-choosing row-wise multi-threading, the overhead of testing was 0.216531 seconds.\n",
      "You can set `force_row_wise=true` to remove the overhead.\n",
      "And if memory is not enough, you can set `force_col_wise=true`.\n",
      "[LightGBM] [Info] Total Bins 6061\n",
      "[LightGBM] [Info] Number of data points in the train set: 201831, number of used features: 306\n",
      "[LightGBM] [Info] Start training from score 3.595914\n"
     ]
    },
    {
     "name": "stderr",
     "output_type": "stream",
     "text": [
      "[I 2024-03-02 23:22:11,027] Trial 25 finished with value: 2.646568086924903 and parameters: {'n_estimators': 140, 'max_depth': 20, 'learning_rate': 0.057390827503503, 'num_leaves': 29, 'min_child_samples': 5}. Best is trial 22 with value: 2.618026721117471.\n",
      "C:\\Users\\taeho\\AppData\\Local\\Temp\\ipykernel_27840\\1874363896.py:15: FutureWarning: suggest_loguniform has been deprecated in v3.0.0. This feature will be removed in v6.0.0. See https://github.com/optuna/optuna/releases/tag/v3.0.0. Use suggest_float(..., log=True) instead.\n",
      "  'learning_rate': trial.suggest_loguniform('learning_rate', 0.01, 0.1),\n"
     ]
    },
    {
     "name": "stdout",
     "output_type": "stream",
     "text": [
      "[LightGBM] [Warning] Found whitespace in feature_names, replace with underlines\n",
      "[LightGBM] [Info] Auto-choosing col-wise multi-threading, the overhead of testing was 0.031378 seconds.\n",
      "You can set `force_col_wise=true` to remove the overhead.\n",
      "[LightGBM] [Info] Total Bins 6021\n",
      "[LightGBM] [Info] Number of data points in the train set: 201831, number of used features: 286\n",
      "[LightGBM] [Info] Start training from score 3.595914\n"
     ]
    },
    {
     "name": "stderr",
     "output_type": "stream",
     "text": [
      "[I 2024-03-02 23:22:14,894] Trial 26 finished with value: 2.6460341143353228 and parameters: {'n_estimators': 150, 'max_depth': 22, 'learning_rate': 0.08191808470879634, 'num_leaves': 40, 'min_child_samples': 9}. Best is trial 22 with value: 2.618026721117471.\n",
      "C:\\Users\\taeho\\AppData\\Local\\Temp\\ipykernel_27840\\1874363896.py:15: FutureWarning: suggest_loguniform has been deprecated in v3.0.0. This feature will be removed in v6.0.0. See https://github.com/optuna/optuna/releases/tag/v3.0.0. Use suggest_float(..., log=True) instead.\n",
      "  'learning_rate': trial.suggest_loguniform('learning_rate', 0.01, 0.1),\n"
     ]
    },
    {
     "name": "stdout",
     "output_type": "stream",
     "text": [
      "[LightGBM] [Warning] Found whitespace in feature_names, replace with underlines\n",
      "[LightGBM] [Info] Auto-choosing col-wise multi-threading, the overhead of testing was 0.031337 seconds.\n",
      "You can set `force_col_wise=true` to remove the overhead.\n",
      "[LightGBM] [Info] Total Bins 6009\n",
      "[LightGBM] [Info] Number of data points in the train set: 201831, number of used features: 280\n",
      "[LightGBM] [Info] Start training from score 3.595914\n"
     ]
    },
    {
     "name": "stderr",
     "output_type": "stream",
     "text": [
      "[I 2024-03-02 23:22:18,717] Trial 27 finished with value: 2.6129997219074994 and parameters: {'n_estimators': 146, 'max_depth': 18, 'learning_rate': 0.05629447251416819, 'num_leaves': 35, 'min_child_samples': 12}. Best is trial 27 with value: 2.6129997219074994.\n",
      "C:\\Users\\taeho\\AppData\\Local\\Temp\\ipykernel_27840\\1874363896.py:15: FutureWarning: suggest_loguniform has been deprecated in v3.0.0. This feature will be removed in v6.0.0. See https://github.com/optuna/optuna/releases/tag/v3.0.0. Use suggest_float(..., log=True) instead.\n",
      "  'learning_rate': trial.suggest_loguniform('learning_rate', 0.01, 0.1),\n"
     ]
    },
    {
     "name": "stdout",
     "output_type": "stream",
     "text": [
      "[LightGBM] [Warning] Found whitespace in feature_names, replace with underlines\n",
      "[LightGBM] [Info] Auto-choosing col-wise multi-threading, the overhead of testing was 0.031002 seconds.\n",
      "You can set `force_col_wise=true` to remove the overhead.\n",
      "[LightGBM] [Info] Total Bins 5977\n",
      "[LightGBM] [Info] Number of data points in the train set: 201831, number of used features: 264\n",
      "[LightGBM] [Info] Start training from score 3.595914\n"
     ]
    },
    {
     "name": "stderr",
     "output_type": "stream",
     "text": [
      "[I 2024-03-02 23:22:22,644] Trial 28 finished with value: 2.646198123843035 and parameters: {'n_estimators': 146, 'max_depth': 15, 'learning_rate': 0.056396359035857005, 'num_leaves': 36, 'min_child_samples': 21}. Best is trial 27 with value: 2.6129997219074994.\n",
      "C:\\Users\\taeho\\AppData\\Local\\Temp\\ipykernel_27840\\1874363896.py:15: FutureWarning: suggest_loguniform has been deprecated in v3.0.0. This feature will be removed in v6.0.0. See https://github.com/optuna/optuna/releases/tag/v3.0.0. Use suggest_float(..., log=True) instead.\n",
      "  'learning_rate': trial.suggest_loguniform('learning_rate', 0.01, 0.1),\n"
     ]
    },
    {
     "name": "stdout",
     "output_type": "stream",
     "text": [
      "[LightGBM] [Warning] Found whitespace in feature_names, replace with underlines\n",
      "[LightGBM] [Info] Auto-choosing col-wise multi-threading, the overhead of testing was 0.029986 seconds.\n",
      "You can set `force_col_wise=true` to remove the overhead.\n",
      "[LightGBM] [Info] Total Bins 6009\n",
      "[LightGBM] [Info] Number of data points in the train set: 201831, number of used features: 280\n",
      "[LightGBM] [Info] Start training from score 3.595914\n"
     ]
    },
    {
     "name": "stderr",
     "output_type": "stream",
     "text": [
      "[I 2024-03-02 23:22:27,322] Trial 29 finished with value: 2.6542381546681635 and parameters: {'n_estimators': 146, 'max_depth': 22, 'learning_rate': 0.02858122862420398, 'num_leaves': 42, 'min_child_samples': 12}. Best is trial 27 with value: 2.6129997219074994.\n",
      "C:\\Users\\taeho\\AppData\\Local\\Temp\\ipykernel_27840\\1874363896.py:15: FutureWarning: suggest_loguniform has been deprecated in v3.0.0. This feature will be removed in v6.0.0. See https://github.com/optuna/optuna/releases/tag/v3.0.0. Use suggest_float(..., log=True) instead.\n",
      "  'learning_rate': trial.suggest_loguniform('learning_rate', 0.01, 0.1),\n"
     ]
    },
    {
     "name": "stdout",
     "output_type": "stream",
     "text": [
      "[LightGBM] [Warning] Found whitespace in feature_names, replace with underlines\n",
      "[LightGBM] [Info] Auto-choosing col-wise multi-threading, the overhead of testing was 0.031215 seconds.\n",
      "You can set `force_col_wise=true` to remove the overhead.\n",
      "[LightGBM] [Info] Total Bins 5937\n",
      "[LightGBM] [Info] Number of data points in the train set: 201831, number of used features: 244\n",
      "[LightGBM] [Info] Start training from score 3.595914\n"
     ]
    },
    {
     "name": "stderr",
     "output_type": "stream",
     "text": [
      "[I 2024-03-02 23:22:30,998] Trial 30 finished with value: 2.6720799967855857 and parameters: {'n_estimators': 141, 'max_depth': 18, 'learning_rate': 0.03658631565683443, 'num_leaves': 25, 'min_child_samples': 38}. Best is trial 27 with value: 2.6129997219074994.\n",
      "C:\\Users\\taeho\\AppData\\Local\\Temp\\ipykernel_27840\\1874363896.py:15: FutureWarning: suggest_loguniform has been deprecated in v3.0.0. This feature will be removed in v6.0.0. See https://github.com/optuna/optuna/releases/tag/v3.0.0. Use suggest_float(..., log=True) instead.\n",
      "  'learning_rate': trial.suggest_loguniform('learning_rate', 0.01, 0.1),\n"
     ]
    },
    {
     "name": "stdout",
     "output_type": "stream",
     "text": [
      "[LightGBM] [Warning] Found whitespace in feature_names, replace with underlines\n",
      "[LightGBM] [Info] Auto-choosing col-wise multi-threading, the overhead of testing was 0.031213 seconds.\n",
      "You can set `force_col_wise=true` to remove the overhead.\n",
      "[LightGBM] [Info] Total Bins 6029\n",
      "[LightGBM] [Info] Number of data points in the train set: 201831, number of used features: 290\n",
      "[LightGBM] [Info] Start training from score 3.595914\n"
     ]
    },
    {
     "name": "stderr",
     "output_type": "stream",
     "text": [
      "[I 2024-03-02 23:22:34,653] Trial 31 finished with value: 2.645012803842879 and parameters: {'n_estimators': 139, 'max_depth': 21, 'learning_rate': 0.0675398524235782, 'num_leaves': 32, 'min_child_samples': 8}. Best is trial 27 with value: 2.6129997219074994.\n",
      "C:\\Users\\taeho\\AppData\\Local\\Temp\\ipykernel_27840\\1874363896.py:15: FutureWarning: suggest_loguniform has been deprecated in v3.0.0. This feature will be removed in v6.0.0. See https://github.com/optuna/optuna/releases/tag/v3.0.0. Use suggest_float(..., log=True) instead.\n",
      "  'learning_rate': trial.suggest_loguniform('learning_rate', 0.01, 0.1),\n"
     ]
    },
    {
     "name": "stdout",
     "output_type": "stream",
     "text": [
      "[LightGBM] [Warning] Found whitespace in feature_names, replace with underlines\n",
      "[LightGBM] [Info] Auto-choosing col-wise multi-threading, the overhead of testing was 0.032070 seconds.\n",
      "You can set `force_col_wise=true` to remove the overhead.\n",
      "[LightGBM] [Info] Total Bins 6061\n",
      "[LightGBM] [Info] Number of data points in the train set: 201831, number of used features: 306\n",
      "[LightGBM] [Info] Start training from score 3.595914\n"
     ]
    },
    {
     "name": "stderr",
     "output_type": "stream",
     "text": [
      "[I 2024-03-02 23:22:38,215] Trial 32 finished with value: 2.645002426991353 and parameters: {'n_estimators': 133, 'max_depth': 15, 'learning_rate': 0.08109627997562636, 'num_leaves': 34, 'min_child_samples': 5}. Best is trial 27 with value: 2.6129997219074994.\n",
      "C:\\Users\\taeho\\AppData\\Local\\Temp\\ipykernel_27840\\1874363896.py:15: FutureWarning: suggest_loguniform has been deprecated in v3.0.0. This feature will be removed in v6.0.0. See https://github.com/optuna/optuna/releases/tag/v3.0.0. Use suggest_float(..., log=True) instead.\n",
      "  'learning_rate': trial.suggest_loguniform('learning_rate', 0.01, 0.1),\n"
     ]
    },
    {
     "name": "stdout",
     "output_type": "stream",
     "text": [
      "[LightGBM] [Warning] Found whitespace in feature_names, replace with underlines\n",
      "[LightGBM] [Info] Auto-choosing col-wise multi-threading, the overhead of testing was 0.027075 seconds.\n",
      "You can set `force_col_wise=true` to remove the overhead.\n",
      "[LightGBM] [Info] Total Bins 5999\n",
      "[LightGBM] [Info] Number of data points in the train set: 201831, number of used features: 275\n",
      "[LightGBM] [Info] Start training from score 3.595914\n"
     ]
    },
    {
     "name": "stderr",
     "output_type": "stream",
     "text": [
      "[I 2024-03-02 23:22:42,391] Trial 33 finished with value: 2.6298983518832597 and parameters: {'n_estimators': 147, 'max_depth': 20, 'learning_rate': 0.0711344239611305, 'num_leaves': 30, 'min_child_samples': 13}. Best is trial 27 with value: 2.6129997219074994.\n",
      "C:\\Users\\taeho\\AppData\\Local\\Temp\\ipykernel_27840\\1874363896.py:15: FutureWarning: suggest_loguniform has been deprecated in v3.0.0. This feature will be removed in v6.0.0. See https://github.com/optuna/optuna/releases/tag/v3.0.0. Use suggest_float(..., log=True) instead.\n",
      "  'learning_rate': trial.suggest_loguniform('learning_rate', 0.01, 0.1),\n"
     ]
    },
    {
     "name": "stdout",
     "output_type": "stream",
     "text": [
      "[LightGBM] [Warning] Found whitespace in feature_names, replace with underlines\n",
      "[LightGBM] [Info] Auto-choosing col-wise multi-threading, the overhead of testing was 0.028344 seconds.\n",
      "You can set `force_col_wise=true` to remove the overhead.\n",
      "[LightGBM] [Info] Total Bins 6021\n",
      "[LightGBM] [Info] Number of data points in the train set: 201831, number of used features: 286\n",
      "[LightGBM] [Info] Start training from score 3.595914\n"
     ]
    },
    {
     "name": "stderr",
     "output_type": "stream",
     "text": [
      "[I 2024-03-02 23:22:45,772] Trial 34 finished with value: 2.640246978206476 and parameters: {'n_estimators': 144, 'max_depth': 18, 'learning_rate': 0.0868500233581135, 'num_leaves': 28, 'min_child_samples': 9}. Best is trial 27 with value: 2.6129997219074994.\n",
      "C:\\Users\\taeho\\AppData\\Local\\Temp\\ipykernel_27840\\1874363896.py:15: FutureWarning: suggest_loguniform has been deprecated in v3.0.0. This feature will be removed in v6.0.0. See https://github.com/optuna/optuna/releases/tag/v3.0.0. Use suggest_float(..., log=True) instead.\n",
      "  'learning_rate': trial.suggest_loguniform('learning_rate', 0.01, 0.1),\n"
     ]
    },
    {
     "name": "stdout",
     "output_type": "stream",
     "text": [
      "[LightGBM] [Warning] Found whitespace in feature_names, replace with underlines\n",
      "[LightGBM] [Info] Auto-choosing col-wise multi-threading, the overhead of testing was 0.031604 seconds.\n",
      "You can set `force_col_wise=true` to remove the overhead.\n",
      "[LightGBM] [Info] Total Bins 5999\n",
      "[LightGBM] [Info] Number of data points in the train set: 201831, number of used features: 275\n",
      "[LightGBM] [Info] Start training from score 3.595914\n"
     ]
    },
    {
     "name": "stderr",
     "output_type": "stream",
     "text": [
      "[I 2024-03-02 23:22:49,515] Trial 35 finished with value: 2.6258103685833536 and parameters: {'n_estimators': 137, 'max_depth': 21, 'learning_rate': 0.053040593730310434, 'num_leaves': 41, 'min_child_samples': 13}. Best is trial 27 with value: 2.6129997219074994.\n",
      "C:\\Users\\taeho\\AppData\\Local\\Temp\\ipykernel_27840\\1874363896.py:15: FutureWarning: suggest_loguniform has been deprecated in v3.0.0. This feature will be removed in v6.0.0. See https://github.com/optuna/optuna/releases/tag/v3.0.0. Use suggest_float(..., log=True) instead.\n",
      "  'learning_rate': trial.suggest_loguniform('learning_rate', 0.01, 0.1),\n"
     ]
    },
    {
     "name": "stdout",
     "output_type": "stream",
     "text": [
      "[LightGBM] [Warning] Found whitespace in feature_names, replace with underlines\n",
      "[LightGBM] [Info] Auto-choosing col-wise multi-threading, the overhead of testing was 0.032167 seconds.\n",
      "You can set `force_col_wise=true` to remove the overhead.\n",
      "[LightGBM] [Info] Total Bins 5921\n",
      "[LightGBM] [Info] Number of data points in the train set: 201831, number of used features: 236\n",
      "[LightGBM] [Info] Start training from score 3.595914\n"
     ]
    },
    {
     "name": "stderr",
     "output_type": "stream",
     "text": [
      "[I 2024-03-02 23:22:53,223] Trial 36 finished with value: 2.636220193445548 and parameters: {'n_estimators': 137, 'max_depth': 23, 'learning_rate': 0.04928786750223504, 'num_leaves': 40, 'min_child_samples': 49}. Best is trial 27 with value: 2.6129997219074994.\n",
      "C:\\Users\\taeho\\AppData\\Local\\Temp\\ipykernel_27840\\1874363896.py:15: FutureWarning: suggest_loguniform has been deprecated in v3.0.0. This feature will be removed in v6.0.0. See https://github.com/optuna/optuna/releases/tag/v3.0.0. Use suggest_float(..., log=True) instead.\n",
      "  'learning_rate': trial.suggest_loguniform('learning_rate', 0.01, 0.1),\n"
     ]
    },
    {
     "name": "stdout",
     "output_type": "stream",
     "text": [
      "[LightGBM] [Warning] Found whitespace in feature_names, replace with underlines\n",
      "[LightGBM] [Info] Auto-choosing col-wise multi-threading, the overhead of testing was 0.031901 seconds.\n",
      "You can set `force_col_wise=true` to remove the overhead.\n",
      "[LightGBM] [Info] Total Bins 5997\n",
      "[LightGBM] [Info] Number of data points in the train set: 201831, number of used features: 274\n",
      "[LightGBM] [Info] Start training from score 3.595914\n"
     ]
    },
    {
     "name": "stderr",
     "output_type": "stream",
     "text": [
      "[I 2024-03-02 23:22:57,330] Trial 37 finished with value: 2.6368341961565935 and parameters: {'n_estimators': 132, 'max_depth': 22, 'learning_rate': 0.05424631766766615, 'num_leaves': 44, 'min_child_samples': 14}. Best is trial 27 with value: 2.6129997219074994.\n",
      "C:\\Users\\taeho\\AppData\\Local\\Temp\\ipykernel_27840\\1874363896.py:15: FutureWarning: suggest_loguniform has been deprecated in v3.0.0. This feature will be removed in v6.0.0. See https://github.com/optuna/optuna/releases/tag/v3.0.0. Use suggest_float(..., log=True) instead.\n",
      "  'learning_rate': trial.suggest_loguniform('learning_rate', 0.01, 0.1),\n"
     ]
    },
    {
     "name": "stdout",
     "output_type": "stream",
     "text": [
      "[LightGBM] [Warning] Found whitespace in feature_names, replace with underlines\n",
      "[LightGBM] [Info] Auto-choosing col-wise multi-threading, the overhead of testing was 0.027335 seconds.\n",
      "You can set `force_col_wise=true` to remove the overhead.\n",
      "[LightGBM] [Info] Total Bins 5999\n",
      "[LightGBM] [Info] Number of data points in the train set: 201831, number of used features: 275\n",
      "[LightGBM] [Info] Start training from score 3.595914\n"
     ]
    },
    {
     "name": "stderr",
     "output_type": "stream",
     "text": [
      "[I 2024-03-02 23:23:00,354] Trial 38 finished with value: 2.625206223512456 and parameters: {'n_estimators': 124, 'max_depth': 16, 'learning_rate': 0.07021533510287277, 'num_leaves': 39, 'min_child_samples': 13}. Best is trial 27 with value: 2.6129997219074994.\n",
      "C:\\Users\\taeho\\AppData\\Local\\Temp\\ipykernel_27840\\1874363896.py:15: FutureWarning: suggest_loguniform has been deprecated in v3.0.0. This feature will be removed in v6.0.0. See https://github.com/optuna/optuna/releases/tag/v3.0.0. Use suggest_float(..., log=True) instead.\n",
      "  'learning_rate': trial.suggest_loguniform('learning_rate', 0.01, 0.1),\n"
     ]
    },
    {
     "name": "stdout",
     "output_type": "stream",
     "text": [
      "[LightGBM] [Warning] Found whitespace in feature_names, replace with underlines\n",
      "[LightGBM] [Info] Auto-choosing col-wise multi-threading, the overhead of testing was 0.023426 seconds.\n",
      "You can set `force_col_wise=true` to remove the overhead.\n",
      "[LightGBM] [Info] Total Bins 5981\n",
      "[LightGBM] [Info] Number of data points in the train set: 201831, number of used features: 266\n",
      "[LightGBM] [Info] Start training from score 3.595914\n",
      "[LightGBM] [Warning] No further splits with positive gain, best gain: -inf\n"
     ]
    },
    {
     "name": "stderr",
     "output_type": "stream",
     "text": [
      "[I 2024-03-02 23:23:03,424] Trial 39 finished with value: 2.652440124950937 and parameters: {'n_estimators': 119, 'max_depth': 13, 'learning_rate': 0.06477713091536845, 'num_leaves': 35, 'min_child_samples': 20}. Best is trial 27 with value: 2.6129997219074994.\n",
      "C:\\Users\\taeho\\AppData\\Local\\Temp\\ipykernel_27840\\1874363896.py:15: FutureWarning: suggest_loguniform has been deprecated in v3.0.0. This feature will be removed in v6.0.0. See https://github.com/optuna/optuna/releases/tag/v3.0.0. Use suggest_float(..., log=True) instead.\n",
      "  'learning_rate': trial.suggest_loguniform('learning_rate', 0.01, 0.1),\n"
     ]
    },
    {
     "name": "stdout",
     "output_type": "stream",
     "text": [
      "[LightGBM] [Warning] Found whitespace in feature_names, replace with underlines\n",
      "[LightGBM] [Info] Auto-choosing col-wise multi-threading, the overhead of testing was 0.026417 seconds.\n",
      "You can set `force_col_wise=true` to remove the overhead.\n",
      "[LightGBM] [Info] Total Bins 5987\n",
      "[LightGBM] [Info] Number of data points in the train set: 201831, number of used features: 269\n",
      "[LightGBM] [Info] Start training from score 3.595914\n",
      "[LightGBM] [Warning] No further splits with positive gain, best gain: -inf\n",
      "[LightGBM] [Warning] No further splits with positive gain, best gain: -inf\n"
     ]
    },
    {
     "name": "stderr",
     "output_type": "stream",
     "text": [
      "[I 2024-03-02 23:23:06,365] Trial 40 finished with value: 2.634519114771784 and parameters: {'n_estimators': 126, 'max_depth': 13, 'learning_rate': 0.07136542646526522, 'num_leaves': 38, 'min_child_samples': 18}. Best is trial 27 with value: 2.6129997219074994.\n",
      "C:\\Users\\taeho\\AppData\\Local\\Temp\\ipykernel_27840\\1874363896.py:15: FutureWarning: suggest_loguniform has been deprecated in v3.0.0. This feature will be removed in v6.0.0. See https://github.com/optuna/optuna/releases/tag/v3.0.0. Use suggest_float(..., log=True) instead.\n",
      "  'learning_rate': trial.suggest_loguniform('learning_rate', 0.01, 0.1),\n"
     ]
    },
    {
     "name": "stdout",
     "output_type": "stream",
     "text": [
      "[LightGBM] [Warning] Found whitespace in feature_names, replace with underlines\n",
      "[LightGBM] [Info] Auto-choosing col-wise multi-threading, the overhead of testing was 0.028051 seconds.\n",
      "You can set `force_col_wise=true` to remove the overhead.\n",
      "[LightGBM] [Info] Total Bins 6009\n",
      "[LightGBM] [Info] Number of data points in the train set: 201831, number of used features: 280\n",
      "[LightGBM] [Info] Start training from score 3.595914\n"
     ]
    },
    {
     "name": "stderr",
     "output_type": "stream",
     "text": [
      "[I 2024-03-02 23:23:09,242] Trial 41 finished with value: 2.6431516423146753 and parameters: {'n_estimators': 113, 'max_depth': 16, 'learning_rate': 0.04323897319330217, 'num_leaves': 43, 'min_child_samples': 12}. Best is trial 27 with value: 2.6129997219074994.\n",
      "C:\\Users\\taeho\\AppData\\Local\\Temp\\ipykernel_27840\\1874363896.py:15: FutureWarning: suggest_loguniform has been deprecated in v3.0.0. This feature will be removed in v6.0.0. See https://github.com/optuna/optuna/releases/tag/v3.0.0. Use suggest_float(..., log=True) instead.\n",
      "  'learning_rate': trial.suggest_loguniform('learning_rate', 0.01, 0.1),\n"
     ]
    },
    {
     "name": "stdout",
     "output_type": "stream",
     "text": [
      "[LightGBM] [Warning] Found whitespace in feature_names, replace with underlines\n",
      "[LightGBM] [Info] Auto-choosing col-wise multi-threading, the overhead of testing was 0.026297 seconds.\n",
      "You can set `force_col_wise=true` to remove the overhead.\n",
      "[LightGBM] [Info] Total Bins 5997\n",
      "[LightGBM] [Info] Number of data points in the train set: 201831, number of used features: 274\n",
      "[LightGBM] [Info] Start training from score 3.595914\n"
     ]
    },
    {
     "name": "stderr",
     "output_type": "stream",
     "text": [
      "[I 2024-03-02 23:23:12,213] Trial 42 finished with value: 2.6406556148748304 and parameters: {'n_estimators': 123, 'max_depth': 19, 'learning_rate': 0.07132239231758176, 'num_leaves': 40, 'min_child_samples': 14}. Best is trial 27 with value: 2.6129997219074994.\n",
      "C:\\Users\\taeho\\AppData\\Local\\Temp\\ipykernel_27840\\1874363896.py:15: FutureWarning: suggest_loguniform has been deprecated in v3.0.0. This feature will be removed in v6.0.0. See https://github.com/optuna/optuna/releases/tag/v3.0.0. Use suggest_float(..., log=True) instead.\n",
      "  'learning_rate': trial.suggest_loguniform('learning_rate', 0.01, 0.1),\n"
     ]
    },
    {
     "name": "stdout",
     "output_type": "stream",
     "text": [
      "[LightGBM] [Warning] Found whitespace in feature_names, replace with underlines\n",
      "[LightGBM] [Info] Auto-choosing col-wise multi-threading, the overhead of testing was 0.024902 seconds.\n",
      "You can set `force_col_wise=true` to remove the overhead.\n",
      "[LightGBM] [Info] Total Bins 6029\n",
      "[LightGBM] [Info] Number of data points in the train set: 201831, number of used features: 290\n",
      "[LightGBM] [Info] Start training from score 3.595914\n"
     ]
    },
    {
     "name": "stderr",
     "output_type": "stream",
     "text": [
      "[I 2024-03-02 23:23:15,260] Trial 43 finished with value: 2.6571008263585596 and parameters: {'n_estimators': 119, 'max_depth': 21, 'learning_rate': 0.059345835219460456, 'num_leaves': 46, 'min_child_samples': 8}. Best is trial 27 with value: 2.6129997219074994.\n",
      "C:\\Users\\taeho\\AppData\\Local\\Temp\\ipykernel_27840\\1874363896.py:15: FutureWarning: suggest_loguniform has been deprecated in v3.0.0. This feature will be removed in v6.0.0. See https://github.com/optuna/optuna/releases/tag/v3.0.0. Use suggest_float(..., log=True) instead.\n",
      "  'learning_rate': trial.suggest_loguniform('learning_rate', 0.01, 0.1),\n"
     ]
    },
    {
     "name": "stdout",
     "output_type": "stream",
     "text": [
      "[LightGBM] [Warning] Found whitespace in feature_names, replace with underlines\n",
      "[LightGBM] [Info] Auto-choosing col-wise multi-threading, the overhead of testing was 0.025965 seconds.\n",
      "You can set `force_col_wise=true` to remove the overhead.\n",
      "[LightGBM] [Info] Total Bins 6011\n",
      "[LightGBM] [Info] Number of data points in the train set: 201831, number of used features: 281\n",
      "[LightGBM] [Info] Start training from score 3.595914\n"
     ]
    },
    {
     "name": "stderr",
     "output_type": "stream",
     "text": [
      "[I 2024-03-02 23:23:18,324] Trial 44 finished with value: 2.633101511616511 and parameters: {'n_estimators': 126, 'max_depth': 19, 'learning_rate': 0.08676513201455595, 'num_leaves': 42, 'min_child_samples': 11}. Best is trial 27 with value: 2.6129997219074994.\n",
      "C:\\Users\\taeho\\AppData\\Local\\Temp\\ipykernel_27840\\1874363896.py:15: FutureWarning: suggest_loguniform has been deprecated in v3.0.0. This feature will be removed in v6.0.0. See https://github.com/optuna/optuna/releases/tag/v3.0.0. Use suggest_float(..., log=True) instead.\n",
      "  'learning_rate': trial.suggest_loguniform('learning_rate', 0.01, 0.1),\n"
     ]
    },
    {
     "name": "stdout",
     "output_type": "stream",
     "text": [
      "[LightGBM] [Warning] Found whitespace in feature_names, replace with underlines\n",
      "[LightGBM] [Info] Auto-choosing row-wise multi-threading, the overhead of testing was 0.014048 seconds.\n",
      "You can set `force_row_wise=true` to remove the overhead.\n",
      "And if memory is not enough, you can set `force_col_wise=true`.\n",
      "[LightGBM] [Info] Total Bins 6037\n",
      "[LightGBM] [Info] Number of data points in the train set: 201831, number of used features: 294\n",
      "[LightGBM] [Info] Start training from score 3.595914\n"
     ]
    },
    {
     "name": "stderr",
     "output_type": "stream",
     "text": [
      "[I 2024-03-02 23:23:21,568] Trial 45 finished with value: 2.644228662785468 and parameters: {'n_estimators': 136, 'max_depth': 17, 'learning_rate': 0.07557612988003481, 'num_leaves': 38, 'min_child_samples': 7}. Best is trial 27 with value: 2.6129997219074994.\n",
      "C:\\Users\\taeho\\AppData\\Local\\Temp\\ipykernel_27840\\1874363896.py:15: FutureWarning: suggest_loguniform has been deprecated in v3.0.0. This feature will be removed in v6.0.0. See https://github.com/optuna/optuna/releases/tag/v3.0.0. Use suggest_float(..., log=True) instead.\n",
      "  'learning_rate': trial.suggest_loguniform('learning_rate', 0.01, 0.1),\n"
     ]
    },
    {
     "name": "stdout",
     "output_type": "stream",
     "text": [
      "[LightGBM] [Warning] Accuracy may be bad since you didn't explicitly set num_leaves OR 2^max_depth > num_leaves. (num_leaves=31).\n",
      "[LightGBM] [Warning] Found whitespace in feature_names, replace with underlines\n",
      "[LightGBM] [Warning] Accuracy may be bad since you didn't explicitly set num_leaves OR 2^max_depth > num_leaves. (num_leaves=31).\n",
      "[LightGBM] [Info] Auto-choosing col-wise multi-threading, the overhead of testing was 0.026707 seconds.\n",
      "You can set `force_col_wise=true` to remove the overhead.\n",
      "[LightGBM] [Info] Total Bins 5995\n",
      "[LightGBM] [Info] Number of data points in the train set: 201831, number of used features: 273\n",
      "[LightGBM] [Info] Start training from score 3.595914\n",
      "[LightGBM] [Warning] No further splits with positive gain, best gain: -inf\n",
      "[LightGBM] [Warning] No further splits with positive gain, best gain: -inf\n",
      "[LightGBM] [Warning] No further splits with positive gain, best gain: -inf\n",
      "[LightGBM] [Warning] No further splits with positive gain, best gain: -inf\n",
      "[LightGBM] [Warning] No further splits with positive gain, best gain: -inf\n",
      "[LightGBM] [Warning] No further splits with positive gain, best gain: -inf\n",
      "[LightGBM] [Warning] No further splits with positive gain, best gain: -inf\n",
      "[LightGBM] [Warning] No further splits with positive gain, best gain: -inf\n",
      "[LightGBM] [Warning] No further splits with positive gain, best gain: -inf\n",
      "[LightGBM] [Warning] No further splits with positive gain, best gain: -inf\n",
      "[LightGBM] [Warning] No further splits with positive gain, best gain: -inf\n",
      "[LightGBM] [Warning] Accuracy may be bad since you didn't explicitly set num_leaves OR 2^max_depth > num_leaves. (num_leaves=31).\n"
     ]
    },
    {
     "name": "stderr",
     "output_type": "stream",
     "text": [
      "[I 2024-03-02 23:23:24,911] Trial 46 finished with value: 2.6535095011548058 and parameters: {'n_estimators': 148, 'max_depth': 7, 'learning_rate': 0.06422519451901433, 'num_leaves': 31, 'min_child_samples': 15}. Best is trial 27 with value: 2.6129997219074994.\n",
      "C:\\Users\\taeho\\AppData\\Local\\Temp\\ipykernel_27840\\1874363896.py:15: FutureWarning: suggest_loguniform has been deprecated in v3.0.0. This feature will be removed in v6.0.0. See https://github.com/optuna/optuna/releases/tag/v3.0.0. Use suggest_float(..., log=True) instead.\n",
      "  'learning_rate': trial.suggest_loguniform('learning_rate', 0.01, 0.1),\n"
     ]
    },
    {
     "name": "stdout",
     "output_type": "stream",
     "text": [
      "[LightGBM] [Warning] Found whitespace in feature_names, replace with underlines\n",
      "[LightGBM] [Info] Auto-choosing row-wise multi-threading, the overhead of testing was 0.015440 seconds.\n",
      "You can set `force_row_wise=true` to remove the overhead.\n",
      "And if memory is not enough, you can set `force_col_wise=true`.\n",
      "[LightGBM] [Info] Total Bins 5925\n",
      "[LightGBM] [Info] Number of data points in the train set: 201831, number of used features: 238\n",
      "[LightGBM] [Info] Start training from score 3.595914\n"
     ]
    },
    {
     "name": "stderr",
     "output_type": "stream",
     "text": [
      "[I 2024-03-02 23:23:28,191] Trial 47 finished with value: 2.658431922644917 and parameters: {'n_estimators': 116, 'max_depth': 24, 'learning_rate': 0.051974516396228174, 'num_leaves': 27, 'min_child_samples': 44}. Best is trial 27 with value: 2.6129997219074994.\n",
      "C:\\Users\\taeho\\AppData\\Local\\Temp\\ipykernel_27840\\1874363896.py:15: FutureWarning: suggest_loguniform has been deprecated in v3.0.0. This feature will be removed in v6.0.0. See https://github.com/optuna/optuna/releases/tag/v3.0.0. Use suggest_float(..., log=True) instead.\n",
      "  'learning_rate': trial.suggest_loguniform('learning_rate', 0.01, 0.1),\n"
     ]
    },
    {
     "name": "stdout",
     "output_type": "stream",
     "text": [
      "[LightGBM] [Warning] Found whitespace in feature_names, replace with underlines\n",
      "[LightGBM] [Info] Auto-choosing col-wise multi-threading, the overhead of testing was 0.022409 seconds.\n",
      "You can set `force_col_wise=true` to remove the overhead.\n",
      "[LightGBM] [Info] Total Bins 6019\n",
      "[LightGBM] [Info] Number of data points in the train set: 201831, number of used features: 285\n",
      "[LightGBM] [Info] Start training from score 3.595914\n"
     ]
    },
    {
     "name": "stderr",
     "output_type": "stream",
     "text": [
      "[I 2024-03-02 23:23:32,107] Trial 48 finished with value: 2.683204148822876 and parameters: {'n_estimators': 144, 'max_depth': 11, 'learning_rate': 0.02472681263072457, 'num_leaves': 35, 'min_child_samples': 10}. Best is trial 27 with value: 2.6129997219074994.\n",
      "C:\\Users\\taeho\\AppData\\Local\\Temp\\ipykernel_27840\\1874363896.py:15: FutureWarning: suggest_loguniform has been deprecated in v3.0.0. This feature will be removed in v6.0.0. See https://github.com/optuna/optuna/releases/tag/v3.0.0. Use suggest_float(..., log=True) instead.\n",
      "  'learning_rate': trial.suggest_loguniform('learning_rate', 0.01, 0.1),\n"
     ]
    },
    {
     "name": "stdout",
     "output_type": "stream",
     "text": [
      "[LightGBM] [Warning] Found whitespace in feature_names, replace with underlines\n",
      "[LightGBM] [Info] Auto-choosing col-wise multi-threading, the overhead of testing was 0.030950 seconds.\n",
      "You can set `force_col_wise=true` to remove the overhead.\n",
      "[LightGBM] [Info] Total Bins 5983\n",
      "[LightGBM] [Info] Number of data points in the train set: 201831, number of used features: 267\n",
      "[LightGBM] [Info] Start training from score 3.595914\n"
     ]
    },
    {
     "name": "stderr",
     "output_type": "stream",
     "text": [
      "[I 2024-03-02 23:23:34,980] Trial 49 finished with value: 2.701010535751541 and parameters: {'n_estimators': 104, 'max_depth': 16, 'learning_rate': 0.04059172252404447, 'num_leaves': 22, 'min_child_samples': 19}. Best is trial 27 with value: 2.6129997219074994.\n",
      "C:\\Users\\taeho\\AppData\\Local\\Temp\\ipykernel_27840\\1874363896.py:15: FutureWarning: suggest_loguniform has been deprecated in v3.0.0. This feature will be removed in v6.0.0. See https://github.com/optuna/optuna/releases/tag/v3.0.0. Use suggest_float(..., log=True) instead.\n",
      "  'learning_rate': trial.suggest_loguniform('learning_rate', 0.01, 0.1),\n"
     ]
    },
    {
     "name": "stdout",
     "output_type": "stream",
     "text": [
      "[LightGBM] [Warning] Found whitespace in feature_names, replace with underlines\n",
      "[LightGBM] [Info] Auto-choosing col-wise multi-threading, the overhead of testing was 0.025795 seconds.\n",
      "You can set `force_col_wise=true` to remove the overhead.\n",
      "[LightGBM] [Info] Total Bins 5971\n",
      "[LightGBM] [Info] Number of data points in the train set: 201831, number of used features: 261\n",
      "[LightGBM] [Info] Start training from score 3.595914\n"
     ]
    },
    {
     "name": "stderr",
     "output_type": "stream",
     "text": [
      "[I 2024-03-02 23:23:38,603] Trial 50 finished with value: 2.631578279259409 and parameters: {'n_estimators': 130, 'max_depth': 23, 'learning_rate': 0.08712813473017572, 'num_leaves': 47, 'min_child_samples': 23}. Best is trial 27 with value: 2.6129997219074994.\n",
      "C:\\Users\\taeho\\AppData\\Local\\Temp\\ipykernel_27840\\1874363896.py:15: FutureWarning: suggest_loguniform has been deprecated in v3.0.0. This feature will be removed in v6.0.0. See https://github.com/optuna/optuna/releases/tag/v3.0.0. Use suggest_float(..., log=True) instead.\n",
      "  'learning_rate': trial.suggest_loguniform('learning_rate', 0.01, 0.1),\n"
     ]
    },
    {
     "name": "stdout",
     "output_type": "stream",
     "text": [
      "[LightGBM] [Warning] Found whitespace in feature_names, replace with underlines\n",
      "[LightGBM] [Info] Auto-choosing col-wise multi-threading, the overhead of testing was 0.029773 seconds.\n",
      "You can set `force_col_wise=true` to remove the overhead.\n",
      "[LightGBM] [Info] Total Bins 6037\n",
      "[LightGBM] [Info] Number of data points in the train set: 201831, number of used features: 294\n",
      "[LightGBM] [Info] Start training from score 3.595914\n"
     ]
    },
    {
     "name": "stderr",
     "output_type": "stream",
     "text": [
      "[I 2024-03-02 23:23:41,679] Trial 51 finished with value: 2.65033974669365 and parameters: {'n_estimators': 138, 'max_depth': 19, 'learning_rate': 0.0760977050813614, 'num_leaves': 34, 'min_child_samples': 7}. Best is trial 27 with value: 2.6129997219074994.\n",
      "C:\\Users\\taeho\\AppData\\Local\\Temp\\ipykernel_27840\\1874363896.py:15: FutureWarning: suggest_loguniform has been deprecated in v3.0.0. This feature will be removed in v6.0.0. See https://github.com/optuna/optuna/releases/tag/v3.0.0. Use suggest_float(..., log=True) instead.\n",
      "  'learning_rate': trial.suggest_loguniform('learning_rate', 0.01, 0.1),\n"
     ]
    },
    {
     "name": "stdout",
     "output_type": "stream",
     "text": [
      "[LightGBM] [Warning] Found whitespace in feature_names, replace with underlines\n",
      "[LightGBM] [Info] Auto-choosing col-wise multi-threading, the overhead of testing was 0.028492 seconds.\n",
      "You can set `force_col_wise=true` to remove the overhead.\n",
      "[LightGBM] [Info] Total Bins 6009\n",
      "[LightGBM] [Info] Number of data points in the train set: 201831, number of used features: 280\n",
      "[LightGBM] [Info] Start training from score 3.595914\n"
     ]
    },
    {
     "name": "stderr",
     "output_type": "stream",
     "text": [
      "[I 2024-03-02 23:23:45,027] Trial 52 finished with value: 2.624353638943577 and parameters: {'n_estimators': 141, 'max_depth': 21, 'learning_rate': 0.08997126799475236, 'num_leaves': 38, 'min_child_samples': 12}. Best is trial 27 with value: 2.6129997219074994.\n",
      "C:\\Users\\taeho\\AppData\\Local\\Temp\\ipykernel_27840\\1874363896.py:15: FutureWarning: suggest_loguniform has been deprecated in v3.0.0. This feature will be removed in v6.0.0. See https://github.com/optuna/optuna/releases/tag/v3.0.0. Use suggest_float(..., log=True) instead.\n",
      "  'learning_rate': trial.suggest_loguniform('learning_rate', 0.01, 0.1),\n"
     ]
    },
    {
     "name": "stdout",
     "output_type": "stream",
     "text": [
      "[LightGBM] [Warning] Found whitespace in feature_names, replace with underlines\n",
      "[LightGBM] [Info] Auto-choosing col-wise multi-threading, the overhead of testing was 0.029599 seconds.\n",
      "You can set `force_col_wise=true` to remove the overhead.\n",
      "[LightGBM] [Info] Total Bins 5993\n",
      "[LightGBM] [Info] Number of data points in the train set: 201831, number of used features: 272\n",
      "[LightGBM] [Info] Start training from score 3.595914\n"
     ]
    },
    {
     "name": "stderr",
     "output_type": "stream",
     "text": [
      "[I 2024-03-02 23:23:48,846] Trial 53 finished with value: 3.0005786308355886 and parameters: {'n_estimators': 142, 'max_depth': 25, 'learning_rate': 0.010150304265786402, 'num_leaves': 41, 'min_child_samples': 16}. Best is trial 27 with value: 2.6129997219074994.\n",
      "C:\\Users\\taeho\\AppData\\Local\\Temp\\ipykernel_27840\\1874363896.py:15: FutureWarning: suggest_loguniform has been deprecated in v3.0.0. This feature will be removed in v6.0.0. See https://github.com/optuna/optuna/releases/tag/v3.0.0. Use suggest_float(..., log=True) instead.\n",
      "  'learning_rate': trial.suggest_loguniform('learning_rate', 0.01, 0.1),\n"
     ]
    },
    {
     "name": "stdout",
     "output_type": "stream",
     "text": [
      "[LightGBM] [Warning] Found whitespace in feature_names, replace with underlines\n",
      "[LightGBM] [Info] Auto-choosing col-wise multi-threading, the overhead of testing was 0.028372 seconds.\n",
      "You can set `force_col_wise=true` to remove the overhead.\n",
      "[LightGBM] [Info] Total Bins 6009\n",
      "[LightGBM] [Info] Number of data points in the train set: 201831, number of used features: 280\n",
      "[LightGBM] [Info] Start training from score 3.595914\n"
     ]
    },
    {
     "name": "stderr",
     "output_type": "stream",
     "text": [
      "[I 2024-03-02 23:23:52,538] Trial 54 finished with value: 2.6132018393733336 and parameters: {'n_estimators': 134, 'max_depth': 21, 'learning_rate': 0.06207359197634016, 'num_leaves': 38, 'min_child_samples': 12}. Best is trial 27 with value: 2.6129997219074994.\n",
      "C:\\Users\\taeho\\AppData\\Local\\Temp\\ipykernel_27840\\1874363896.py:15: FutureWarning: suggest_loguniform has been deprecated in v3.0.0. This feature will be removed in v6.0.0. See https://github.com/optuna/optuna/releases/tag/v3.0.0. Use suggest_float(..., log=True) instead.\n",
      "  'learning_rate': trial.suggest_loguniform('learning_rate', 0.01, 0.1),\n"
     ]
    },
    {
     "name": "stdout",
     "output_type": "stream",
     "text": [
      "[LightGBM] [Warning] Found whitespace in feature_names, replace with underlines\n",
      "[LightGBM] [Info] Auto-choosing col-wise multi-threading, the overhead of testing was 0.030906 seconds.\n",
      "You can set `force_col_wise=true` to remove the overhead.\n",
      "[LightGBM] [Info] Total Bins 6011\n",
      "[LightGBM] [Info] Number of data points in the train set: 201831, number of used features: 281\n",
      "[LightGBM] [Info] Start training from score 3.595914\n"
     ]
    },
    {
     "name": "stderr",
     "output_type": "stream",
     "text": [
      "[I 2024-03-02 23:23:55,811] Trial 55 finished with value: 2.639936543123864 and parameters: {'n_estimators': 134, 'max_depth': 23, 'learning_rate': 0.062002781355659016, 'num_leaves': 38, 'min_child_samples': 11}. Best is trial 27 with value: 2.6129997219074994.\n",
      "C:\\Users\\taeho\\AppData\\Local\\Temp\\ipykernel_27840\\1874363896.py:15: FutureWarning: suggest_loguniform has been deprecated in v3.0.0. This feature will be removed in v6.0.0. See https://github.com/optuna/optuna/releases/tag/v3.0.0. Use suggest_float(..., log=True) instead.\n",
      "  'learning_rate': trial.suggest_loguniform('learning_rate', 0.01, 0.1),\n"
     ]
    },
    {
     "name": "stdout",
     "output_type": "stream",
     "text": [
      "[LightGBM] [Warning] Found whitespace in feature_names, replace with underlines\n",
      "[LightGBM] [Info] Auto-choosing col-wise multi-threading, the overhead of testing was 0.027462 seconds.\n",
      "You can set `force_col_wise=true` to remove the overhead.\n",
      "[LightGBM] [Info] Total Bins 5993\n",
      "[LightGBM] [Info] Number of data points in the train set: 201831, number of used features: 272\n",
      "[LightGBM] [Info] Start training from score 3.595914\n"
     ]
    },
    {
     "name": "stderr",
     "output_type": "stream",
     "text": [
      "[I 2024-03-02 23:23:59,268] Trial 56 finished with value: 2.6209306293140764 and parameters: {'n_estimators': 140, 'max_depth': 20, 'learning_rate': 0.08971786755362265, 'num_leaves': 36, 'min_child_samples': 17}. Best is trial 27 with value: 2.6129997219074994.\n",
      "C:\\Users\\taeho\\AppData\\Local\\Temp\\ipykernel_27840\\1874363896.py:15: FutureWarning: suggest_loguniform has been deprecated in v3.0.0. This feature will be removed in v6.0.0. See https://github.com/optuna/optuna/releases/tag/v3.0.0. Use suggest_float(..., log=True) instead.\n",
      "  'learning_rate': trial.suggest_loguniform('learning_rate', 0.01, 0.1),\n"
     ]
    },
    {
     "name": "stdout",
     "output_type": "stream",
     "text": [
      "[LightGBM] [Warning] Found whitespace in feature_names, replace with underlines\n",
      "[LightGBM] [Info] Auto-choosing col-wise multi-threading, the overhead of testing was 0.029736 seconds.\n",
      "You can set `force_col_wise=true` to remove the overhead.\n",
      "[LightGBM] [Info] Total Bins 5993\n",
      "[LightGBM] [Info] Number of data points in the train set: 201831, number of used features: 272\n",
      "[LightGBM] [Info] Start training from score 3.595914\n"
     ]
    },
    {
     "name": "stderr",
     "output_type": "stream",
     "text": [
      "[I 2024-03-02 23:24:02,531] Trial 57 finished with value: 2.6364432995533607 and parameters: {'n_estimators': 141, 'max_depth': 21, 'learning_rate': 0.09131439997001202, 'num_leaves': 36, 'min_child_samples': 17}. Best is trial 27 with value: 2.6129997219074994.\n",
      "C:\\Users\\taeho\\AppData\\Local\\Temp\\ipykernel_27840\\1874363896.py:15: FutureWarning: suggest_loguniform has been deprecated in v3.0.0. This feature will be removed in v6.0.0. See https://github.com/optuna/optuna/releases/tag/v3.0.0. Use suggest_float(..., log=True) instead.\n",
      "  'learning_rate': trial.suggest_loguniform('learning_rate', 0.01, 0.1),\n"
     ]
    },
    {
     "name": "stdout",
     "output_type": "stream",
     "text": [
      "[LightGBM] [Warning] Found whitespace in feature_names, replace with underlines\n",
      "[LightGBM] [Info] Auto-choosing col-wise multi-threading, the overhead of testing was 0.027961 seconds.\n",
      "You can set `force_col_wise=true` to remove the overhead.\n",
      "[LightGBM] [Info] Total Bins 6019\n",
      "[LightGBM] [Info] Number of data points in the train set: 201831, number of used features: 285\n",
      "[LightGBM] [Info] Start training from score 3.595914\n"
     ]
    },
    {
     "name": "stderr",
     "output_type": "stream",
     "text": [
      "[I 2024-03-02 23:24:05,899] Trial 58 finished with value: 2.639076606429256 and parameters: {'n_estimators': 144, 'max_depth': 25, 'learning_rate': 0.08434850391747657, 'num_leaves': 32, 'min_child_samples': 10}. Best is trial 27 with value: 2.6129997219074994.\n",
      "C:\\Users\\taeho\\AppData\\Local\\Temp\\ipykernel_27840\\1874363896.py:15: FutureWarning: suggest_loguniform has been deprecated in v3.0.0. This feature will be removed in v6.0.0. See https://github.com/optuna/optuna/releases/tag/v3.0.0. Use suggest_float(..., log=True) instead.\n",
      "  'learning_rate': trial.suggest_loguniform('learning_rate', 0.01, 0.1),\n"
     ]
    },
    {
     "name": "stdout",
     "output_type": "stream",
     "text": [
      "[LightGBM] [Warning] Found whitespace in feature_names, replace with underlines\n",
      "[LightGBM] [Info] Auto-choosing col-wise multi-threading, the overhead of testing was 0.030316 seconds.\n",
      "You can set `force_col_wise=true` to remove the overhead.\n",
      "[LightGBM] [Info] Total Bins 5995\n",
      "[LightGBM] [Info] Number of data points in the train set: 201831, number of used features: 273\n",
      "[LightGBM] [Info] Start training from score 3.595914\n"
     ]
    },
    {
     "name": "stderr",
     "output_type": "stream",
     "text": [
      "[I 2024-03-02 23:24:09,006] Trial 59 finished with value: 2.650022124322945 and parameters: {'n_estimators': 148, 'max_depth': 18, 'learning_rate': 0.07625797394473399, 'num_leaves': 17, 'min_child_samples': 15}. Best is trial 27 with value: 2.6129997219074994.\n",
      "C:\\Users\\taeho\\AppData\\Local\\Temp\\ipykernel_27840\\1874363896.py:15: FutureWarning: suggest_loguniform has been deprecated in v3.0.0. This feature will be removed in v6.0.0. See https://github.com/optuna/optuna/releases/tag/v3.0.0. Use suggest_float(..., log=True) instead.\n",
      "  'learning_rate': trial.suggest_loguniform('learning_rate', 0.01, 0.1),\n"
     ]
    },
    {
     "name": "stdout",
     "output_type": "stream",
     "text": [
      "[LightGBM] [Warning] Found whitespace in feature_names, replace with underlines\n",
      "[LightGBM] [Info] Auto-choosing col-wise multi-threading, the overhead of testing was 0.030298 seconds.\n",
      "You can set `force_col_wise=true` to remove the overhead.\n",
      "[LightGBM] [Info] Total Bins 5961\n",
      "[LightGBM] [Info] Number of data points in the train set: 201831, number of used features: 256\n",
      "[LightGBM] [Info] Start training from score 3.595914\n"
     ]
    },
    {
     "name": "stderr",
     "output_type": "stream",
     "text": [
      "[I 2024-03-02 23:24:12,241] Trial 60 finished with value: 2.6504878641982716 and parameters: {'n_estimators': 139, 'max_depth': 22, 'learning_rate': 0.09961568574314265, 'num_leaves': 30, 'min_child_samples': 29}. Best is trial 27 with value: 2.6129997219074994.\n",
      "C:\\Users\\taeho\\AppData\\Local\\Temp\\ipykernel_27840\\1874363896.py:15: FutureWarning: suggest_loguniform has been deprecated in v3.0.0. This feature will be removed in v6.0.0. See https://github.com/optuna/optuna/releases/tag/v3.0.0. Use suggest_float(..., log=True) instead.\n",
      "  'learning_rate': trial.suggest_loguniform('learning_rate', 0.01, 0.1),\n"
     ]
    },
    {
     "name": "stdout",
     "output_type": "stream",
     "text": [
      "[LightGBM] [Warning] Found whitespace in feature_names, replace with underlines\n",
      "[LightGBM] [Info] Auto-choosing row-wise multi-threading, the overhead of testing was 0.013920 seconds.\n",
      "You can set `force_row_wise=true` to remove the overhead.\n",
      "And if memory is not enough, you can set `force_col_wise=true`.\n",
      "[LightGBM] [Info] Total Bins 5999\n",
      "[LightGBM] [Info] Number of data points in the train set: 201831, number of used features: 275\n",
      "[LightGBM] [Info] Start training from score 3.595914\n"
     ]
    },
    {
     "name": "stderr",
     "output_type": "stream",
     "text": [
      "[I 2024-03-02 23:24:15,937] Trial 61 finished with value: 2.625692197400499 and parameters: {'n_estimators': 142, 'max_depth': 19, 'learning_rate': 0.06729704521048452, 'num_leaves': 37, 'min_child_samples': 13}. Best is trial 27 with value: 2.6129997219074994.\n",
      "C:\\Users\\taeho\\AppData\\Local\\Temp\\ipykernel_27840\\1874363896.py:15: FutureWarning: suggest_loguniform has been deprecated in v3.0.0. This feature will be removed in v6.0.0. See https://github.com/optuna/optuna/releases/tag/v3.0.0. Use suggest_float(..., log=True) instead.\n",
      "  'learning_rate': trial.suggest_loguniform('learning_rate', 0.01, 0.1),\n"
     ]
    },
    {
     "name": "stdout",
     "output_type": "stream",
     "text": [
      "[LightGBM] [Warning] Found whitespace in feature_names, replace with underlines\n",
      "[LightGBM] [Info] Auto-choosing col-wise multi-threading, the overhead of testing was 0.029731 seconds.\n",
      "You can set `force_col_wise=true` to remove the overhead.\n",
      "[LightGBM] [Info] Total Bins 6021\n",
      "[LightGBM] [Info] Number of data points in the train set: 201831, number of used features: 286\n",
      "[LightGBM] [Info] Start training from score 3.595914\n"
     ]
    },
    {
     "name": "stderr",
     "output_type": "stream",
     "text": [
      "[I 2024-03-02 23:24:19,313] Trial 62 finished with value: 2.6315479049843535 and parameters: {'n_estimators': 135, 'max_depth': 20, 'learning_rate': 0.09315635956069307, 'num_leaves': 34, 'min_child_samples': 9}. Best is trial 27 with value: 2.6129997219074994.\n",
      "C:\\Users\\taeho\\AppData\\Local\\Temp\\ipykernel_27840\\1874363896.py:15: FutureWarning: suggest_loguniform has been deprecated in v3.0.0. This feature will be removed in v6.0.0. See https://github.com/optuna/optuna/releases/tag/v3.0.0. Use suggest_float(..., log=True) instead.\n",
      "  'learning_rate': trial.suggest_loguniform('learning_rate', 0.01, 0.1),\n"
     ]
    },
    {
     "name": "stdout",
     "output_type": "stream",
     "text": [
      "[LightGBM] [Warning] Found whitespace in feature_names, replace with underlines\n",
      "[LightGBM] [Info] Auto-choosing col-wise multi-threading, the overhead of testing was 0.028383 seconds.\n",
      "You can set `force_col_wise=true` to remove the overhead.\n",
      "[LightGBM] [Info] Total Bins 5999\n",
      "[LightGBM] [Info] Number of data points in the train set: 201831, number of used features: 275\n",
      "[LightGBM] [Info] Start training from score 3.595914\n"
     ]
    },
    {
     "name": "stderr",
     "output_type": "stream",
     "text": [
      "[I 2024-03-02 23:24:23,048] Trial 63 finished with value: 2.6231599397332745 and parameters: {'n_estimators': 146, 'max_depth': 14, 'learning_rate': 0.08055579242149115, 'num_leaves': 39, 'min_child_samples': 13}. Best is trial 27 with value: 2.6129997219074994.\n",
      "C:\\Users\\taeho\\AppData\\Local\\Temp\\ipykernel_27840\\1874363896.py:15: FutureWarning: suggest_loguniform has been deprecated in v3.0.0. This feature will be removed in v6.0.0. See https://github.com/optuna/optuna/releases/tag/v3.0.0. Use suggest_float(..., log=True) instead.\n",
      "  'learning_rate': trial.suggest_loguniform('learning_rate', 0.01, 0.1),\n"
     ]
    },
    {
     "name": "stdout",
     "output_type": "stream",
     "text": [
      "[LightGBM] [Warning] Found whitespace in feature_names, replace with underlines\n",
      "[LightGBM] [Info] Auto-choosing col-wise multi-threading, the overhead of testing was 0.029726 seconds.\n",
      "You can set `force_col_wise=true` to remove the overhead.\n",
      "[LightGBM] [Info] Total Bins 6011\n",
      "[LightGBM] [Info] Number of data points in the train set: 201831, number of used features: 281\n",
      "[LightGBM] [Info] Start training from score 3.595914\n"
     ]
    },
    {
     "name": "stderr",
     "output_type": "stream",
     "text": [
      "[I 2024-03-02 23:24:26,420] Trial 64 finished with value: 2.61881492526213 and parameters: {'n_estimators': 145, 'max_depth': 21, 'learning_rate': 0.08095545271055014, 'num_leaves': 36, 'min_child_samples': 11}. Best is trial 27 with value: 2.6129997219074994.\n",
      "C:\\Users\\taeho\\AppData\\Local\\Temp\\ipykernel_27840\\1874363896.py:15: FutureWarning: suggest_loguniform has been deprecated in v3.0.0. This feature will be removed in v6.0.0. See https://github.com/optuna/optuna/releases/tag/v3.0.0. Use suggest_float(..., log=True) instead.\n",
      "  'learning_rate': trial.suggest_loguniform('learning_rate', 0.01, 0.1),\n"
     ]
    },
    {
     "name": "stdout",
     "output_type": "stream",
     "text": [
      "[LightGBM] [Warning] Found whitespace in feature_names, replace with underlines\n",
      "[LightGBM] [Info] Auto-choosing col-wise multi-threading, the overhead of testing was 0.032970 seconds.\n",
      "You can set `force_col_wise=true` to remove the overhead.\n",
      "[LightGBM] [Info] Total Bins 6037\n",
      "[LightGBM] [Info] Number of data points in the train set: 201831, number of used features: 294\n",
      "[LightGBM] [Info] Start training from score 3.595914\n"
     ]
    },
    {
     "name": "stderr",
     "output_type": "stream",
     "text": [
      "[I 2024-03-02 23:24:30,527] Trial 65 finished with value: 2.7726425466640396 and parameters: {'n_estimators': 145, 'max_depth': 12, 'learning_rate': 0.01735275198765056, 'num_leaves': 36, 'min_child_samples': 7}. Best is trial 27 with value: 2.6129997219074994.\n",
      "C:\\Users\\taeho\\AppData\\Local\\Temp\\ipykernel_27840\\1874363896.py:15: FutureWarning: suggest_loguniform has been deprecated in v3.0.0. This feature will be removed in v6.0.0. See https://github.com/optuna/optuna/releases/tag/v3.0.0. Use suggest_float(..., log=True) instead.\n",
      "  'learning_rate': trial.suggest_loguniform('learning_rate', 0.01, 0.1),\n"
     ]
    },
    {
     "name": "stdout",
     "output_type": "stream",
     "text": [
      "[LightGBM] [Warning] Found whitespace in feature_names, replace with underlines\n",
      "[LightGBM] [Info] Auto-choosing col-wise multi-threading, the overhead of testing was 0.032491 seconds.\n",
      "You can set `force_col_wise=true` to remove the overhead.\n",
      "[LightGBM] [Info] Total Bins 6011\n",
      "[LightGBM] [Info] Number of data points in the train set: 201831, number of used features: 281\n",
      "[LightGBM] [Info] Start training from score 3.595914\n"
     ]
    },
    {
     "name": "stderr",
     "output_type": "stream",
     "text": [
      "[I 2024-03-02 23:24:34,041] Trial 66 finished with value: 2.622081356062449 and parameters: {'n_estimators': 149, 'max_depth': 14, 'learning_rate': 0.08073500707339475, 'num_leaves': 33, 'min_child_samples': 11}. Best is trial 27 with value: 2.6129997219074994.\n",
      "C:\\Users\\taeho\\AppData\\Local\\Temp\\ipykernel_27840\\1874363896.py:15: FutureWarning: suggest_loguniform has been deprecated in v3.0.0. This feature will be removed in v6.0.0. See https://github.com/optuna/optuna/releases/tag/v3.0.0. Use suggest_float(..., log=True) instead.\n",
      "  'learning_rate': trial.suggest_loguniform('learning_rate', 0.01, 0.1),\n"
     ]
    },
    {
     "name": "stdout",
     "output_type": "stream",
     "text": [
      "[LightGBM] [Warning] Found whitespace in feature_names, replace with underlines\n",
      "[LightGBM] [Info] Auto-choosing col-wise multi-threading, the overhead of testing was 0.040351 seconds.\n",
      "You can set `force_col_wise=true` to remove the overhead.\n",
      "[LightGBM] [Info] Total Bins 6019\n",
      "[LightGBM] [Info] Number of data points in the train set: 201831, number of used features: 285\n",
      "[LightGBM] [Info] Start training from score 3.595914\n",
      "[LightGBM] [Warning] No further splits with positive gain, best gain: -inf\n",
      "[LightGBM] [Warning] No further splits with positive gain, best gain: -inf\n",
      "[LightGBM] [Warning] No further splits with positive gain, best gain: -inf\n",
      "[LightGBM] [Warning] No further splits with positive gain, best gain: -inf\n"
     ]
    },
    {
     "name": "stderr",
     "output_type": "stream",
     "text": [
      "[I 2024-03-02 23:24:37,829] Trial 67 finished with value: 2.6317185352047354 and parameters: {'n_estimators': 149, 'max_depth': 9, 'learning_rate': 0.07491281893797258, 'num_leaves': 33, 'min_child_samples': 10}. Best is trial 27 with value: 2.6129997219074994.\n",
      "C:\\Users\\taeho\\AppData\\Local\\Temp\\ipykernel_27840\\1874363896.py:15: FutureWarning: suggest_loguniform has been deprecated in v3.0.0. This feature will be removed in v6.0.0. See https://github.com/optuna/optuna/releases/tag/v3.0.0. Use suggest_float(..., log=True) instead.\n",
      "  'learning_rate': trial.suggest_loguniform('learning_rate', 0.01, 0.1),\n"
     ]
    },
    {
     "name": "stdout",
     "output_type": "stream",
     "text": [
      "[LightGBM] [Warning] Accuracy may be bad since you didn't explicitly set num_leaves OR 2^max_depth > num_leaves. (num_leaves=31).\n",
      "[LightGBM] [Warning] Found whitespace in feature_names, replace with underlines\n",
      "[LightGBM] [Warning] Accuracy may be bad since you didn't explicitly set num_leaves OR 2^max_depth > num_leaves. (num_leaves=31).\n",
      "[LightGBM] [Info] Auto-choosing col-wise multi-threading, the overhead of testing was 0.030588 seconds.\n",
      "You can set `force_col_wise=true` to remove the overhead.\n",
      "[LightGBM] [Info] Total Bins 6047\n",
      "[LightGBM] [Info] Number of data points in the train set: 201831, number of used features: 299\n",
      "[LightGBM] [Info] Start training from score 3.595914\n"
     ]
    },
    {
     "name": "stderr",
     "output_type": "stream",
     "text": [
      "[I 2024-03-02 23:24:41,155] Trial 68 finished with value: 2.6441827958165427 and parameters: {'n_estimators': 150, 'max_depth': 22, 'learning_rate': 0.05861651695883291, 'num_leaves': 31, 'min_child_samples': 6}. Best is trial 27 with value: 2.6129997219074994.\n"
     ]
    },
    {
     "name": "stdout",
     "output_type": "stream",
     "text": [
      "[LightGBM] [Warning] Accuracy may be bad since you didn't explicitly set num_leaves OR 2^max_depth > num_leaves. (num_leaves=31).\n"
     ]
    },
    {
     "name": "stderr",
     "output_type": "stream",
     "text": [
      "C:\\Users\\taeho\\AppData\\Local\\Temp\\ipykernel_27840\\1874363896.py:15: FutureWarning: suggest_loguniform has been deprecated in v3.0.0. This feature will be removed in v6.0.0. See https://github.com/optuna/optuna/releases/tag/v3.0.0. Use suggest_float(..., log=True) instead.\n",
      "  'learning_rate': trial.suggest_loguniform('learning_rate', 0.01, 0.1),\n"
     ]
    },
    {
     "name": "stdout",
     "output_type": "stream",
     "text": [
      "[LightGBM] [Warning] Found whitespace in feature_names, replace with underlines\n",
      "[LightGBM] [Info] Auto-choosing col-wise multi-threading, the overhead of testing was 0.029629 seconds.\n",
      "You can set `force_col_wise=true` to remove the overhead.\n",
      "[LightGBM] [Info] Total Bins 5993\n",
      "[LightGBM] [Info] Number of data points in the train set: 201831, number of used features: 272\n",
      "[LightGBM] [Info] Start training from score 3.595914\n"
     ]
    },
    {
     "name": "stderr",
     "output_type": "stream",
     "text": [
      "[I 2024-03-02 23:24:44,503] Trial 69 finished with value: 2.6338943377626522 and parameters: {'n_estimators': 147, 'max_depth': 24, 'learning_rate': 0.08181954493734096, 'num_leaves': 29, 'min_child_samples': 16}. Best is trial 27 with value: 2.6129997219074994.\n",
      "C:\\Users\\taeho\\AppData\\Local\\Temp\\ipykernel_27840\\1874363896.py:15: FutureWarning: suggest_loguniform has been deprecated in v3.0.0. This feature will be removed in v6.0.0. See https://github.com/optuna/optuna/releases/tag/v3.0.0. Use suggest_float(..., log=True) instead.\n",
      "  'learning_rate': trial.suggest_loguniform('learning_rate', 0.01, 0.1),\n"
     ]
    },
    {
     "name": "stdout",
     "output_type": "stream",
     "text": [
      "[LightGBM] [Warning] Found whitespace in feature_names, replace with underlines\n",
      "[LightGBM] [Info] Auto-choosing col-wise multi-threading, the overhead of testing was 0.031358 seconds.\n",
      "You can set `force_col_wise=true` to remove the overhead.\n",
      "[LightGBM] [Info] Total Bins 6029\n",
      "[LightGBM] [Info] Number of data points in the train set: 201831, number of used features: 290\n",
      "[LightGBM] [Info] Start training from score 3.595914\n"
     ]
    },
    {
     "name": "stderr",
     "output_type": "stream",
     "text": [
      "[I 2024-03-02 23:24:47,898] Trial 70 finished with value: 2.651849287941387 and parameters: {'n_estimators': 140, 'max_depth': 17, 'learning_rate': 0.06632097487528743, 'num_leaves': 35, 'min_child_samples': 8}. Best is trial 27 with value: 2.6129997219074994.\n",
      "C:\\Users\\taeho\\AppData\\Local\\Temp\\ipykernel_27840\\1874363896.py:15: FutureWarning: suggest_loguniform has been deprecated in v3.0.0. This feature will be removed in v6.0.0. See https://github.com/optuna/optuna/releases/tag/v3.0.0. Use suggest_float(..., log=True) instead.\n",
      "  'learning_rate': trial.suggest_loguniform('learning_rate', 0.01, 0.1),\n"
     ]
    },
    {
     "name": "stdout",
     "output_type": "stream",
     "text": [
      "[LightGBM] [Warning] Found whitespace in feature_names, replace with underlines\n",
      "[LightGBM] [Info] Auto-choosing col-wise multi-threading, the overhead of testing was 0.025697 seconds.\n",
      "You can set `force_col_wise=true` to remove the overhead.\n",
      "[LightGBM] [Info] Total Bins 6011\n",
      "[LightGBM] [Info] Number of data points in the train set: 201831, number of used features: 281\n",
      "[LightGBM] [Info] Start training from score 3.595914\n"
     ]
    },
    {
     "name": "stderr",
     "output_type": "stream",
     "text": [
      "[I 2024-03-02 23:24:51,380] Trial 71 finished with value: 2.6324373441047544 and parameters: {'n_estimators': 146, 'max_depth': 20, 'learning_rate': 0.08257962190676085, 'num_leaves': 33, 'min_child_samples': 11}. Best is trial 27 with value: 2.6129997219074994.\n",
      "C:\\Users\\taeho\\AppData\\Local\\Temp\\ipykernel_27840\\1874363896.py:15: FutureWarning: suggest_loguniform has been deprecated in v3.0.0. This feature will be removed in v6.0.0. See https://github.com/optuna/optuna/releases/tag/v3.0.0. Use suggest_float(..., log=True) instead.\n",
      "  'learning_rate': trial.suggest_loguniform('learning_rate', 0.01, 0.1),\n"
     ]
    },
    {
     "name": "stdout",
     "output_type": "stream",
     "text": [
      "[LightGBM] [Warning] Found whitespace in feature_names, replace with underlines\n",
      "[LightGBM] [Info] Auto-choosing col-wise multi-threading, the overhead of testing was 0.030716 seconds.\n",
      "You can set `force_col_wise=true` to remove the overhead.\n",
      "[LightGBM] [Info] Total Bins 5997\n",
      "[LightGBM] [Info] Number of data points in the train set: 201831, number of used features: 274\n",
      "[LightGBM] [Info] Start training from score 3.595914\n",
      "[LightGBM] [Warning] No further splits with positive gain, best gain: -inf\n"
     ]
    },
    {
     "name": "stderr",
     "output_type": "stream",
     "text": [
      "[I 2024-03-02 23:24:54,955] Trial 72 finished with value: 2.615515264695962 and parameters: {'n_estimators': 145, 'max_depth': 14, 'learning_rate': 0.09302265873562628, 'num_leaves': 37, 'min_child_samples': 14}. Best is trial 27 with value: 2.6129997219074994.\n",
      "C:\\Users\\taeho\\AppData\\Local\\Temp\\ipykernel_27840\\1874363896.py:15: FutureWarning: suggest_loguniform has been deprecated in v3.0.0. This feature will be removed in v6.0.0. See https://github.com/optuna/optuna/releases/tag/v3.0.0. Use suggest_float(..., log=True) instead.\n",
      "  'learning_rate': trial.suggest_loguniform('learning_rate', 0.01, 0.1),\n"
     ]
    },
    {
     "name": "stdout",
     "output_type": "stream",
     "text": [
      "[LightGBM] [Warning] Found whitespace in feature_names, replace with underlines\n",
      "[LightGBM] [Info] Auto-choosing row-wise multi-threading, the overhead of testing was 0.014645 seconds.\n",
      "You can set `force_row_wise=true` to remove the overhead.\n",
      "And if memory is not enough, you can set `force_col_wise=true`.\n",
      "[LightGBM] [Info] Total Bins 5997\n",
      "[LightGBM] [Info] Number of data points in the train set: 201831, number of used features: 274\n",
      "[LightGBM] [Info] Start training from score 3.595914\n"
     ]
    },
    {
     "name": "stderr",
     "output_type": "stream",
     "text": [
      "[I 2024-03-02 23:24:58,277] Trial 73 finished with value: 2.6251017995291046 and parameters: {'n_estimators': 143, 'max_depth': 18, 'learning_rate': 0.09424443711179653, 'num_leaves': 37, 'min_child_samples': 14}. Best is trial 27 with value: 2.6129997219074994.\n",
      "C:\\Users\\taeho\\AppData\\Local\\Temp\\ipykernel_27840\\1874363896.py:15: FutureWarning: suggest_loguniform has been deprecated in v3.0.0. This feature will be removed in v6.0.0. See https://github.com/optuna/optuna/releases/tag/v3.0.0. Use suggest_float(..., log=True) instead.\n",
      "  'learning_rate': trial.suggest_loguniform('learning_rate', 0.01, 0.1),\n"
     ]
    },
    {
     "name": "stdout",
     "output_type": "stream",
     "text": [
      "[LightGBM] [Warning] Found whitespace in feature_names, replace with underlines\n",
      "[LightGBM] [Info] Auto-choosing col-wise multi-threading, the overhead of testing was 0.029452 seconds.\n",
      "You can set `force_col_wise=true` to remove the overhead.\n",
      "[LightGBM] [Info] Total Bins 5945\n",
      "[LightGBM] [Info] Number of data points in the train set: 201831, number of used features: 248\n",
      "[LightGBM] [Info] Start training from score 3.595914\n",
      "[LightGBM] [Warning] No further splits with positive gain, best gain: -inf\n",
      "[LightGBM] [Warning] No further splits with positive gain, best gain: -inf\n",
      "[LightGBM] [Warning] No further splits with positive gain, best gain: -inf\n",
      "[LightGBM] [Warning] No further splits with positive gain, best gain: -inf\n",
      "[LightGBM] [Warning] No further splits with positive gain, best gain: -inf\n"
     ]
    },
    {
     "name": "stderr",
     "output_type": "stream",
     "text": [
      "[I 2024-03-02 23:25:01,743] Trial 74 finished with value: 2.6363301908183026 and parameters: {'n_estimators': 148, 'max_depth': 14, 'learning_rate': 0.08958860337542915, 'num_leaves': 34, 'min_child_samples': 36}. Best is trial 27 with value: 2.6129997219074994.\n",
      "C:\\Users\\taeho\\AppData\\Local\\Temp\\ipykernel_27840\\1874363896.py:15: FutureWarning: suggest_loguniform has been deprecated in v3.0.0. This feature will be removed in v6.0.0. See https://github.com/optuna/optuna/releases/tag/v3.0.0. Use suggest_float(..., log=True) instead.\n",
      "  'learning_rate': trial.suggest_loguniform('learning_rate', 0.01, 0.1),\n"
     ]
    },
    {
     "name": "stdout",
     "output_type": "stream",
     "text": [
      "[LightGBM] [Warning] Accuracy may be bad since you didn't explicitly set num_leaves OR 2^max_depth > num_leaves. (num_leaves=31).\n",
      "[LightGBM] [Warning] Found whitespace in feature_names, replace with underlines\n",
      "[LightGBM] [Warning] Accuracy may be bad since you didn't explicitly set num_leaves OR 2^max_depth > num_leaves. (num_leaves=31).\n",
      "[LightGBM] [Info] Auto-choosing row-wise multi-threading, the overhead of testing was 0.019337 seconds.\n",
      "You can set `force_row_wise=true` to remove the overhead.\n",
      "And if memory is not enough, you can set `force_col_wise=true`.\n",
      "[LightGBM] [Info] Total Bins 5987\n",
      "[LightGBM] [Info] Number of data points in the train set: 201831, number of used features: 269\n",
      "[LightGBM] [Info] Start training from score 3.595914\n"
     ]
    },
    {
     "name": "stderr",
     "output_type": "stream",
     "text": [
      "[I 2024-03-02 23:25:05,331] Trial 75 finished with value: 2.6313458095117936 and parameters: {'n_estimators': 145, 'max_depth': 14, 'learning_rate': 0.07342233144183155, 'num_leaves': 31, 'min_child_samples': 18}. Best is trial 27 with value: 2.6129997219074994.\n"
     ]
    },
    {
     "name": "stdout",
     "output_type": "stream",
     "text": [
      "[LightGBM] [Warning] Accuracy may be bad since you didn't explicitly set num_leaves OR 2^max_depth > num_leaves. (num_leaves=31).\n"
     ]
    },
    {
     "name": "stderr",
     "output_type": "stream",
     "text": [
      "C:\\Users\\taeho\\AppData\\Local\\Temp\\ipykernel_27840\\1874363896.py:15: FutureWarning: suggest_loguniform has been deprecated in v3.0.0. This feature will be removed in v6.0.0. See https://github.com/optuna/optuna/releases/tag/v3.0.0. Use suggest_float(..., log=True) instead.\n",
      "  'learning_rate': trial.suggest_loguniform('learning_rate', 0.01, 0.1),\n"
     ]
    },
    {
     "name": "stdout",
     "output_type": "stream",
     "text": [
      "[LightGBM] [Warning] Found whitespace in feature_names, replace with underlines\n",
      "[LightGBM] [Info] Auto-choosing col-wise multi-threading, the overhead of testing was 0.024477 seconds.\n",
      "You can set `force_col_wise=true` to remove the overhead.\n",
      "[LightGBM] [Info] Total Bins 6021\n",
      "[LightGBM] [Info] Number of data points in the train set: 201831, number of used features: 286\n",
      "[LightGBM] [Info] Start training from score 3.595914\n"
     ]
    },
    {
     "name": "stderr",
     "output_type": "stream",
     "text": [
      "[I 2024-03-02 23:25:08,983] Trial 76 finished with value: 2.6287251141137187 and parameters: {'n_estimators': 143, 'max_depth': 23, 'learning_rate': 0.07967210865296365, 'num_leaves': 36, 'min_child_samples': 9}. Best is trial 27 with value: 2.6129997219074994.\n",
      "C:\\Users\\taeho\\AppData\\Local\\Temp\\ipykernel_27840\\1874363896.py:15: FutureWarning: suggest_loguniform has been deprecated in v3.0.0. This feature will be removed in v6.0.0. See https://github.com/optuna/optuna/releases/tag/v3.0.0. Use suggest_float(..., log=True) instead.\n",
      "  'learning_rate': trial.suggest_loguniform('learning_rate', 0.01, 0.1),\n"
     ]
    },
    {
     "name": "stdout",
     "output_type": "stream",
     "text": [
      "[LightGBM] [Warning] Found whitespace in feature_names, replace with underlines\n",
      "[LightGBM] [Info] Auto-choosing row-wise multi-threading, the overhead of testing was 0.081550 seconds.\n",
      "You can set `force_row_wise=true` to remove the overhead.\n",
      "And if memory is not enough, you can set `force_col_wise=true`.\n",
      "[LightGBM] [Info] Total Bins 6009\n",
      "[LightGBM] [Info] Number of data points in the train set: 201831, number of used features: 280\n",
      "[LightGBM] [Info] Start training from score 3.595914\n"
     ]
    },
    {
     "name": "stderr",
     "output_type": "stream",
     "text": [
      "[I 2024-03-02 23:25:12,892] Trial 77 finished with value: 2.6294920678541507 and parameters: {'n_estimators': 149, 'max_depth': 21, 'learning_rate': 0.06264905518574465, 'num_leaves': 35, 'min_child_samples': 12}. Best is trial 27 with value: 2.6129997219074994.\n",
      "C:\\Users\\taeho\\AppData\\Local\\Temp\\ipykernel_27840\\1874363896.py:15: FutureWarning: suggest_loguniform has been deprecated in v3.0.0. This feature will be removed in v6.0.0. See https://github.com/optuna/optuna/releases/tag/v3.0.0. Use suggest_float(..., log=True) instead.\n",
      "  'learning_rate': trial.suggest_loguniform('learning_rate', 0.01, 0.1),\n"
     ]
    },
    {
     "name": "stdout",
     "output_type": "stream",
     "text": [
      "[LightGBM] [Warning] Found whitespace in feature_names, replace with underlines\n",
      "[LightGBM] [Info] Auto-choosing col-wise multi-threading, the overhead of testing was 0.039587 seconds.\n",
      "You can set `force_col_wise=true` to remove the overhead.\n",
      "[LightGBM] [Info] Total Bins 5995\n",
      "[LightGBM] [Info] Number of data points in the train set: 201831, number of used features: 273\n",
      "[LightGBM] [Info] Start training from score 3.595914\n"
     ]
    },
    {
     "name": "stderr",
     "output_type": "stream",
     "text": [
      "[I 2024-03-02 23:25:16,251] Trial 78 finished with value: 2.6208021380452644 and parameters: {'n_estimators': 140, 'max_depth': 20, 'learning_rate': 0.09942302846790221, 'num_leaves': 33, 'min_child_samples': 15}. Best is trial 27 with value: 2.6129997219074994.\n",
      "C:\\Users\\taeho\\AppData\\Local\\Temp\\ipykernel_27840\\1874363896.py:15: FutureWarning: suggest_loguniform has been deprecated in v3.0.0. This feature will be removed in v6.0.0. See https://github.com/optuna/optuna/releases/tag/v3.0.0. Use suggest_float(..., log=True) instead.\n",
      "  'learning_rate': trial.suggest_loguniform('learning_rate', 0.01, 0.1),\n"
     ]
    },
    {
     "name": "stdout",
     "output_type": "stream",
     "text": [
      "[LightGBM] [Warning] Found whitespace in feature_names, replace with underlines\n",
      "[LightGBM] [Info] Auto-choosing col-wise multi-threading, the overhead of testing was 0.027842 seconds.\n",
      "You can set `force_col_wise=true` to remove the overhead.\n",
      "[LightGBM] [Info] Total Bins 5975\n",
      "[LightGBM] [Info] Number of data points in the train set: 201831, number of used features: 263\n",
      "[LightGBM] [Info] Start training from score 3.595914\n"
     ]
    },
    {
     "name": "stderr",
     "output_type": "stream",
     "text": [
      "[I 2024-03-02 23:25:19,613] Trial 79 finished with value: 2.63708020947932 and parameters: {'n_estimators': 138, 'max_depth': 20, 'learning_rate': 0.0999593384104408, 'num_leaves': 29, 'min_child_samples': 22}. Best is trial 27 with value: 2.6129997219074994.\n",
      "C:\\Users\\taeho\\AppData\\Local\\Temp\\ipykernel_27840\\1874363896.py:15: FutureWarning: suggest_loguniform has been deprecated in v3.0.0. This feature will be removed in v6.0.0. See https://github.com/optuna/optuna/releases/tag/v3.0.0. Use suggest_float(..., log=True) instead.\n",
      "  'learning_rate': trial.suggest_loguniform('learning_rate', 0.01, 0.1),\n"
     ]
    },
    {
     "name": "stdout",
     "output_type": "stream",
     "text": [
      "[LightGBM] [Warning] Found whitespace in feature_names, replace with underlines\n",
      "[LightGBM] [Info] Auto-choosing col-wise multi-threading, the overhead of testing was 0.034558 seconds.\n",
      "You can set `force_col_wise=true` to remove the overhead.\n",
      "[LightGBM] [Info] Total Bins 5995\n",
      "[LightGBM] [Info] Number of data points in the train set: 201831, number of used features: 273\n",
      "[LightGBM] [Info] Start training from score 3.595914\n"
     ]
    },
    {
     "name": "stderr",
     "output_type": "stream",
     "text": [
      "[I 2024-03-02 23:25:23,256] Trial 80 finished with value: 2.661557717028801 and parameters: {'n_estimators': 140, 'max_depth': 19, 'learning_rate': 0.033424290992084146, 'num_leaves': 32, 'min_child_samples': 15}. Best is trial 27 with value: 2.6129997219074994.\n",
      "C:\\Users\\taeho\\AppData\\Local\\Temp\\ipykernel_27840\\1874363896.py:15: FutureWarning: suggest_loguniform has been deprecated in v3.0.0. This feature will be removed in v6.0.0. See https://github.com/optuna/optuna/releases/tag/v3.0.0. Use suggest_float(..., log=True) instead.\n",
      "  'learning_rate': trial.suggest_loguniform('learning_rate', 0.01, 0.1),\n"
     ]
    },
    {
     "name": "stdout",
     "output_type": "stream",
     "text": [
      "[LightGBM] [Warning] Found whitespace in feature_names, replace with underlines\n",
      "[LightGBM] [Info] Auto-choosing col-wise multi-threading, the overhead of testing was 0.029999 seconds.\n",
      "You can set `force_col_wise=true` to remove the overhead.\n",
      "[LightGBM] [Info] Total Bins 6011\n",
      "[LightGBM] [Info] Number of data points in the train set: 201831, number of used features: 281\n",
      "[LightGBM] [Info] Start training from score 3.595914\n"
     ]
    },
    {
     "name": "stderr",
     "output_type": "stream",
     "text": [
      "[I 2024-03-02 23:25:26,643] Trial 81 finished with value: 2.63538564937318 and parameters: {'n_estimators': 143, 'max_depth': 17, 'learning_rate': 0.09255874160533427, 'num_leaves': 34, 'min_child_samples': 11}. Best is trial 27 with value: 2.6129997219074994.\n",
      "C:\\Users\\taeho\\AppData\\Local\\Temp\\ipykernel_27840\\1874363896.py:15: FutureWarning: suggest_loguniform has been deprecated in v3.0.0. This feature will be removed in v6.0.0. See https://github.com/optuna/optuna/releases/tag/v3.0.0. Use suggest_float(..., log=True) instead.\n",
      "  'learning_rate': trial.suggest_loguniform('learning_rate', 0.01, 0.1),\n"
     ]
    },
    {
     "name": "stdout",
     "output_type": "stream",
     "text": [
      "[LightGBM] [Warning] Found whitespace in feature_names, replace with underlines\n",
      "[LightGBM] [Info] Auto-choosing col-wise multi-threading, the overhead of testing was 0.033293 seconds.\n",
      "You can set `force_col_wise=true` to remove the overhead.\n",
      "[LightGBM] [Info] Total Bins 5993\n",
      "[LightGBM] [Info] Number of data points in the train set: 201831, number of used features: 272\n",
      "[LightGBM] [Info] Start training from score 3.595914\n"
     ]
    },
    {
     "name": "stderr",
     "output_type": "stream",
     "text": [
      "[I 2024-03-02 23:25:30,358] Trial 82 finished with value: 2.6351552240630207 and parameters: {'n_estimators': 141, 'max_depth': 22, 'learning_rate': 0.08526380517993325, 'num_leaves': 39, 'min_child_samples': 17}. Best is trial 27 with value: 2.6129997219074994.\n",
      "C:\\Users\\taeho\\AppData\\Local\\Temp\\ipykernel_27840\\1874363896.py:15: FutureWarning: suggest_loguniform has been deprecated in v3.0.0. This feature will be removed in v6.0.0. See https://github.com/optuna/optuna/releases/tag/v3.0.0. Use suggest_float(..., log=True) instead.\n",
      "  'learning_rate': trial.suggest_loguniform('learning_rate', 0.01, 0.1),\n"
     ]
    },
    {
     "name": "stdout",
     "output_type": "stream",
     "text": [
      "[LightGBM] [Warning] Found whitespace in feature_names, replace with underlines\n",
      "[LightGBM] [Info] Auto-choosing col-wise multi-threading, the overhead of testing was 0.030458 seconds.\n",
      "You can set `force_col_wise=true` to remove the overhead.\n",
      "[LightGBM] [Info] Total Bins 5997\n",
      "[LightGBM] [Info] Number of data points in the train set: 201831, number of used features: 274\n",
      "[LightGBM] [Info] Start training from score 3.595914\n"
     ]
    },
    {
     "name": "stderr",
     "output_type": "stream",
     "text": [
      "[I 2024-03-02 23:25:34,040] Trial 83 finished with value: 2.625170610220252 and parameters: {'n_estimators': 145, 'max_depth': 20, 'learning_rate': 0.06928158890644352, 'num_leaves': 37, 'min_child_samples': 14}. Best is trial 27 with value: 2.6129997219074994.\n",
      "C:\\Users\\taeho\\AppData\\Local\\Temp\\ipykernel_27840\\1874363896.py:15: FutureWarning: suggest_loguniform has been deprecated in v3.0.0. This feature will be removed in v6.0.0. See https://github.com/optuna/optuna/releases/tag/v3.0.0. Use suggest_float(..., log=True) instead.\n",
      "  'learning_rate': trial.suggest_loguniform('learning_rate', 0.01, 0.1),\n"
     ]
    },
    {
     "name": "stdout",
     "output_type": "stream",
     "text": [
      "[LightGBM] [Warning] Found whitespace in feature_names, replace with underlines\n",
      "[LightGBM] [Info] Auto-choosing row-wise multi-threading, the overhead of testing was 0.015412 seconds.\n",
      "You can set `force_row_wise=true` to remove the overhead.\n",
      "And if memory is not enough, you can set `force_col_wise=true`.\n",
      "[LightGBM] [Info] Total Bins 6009\n",
      "[LightGBM] [Info] Number of data points in the train set: 201831, number of used features: 280\n",
      "[LightGBM] [Info] Start training from score 3.595914\n"
     ]
    },
    {
     "name": "stderr",
     "output_type": "stream",
     "text": [
      "[I 2024-03-02 23:25:37,727] Trial 84 finished with value: 2.6288791454525615 and parameters: {'n_estimators': 139, 'max_depth': 15, 'learning_rate': 0.07951432345344055, 'num_leaves': 33, 'min_child_samples': 12}. Best is trial 27 with value: 2.6129997219074994.\n",
      "C:\\Users\\taeho\\AppData\\Local\\Temp\\ipykernel_27840\\1874363896.py:15: FutureWarning: suggest_loguniform has been deprecated in v3.0.0. This feature will be removed in v6.0.0. See https://github.com/optuna/optuna/releases/tag/v3.0.0. Use suggest_float(..., log=True) instead.\n",
      "  'learning_rate': trial.suggest_loguniform('learning_rate', 0.01, 0.1),\n"
     ]
    },
    {
     "name": "stdout",
     "output_type": "stream",
     "text": [
      "[LightGBM] [Warning] Found whitespace in feature_names, replace with underlines\n",
      "[LightGBM] [Info] Auto-choosing row-wise multi-threading, the overhead of testing was 0.015495 seconds.\n",
      "You can set `force_row_wise=true` to remove the overhead.\n",
      "And if memory is not enough, you can set `force_col_wise=true`.\n",
      "[LightGBM] [Info] Total Bins 5983\n",
      "[LightGBM] [Info] Number of data points in the train set: 201831, number of used features: 267\n",
      "[LightGBM] [Info] Start training from score 3.595914\n"
     ]
    },
    {
     "name": "stderr",
     "output_type": "stream",
     "text": [
      "[I 2024-03-02 23:25:41,227] Trial 85 finished with value: 2.635974314663069 and parameters: {'n_estimators': 137, 'max_depth': 21, 'learning_rate': 0.08764196551488736, 'num_leaves': 35, 'min_child_samples': 19}. Best is trial 27 with value: 2.6129997219074994.\n",
      "C:\\Users\\taeho\\AppData\\Local\\Temp\\ipykernel_27840\\1874363896.py:15: FutureWarning: suggest_loguniform has been deprecated in v3.0.0. This feature will be removed in v6.0.0. See https://github.com/optuna/optuna/releases/tag/v3.0.0. Use suggest_float(..., log=True) instead.\n",
      "  'learning_rate': trial.suggest_loguniform('learning_rate', 0.01, 0.1),\n"
     ]
    },
    {
     "name": "stdout",
     "output_type": "stream",
     "text": [
      "[LightGBM] [Warning] Accuracy may be bad since you didn't explicitly set num_leaves OR 2^max_depth > num_leaves. (num_leaves=31).\n",
      "[LightGBM] [Warning] Found whitespace in feature_names, replace with underlines\n",
      "[LightGBM] [Warning] Accuracy may be bad since you didn't explicitly set num_leaves OR 2^max_depth > num_leaves. (num_leaves=31).\n",
      "[LightGBM] [Info] Auto-choosing col-wise multi-threading, the overhead of testing was 0.034334 seconds.\n",
      "You can set `force_col_wise=true` to remove the overhead.\n",
      "[LightGBM] [Info] Total Bins 5993\n",
      "[LightGBM] [Info] Number of data points in the train set: 201831, number of used features: 272\n",
      "[LightGBM] [Info] Start training from score 3.595914\n"
     ]
    },
    {
     "name": "stderr",
     "output_type": "stream",
     "text": [
      "[I 2024-03-02 23:25:44,415] Trial 86 finished with value: 2.6389981184466693 and parameters: {'n_estimators': 147, 'max_depth': 18, 'learning_rate': 0.0737091843565937, 'num_leaves': 31, 'min_child_samples': 16}. Best is trial 27 with value: 2.6129997219074994.\n"
     ]
    },
    {
     "name": "stdout",
     "output_type": "stream",
     "text": [
      "[LightGBM] [Warning] Accuracy may be bad since you didn't explicitly set num_leaves OR 2^max_depth > num_leaves. (num_leaves=31).\n"
     ]
    },
    {
     "name": "stderr",
     "output_type": "stream",
     "text": [
      "C:\\Users\\taeho\\AppData\\Local\\Temp\\ipykernel_27840\\1874363896.py:15: FutureWarning: suggest_loguniform has been deprecated in v3.0.0. This feature will be removed in v6.0.0. See https://github.com/optuna/optuna/releases/tag/v3.0.0. Use suggest_float(..., log=True) instead.\n",
      "  'learning_rate': trial.suggest_loguniform('learning_rate', 0.01, 0.1),\n"
     ]
    },
    {
     "name": "stdout",
     "output_type": "stream",
     "text": [
      "[LightGBM] [Warning] Found whitespace in feature_names, replace with underlines\n",
      "[LightGBM] [Info] Auto-choosing col-wise multi-threading, the overhead of testing was 0.027929 seconds.\n",
      "You can set `force_col_wise=true` to remove the overhead.\n",
      "[LightGBM] [Info] Total Bins 6019\n",
      "[LightGBM] [Info] Number of data points in the train set: 201831, number of used features: 285\n",
      "[LightGBM] [Info] Start training from score 3.595914\n",
      "[LightGBM] [Warning] No further splits with positive gain, best gain: -inf\n",
      "[LightGBM] [Warning] No further splits with positive gain, best gain: -inf\n",
      "[LightGBM] [Warning] No further splits with positive gain, best gain: -inf\n"
     ]
    },
    {
     "name": "stderr",
     "output_type": "stream",
     "text": [
      "[I 2024-03-02 23:25:47,895] Trial 87 finished with value: 2.6148488935907377 and parameters: {'n_estimators': 142, 'max_depth': 12, 'learning_rate': 0.0931420154291547, 'num_leaves': 37, 'min_child_samples': 10}. Best is trial 27 with value: 2.6129997219074994.\n",
      "C:\\Users\\taeho\\AppData\\Local\\Temp\\ipykernel_27840\\1874363896.py:15: FutureWarning: suggest_loguniform has been deprecated in v3.0.0. This feature will be removed in v6.0.0. See https://github.com/optuna/optuna/releases/tag/v3.0.0. Use suggest_float(..., log=True) instead.\n",
      "  'learning_rate': trial.suggest_loguniform('learning_rate', 0.01, 0.1),\n"
     ]
    },
    {
     "name": "stdout",
     "output_type": "stream",
     "text": [
      "[LightGBM] [Warning] Found whitespace in feature_names, replace with underlines\n",
      "[LightGBM] [Info] Auto-choosing col-wise multi-threading, the overhead of testing was 0.033240 seconds.\n",
      "You can set `force_col_wise=true` to remove the overhead.\n",
      "[LightGBM] [Info] Total Bins 6029\n",
      "[LightGBM] [Info] Number of data points in the train set: 201831, number of used features: 290\n",
      "[LightGBM] [Info] Start training from score 3.595914\n",
      "[LightGBM] [Warning] No further splits with positive gain, best gain: -inf\n",
      "[LightGBM] [Warning] No further splits with positive gain, best gain: -inf\n",
      "[LightGBM] [Warning] No further splits with positive gain, best gain: -inf\n",
      "[LightGBM] [Warning] No further splits with positive gain, best gain: -inf\n"
     ]
    },
    {
     "name": "stderr",
     "output_type": "stream",
     "text": [
      "[I 2024-03-02 23:25:51,225] Trial 88 finished with value: 2.644586341226451 and parameters: {'n_estimators': 144, 'max_depth': 10, 'learning_rate': 0.09639793135743033, 'num_leaves': 37, 'min_child_samples': 8}. Best is trial 27 with value: 2.6129997219074994.\n",
      "C:\\Users\\taeho\\AppData\\Local\\Temp\\ipykernel_27840\\1874363896.py:15: FutureWarning: suggest_loguniform has been deprecated in v3.0.0. This feature will be removed in v6.0.0. See https://github.com/optuna/optuna/releases/tag/v3.0.0. Use suggest_float(..., log=True) instead.\n",
      "  'learning_rate': trial.suggest_loguniform('learning_rate', 0.01, 0.1),\n"
     ]
    },
    {
     "name": "stdout",
     "output_type": "stream",
     "text": [
      "[LightGBM] [Warning] Found whitespace in feature_names, replace with underlines\n",
      "[LightGBM] [Info] Auto-choosing col-wise multi-threading, the overhead of testing was 0.032080 seconds.\n",
      "You can set `force_col_wise=true` to remove the overhead.\n",
      "[LightGBM] [Info] Total Bins 6047\n",
      "[LightGBM] [Info] Number of data points in the train set: 201831, number of used features: 299\n",
      "[LightGBM] [Info] Start training from score 3.595914\n"
     ]
    },
    {
     "name": "stderr",
     "output_type": "stream",
     "text": [
      "[I 2024-03-02 23:25:54,623] Trial 89 finished with value: 2.6435610101870624 and parameters: {'n_estimators': 133, 'max_depth': 11, 'learning_rate': 0.0946466599617891, 'num_leaves': 40, 'min_child_samples': 6}. Best is trial 27 with value: 2.6129997219074994.\n",
      "C:\\Users\\taeho\\AppData\\Local\\Temp\\ipykernel_27840\\1874363896.py:15: FutureWarning: suggest_loguniform has been deprecated in v3.0.0. This feature will be removed in v6.0.0. See https://github.com/optuna/optuna/releases/tag/v3.0.0. Use suggest_float(..., log=True) instead.\n",
      "  'learning_rate': trial.suggest_loguniform('learning_rate', 0.01, 0.1),\n"
     ]
    },
    {
     "name": "stdout",
     "output_type": "stream",
     "text": [
      "[LightGBM] [Warning] Found whitespace in feature_names, replace with underlines\n",
      "[LightGBM] [Info] Auto-choosing row-wise multi-threading, the overhead of testing was 0.014298 seconds.\n",
      "You can set `force_row_wise=true` to remove the overhead.\n",
      "And if memory is not enough, you can set `force_col_wise=true`.\n",
      "[LightGBM] [Info] Total Bins 6019\n",
      "[LightGBM] [Info] Number of data points in the train set: 201831, number of used features: 285\n",
      "[LightGBM] [Info] Start training from score 3.595914\n"
     ]
    },
    {
     "name": "stderr",
     "output_type": "stream",
     "text": [
      "[I 2024-03-02 23:25:58,355] Trial 90 finished with value: 2.633732331414167 and parameters: {'n_estimators': 136, 'max_depth': 12, 'learning_rate': 0.04762922287447096, 'num_leaves': 36, 'min_child_samples': 10}. Best is trial 27 with value: 2.6129997219074994.\n",
      "C:\\Users\\taeho\\AppData\\Local\\Temp\\ipykernel_27840\\1874363896.py:15: FutureWarning: suggest_loguniform has been deprecated in v3.0.0. This feature will be removed in v6.0.0. See https://github.com/optuna/optuna/releases/tag/v3.0.0. Use suggest_float(..., log=True) instead.\n",
      "  'learning_rate': trial.suggest_loguniform('learning_rate', 0.01, 0.1),\n"
     ]
    },
    {
     "name": "stdout",
     "output_type": "stream",
     "text": [
      "[LightGBM] [Warning] Found whitespace in feature_names, replace with underlines\n",
      "[LightGBM] [Info] Auto-choosing col-wise multi-threading, the overhead of testing was 0.029736 seconds.\n",
      "You can set `force_col_wise=true` to remove the overhead.\n",
      "[LightGBM] [Info] Total Bins 5997\n",
      "[LightGBM] [Info] Number of data points in the train set: 201831, number of used features: 274\n",
      "[LightGBM] [Info] Start training from score 3.595914\n",
      "[LightGBM] [Warning] No further splits with positive gain, best gain: -inf\n",
      "[LightGBM] [Warning] No further splits with positive gain, best gain: -inf\n"
     ]
    },
    {
     "name": "stderr",
     "output_type": "stream",
     "text": [
      "[I 2024-03-02 23:26:01,859] Trial 91 finished with value: 2.62103125300025 and parameters: {'n_estimators': 142, 'max_depth': 12, 'learning_rate': 0.0868477293038511, 'num_leaves': 32, 'min_child_samples': 14}. Best is trial 27 with value: 2.6129997219074994.\n",
      "C:\\Users\\taeho\\AppData\\Local\\Temp\\ipykernel_27840\\1874363896.py:15: FutureWarning: suggest_loguniform has been deprecated in v3.0.0. This feature will be removed in v6.0.0. See https://github.com/optuna/optuna/releases/tag/v3.0.0. Use suggest_float(..., log=True) instead.\n",
      "  'learning_rate': trial.suggest_loguniform('learning_rate', 0.01, 0.1),\n"
     ]
    },
    {
     "name": "stdout",
     "output_type": "stream",
     "text": [
      "[LightGBM] [Warning] Found whitespace in feature_names, replace with underlines\n",
      "[LightGBM] [Info] Auto-choosing col-wise multi-threading, the overhead of testing was 0.031213 seconds.\n",
      "You can set `force_col_wise=true` to remove the overhead.\n",
      "[LightGBM] [Info] Total Bins 5997\n",
      "[LightGBM] [Info] Number of data points in the train set: 201831, number of used features: 274\n",
      "[LightGBM] [Info] Start training from score 3.595914\n"
     ]
    },
    {
     "name": "stderr",
     "output_type": "stream",
     "text": [
      "[I 2024-03-02 23:26:05,355] Trial 92 finished with value: 2.617990603720462 and parameters: {'n_estimators': 142, 'max_depth': 12, 'learning_rate': 0.08694148860896203, 'num_leaves': 32, 'min_child_samples': 14}. Best is trial 27 with value: 2.6129997219074994.\n",
      "C:\\Users\\taeho\\AppData\\Local\\Temp\\ipykernel_27840\\1874363896.py:15: FutureWarning: suggest_loguniform has been deprecated in v3.0.0. This feature will be removed in v6.0.0. See https://github.com/optuna/optuna/releases/tag/v3.0.0. Use suggest_float(..., log=True) instead.\n",
      "  'learning_rate': trial.suggest_loguniform('learning_rate', 0.01, 0.1),\n"
     ]
    },
    {
     "name": "stdout",
     "output_type": "stream",
     "text": [
      "[LightGBM] [Warning] Found whitespace in feature_names, replace with underlines\n",
      "[LightGBM] [Info] Auto-choosing col-wise multi-threading, the overhead of testing was 0.030700 seconds.\n",
      "You can set `force_col_wise=true` to remove the overhead.\n",
      "[LightGBM] [Info] Total Bins 5995\n",
      "[LightGBM] [Info] Number of data points in the train set: 201831, number of used features: 273\n",
      "[LightGBM] [Info] Start training from score 3.595914\n",
      "[LightGBM] [Warning] No further splits with positive gain, best gain: -inf\n"
     ]
    },
    {
     "name": "stderr",
     "output_type": "stream",
     "text": [
      "[I 2024-03-02 23:26:08,515] Trial 93 finished with value: 2.6358917359992 and parameters: {'n_estimators': 142, 'max_depth': 10, 'learning_rate': 0.08553570527594312, 'num_leaves': 27, 'min_child_samples': 15}. Best is trial 27 with value: 2.6129997219074994.\n",
      "C:\\Users\\taeho\\AppData\\Local\\Temp\\ipykernel_27840\\1874363896.py:15: FutureWarning: suggest_loguniform has been deprecated in v3.0.0. This feature will be removed in v6.0.0. See https://github.com/optuna/optuna/releases/tag/v3.0.0. Use suggest_float(..., log=True) instead.\n",
      "  'learning_rate': trial.suggest_loguniform('learning_rate', 0.01, 0.1),\n"
     ]
    },
    {
     "name": "stdout",
     "output_type": "stream",
     "text": [
      "[LightGBM] [Warning] Found whitespace in feature_names, replace with underlines\n",
      "[LightGBM] [Info] Auto-choosing col-wise multi-threading, the overhead of testing was 0.027273 seconds.\n",
      "You can set `force_col_wise=true` to remove the overhead.\n",
      "[LightGBM] [Info] Total Bins 5997\n",
      "[LightGBM] [Info] Number of data points in the train set: 201831, number of used features: 274\n",
      "[LightGBM] [Info] Start training from score 3.595914\n"
     ]
    },
    {
     "name": "stderr",
     "output_type": "stream",
     "text": [
      "[I 2024-03-02 23:26:12,074] Trial 94 finished with value: 2.6336962626588214 and parameters: {'n_estimators': 140, 'max_depth': 12, 'learning_rate': 0.08968658691785979, 'num_leaves': 32, 'min_child_samples': 14}. Best is trial 27 with value: 2.6129997219074994.\n",
      "C:\\Users\\taeho\\AppData\\Local\\Temp\\ipykernel_27840\\1874363896.py:15: FutureWarning: suggest_loguniform has been deprecated in v3.0.0. This feature will be removed in v6.0.0. See https://github.com/optuna/optuna/releases/tag/v3.0.0. Use suggest_float(..., log=True) instead.\n",
      "  'learning_rate': trial.suggest_loguniform('learning_rate', 0.01, 0.1),\n"
     ]
    },
    {
     "name": "stdout",
     "output_type": "stream",
     "text": [
      "[LightGBM] [Warning] Found whitespace in feature_names, replace with underlines\n",
      "[LightGBM] [Info] Auto-choosing col-wise multi-threading, the overhead of testing was 0.029572 seconds.\n",
      "You can set `force_col_wise=true` to remove the overhead.\n",
      "[LightGBM] [Info] Total Bins 5981\n",
      "[LightGBM] [Info] Number of data points in the train set: 201831, number of used features: 266\n",
      "[LightGBM] [Info] Start training from score 3.595914\n",
      "[LightGBM] [Warning] No further splits with positive gain, best gain: -inf\n",
      "[LightGBM] [Warning] No further splits with positive gain, best gain: -inf\n",
      "[LightGBM] [Warning] No further splits with positive gain, best gain: -inf\n"
     ]
    },
    {
     "name": "stderr",
     "output_type": "stream",
     "text": [
      "[I 2024-03-02 23:26:15,782] Trial 95 finished with value: 2.6405432254330887 and parameters: {'n_estimators': 142, 'max_depth': 13, 'learning_rate': 0.09426252520006563, 'num_leaves': 38, 'min_child_samples': 20}. Best is trial 27 with value: 2.6129997219074994.\n",
      "C:\\Users\\taeho\\AppData\\Local\\Temp\\ipykernel_27840\\1874363896.py:15: FutureWarning: suggest_loguniform has been deprecated in v3.0.0. This feature will be removed in v6.0.0. See https://github.com/optuna/optuna/releases/tag/v3.0.0. Use suggest_float(..., log=True) instead.\n",
      "  'learning_rate': trial.suggest_loguniform('learning_rate', 0.01, 0.1),\n"
     ]
    },
    {
     "name": "stdout",
     "output_type": "stream",
     "text": [
      "[LightGBM] [Warning] Found whitespace in feature_names, replace with underlines\n",
      "[LightGBM] [Info] Auto-choosing col-wise multi-threading, the overhead of testing was 0.030852 seconds.\n",
      "You can set `force_col_wise=true` to remove the overhead.\n",
      "[LightGBM] [Info] Total Bins 5999\n",
      "[LightGBM] [Info] Number of data points in the train set: 201831, number of used features: 275\n",
      "[LightGBM] [Info] Start training from score 3.595914\n"
     ]
    },
    {
     "name": "stderr",
     "output_type": "stream",
     "text": [
      "[I 2024-03-02 23:26:18,726] Trial 96 finished with value: 2.673227750949734 and parameters: {'n_estimators': 138, 'max_depth': 9, 'learning_rate': 0.0991996479793278, 'num_leaves': 11, 'min_child_samples': 13}. Best is trial 27 with value: 2.6129997219074994.\n",
      "C:\\Users\\taeho\\AppData\\Local\\Temp\\ipykernel_27840\\1874363896.py:15: FutureWarning: suggest_loguniform has been deprecated in v3.0.0. This feature will be removed in v6.0.0. See https://github.com/optuna/optuna/releases/tag/v3.0.0. Use suggest_float(..., log=True) instead.\n",
      "  'learning_rate': trial.suggest_loguniform('learning_rate', 0.01, 0.1),\n"
     ]
    },
    {
     "name": "stdout",
     "output_type": "stream",
     "text": [
      "[LightGBM] [Warning] Found whitespace in feature_names, replace with underlines\n",
      "[LightGBM] [Info] Auto-choosing col-wise multi-threading, the overhead of testing was 0.030547 seconds.\n",
      "You can set `force_col_wise=true` to remove the overhead.\n",
      "[LightGBM] [Info] Total Bins 5987\n",
      "[LightGBM] [Info] Number of data points in the train set: 201831, number of used features: 269\n",
      "[LightGBM] [Info] Start training from score 3.595914\n",
      "[LightGBM] [Warning] No further splits with positive gain, best gain: -inf\n",
      "[LightGBM] [Warning] No further splits with positive gain, best gain: -inf\n",
      "[LightGBM] [Warning] No further splits with positive gain, best gain: -inf\n",
      "[LightGBM] [Warning] No further splits with positive gain, best gain: -inf\n",
      "[LightGBM] [Warning] No further splits with positive gain, best gain: -inf\n",
      "[LightGBM] [Warning] No further splits with positive gain, best gain: -inf\n",
      "[LightGBM] [Warning] No further splits with positive gain, best gain: -inf\n",
      "[LightGBM] [Warning] No further splits with positive gain, best gain: -inf\n",
      "[LightGBM] [Warning] No further splits with positive gain, best gain: -inf\n",
      "[LightGBM] [Warning] No further splits with positive gain, best gain: -inf\n"
     ]
    },
    {
     "name": "stderr",
     "output_type": "stream",
     "text": [
      "[I 2024-03-02 23:26:22,314] Trial 97 finished with value: 2.6278550995784022 and parameters: {'n_estimators': 145, 'max_depth': 10, 'learning_rate': 0.07661435417633244, 'num_leaves': 34, 'min_child_samples': 18}. Best is trial 27 with value: 2.6129997219074994.\n",
      "C:\\Users\\taeho\\AppData\\Local\\Temp\\ipykernel_27840\\1874363896.py:15: FutureWarning: suggest_loguniform has been deprecated in v3.0.0. This feature will be removed in v6.0.0. See https://github.com/optuna/optuna/releases/tag/v3.0.0. Use suggest_float(..., log=True) instead.\n",
      "  'learning_rate': trial.suggest_loguniform('learning_rate', 0.01, 0.1),\n"
     ]
    },
    {
     "name": "stdout",
     "output_type": "stream",
     "text": [
      "[LightGBM] [Warning] Found whitespace in feature_names, replace with underlines\n",
      "[LightGBM] [Info] Auto-choosing col-wise multi-threading, the overhead of testing was 0.030213 seconds.\n",
      "You can set `force_col_wise=true` to remove the overhead.\n",
      "[LightGBM] [Info] Total Bins 6009\n",
      "[LightGBM] [Info] Number of data points in the train set: 201831, number of used features: 280\n",
      "[LightGBM] [Info] Start training from score 3.595914\n",
      "[LightGBM] [Warning] No further splits with positive gain, best gain: -inf\n"
     ]
    },
    {
     "name": "stderr",
     "output_type": "stream",
     "text": [
      "[I 2024-03-02 23:26:25,900] Trial 98 finished with value: 2.6245806272027594 and parameters: {'n_estimators': 143, 'max_depth': 12, 'learning_rate': 0.08452411853233939, 'num_leaves': 30, 'min_child_samples': 12}. Best is trial 27 with value: 2.6129997219074994.\n",
      "C:\\Users\\taeho\\AppData\\Local\\Temp\\ipykernel_27840\\1874363896.py:15: FutureWarning: suggest_loguniform has been deprecated in v3.0.0. This feature will be removed in v6.0.0. See https://github.com/optuna/optuna/releases/tag/v3.0.0. Use suggest_float(..., log=True) instead.\n",
      "  'learning_rate': trial.suggest_loguniform('learning_rate', 0.01, 0.1),\n"
     ]
    },
    {
     "name": "stdout",
     "output_type": "stream",
     "text": [
      "[LightGBM] [Warning] Found whitespace in feature_names, replace with underlines\n",
      "[LightGBM] [Info] Auto-choosing col-wise multi-threading, the overhead of testing was 0.030025 seconds.\n",
      "You can set `force_col_wise=true` to remove the overhead.\n",
      "[LightGBM] [Info] Total Bins 5993\n",
      "[LightGBM] [Info] Number of data points in the train set: 201831, number of used features: 272\n",
      "[LightGBM] [Info] Start training from score 3.595914\n",
      "[LightGBM] [Warning] No further splits with positive gain, best gain: -inf\n",
      "[LightGBM] [Warning] No further splits with positive gain, best gain: -inf\n",
      "[LightGBM] [Warning] No further splits with positive gain, best gain: -inf\n",
      "[LightGBM] [Warning] No further splits with positive gain, best gain: -inf\n",
      "[LightGBM] [Warning] No further splits with positive gain, best gain: -inf\n",
      "[LightGBM] [Warning] No further splits with positive gain, best gain: -inf\n",
      "[LightGBM] [Warning] No further splits with positive gain, best gain: -inf\n",
      "[LightGBM] [Warning] No further splits with positive gain, best gain: -inf\n",
      "[LightGBM] [Warning] No further splits with positive gain, best gain: -inf\n",
      "[LightGBM] [Warning] No further splits with positive gain, best gain: -inf\n",
      "[LightGBM] [Warning] No further splits with positive gain, best gain: -inf\n",
      "[LightGBM] [Warning] No further splits with positive gain, best gain: -inf\n",
      "[LightGBM] [Warning] No further splits with positive gain, best gain: -inf\n",
      "[LightGBM] [Warning] No further splits with positive gain, best gain: -inf\n",
      "[LightGBM] [Warning] No further splits with positive gain, best gain: -inf\n",
      "[LightGBM] [Warning] No further splits with positive gain, best gain: -inf\n",
      "[LightGBM] [Warning] No further splits with positive gain, best gain: -inf\n",
      "[LightGBM] [Warning] No further splits with positive gain, best gain: -inf\n",
      "[LightGBM] [Warning] No further splits with positive gain, best gain: -inf\n",
      "[LightGBM] [Warning] No further splits with positive gain, best gain: -inf\n",
      "[LightGBM] [Warning] No further splits with positive gain, best gain: -inf\n",
      "[LightGBM] [Warning] No further splits with positive gain, best gain: -inf\n",
      "[LightGBM] [Warning] No further splits with positive gain, best gain: -inf\n",
      "[LightGBM] [Warning] No further splits with positive gain, best gain: -inf\n",
      "[LightGBM] [Warning] No further splits with positive gain, best gain: -inf\n",
      "[LightGBM] [Warning] No further splits with positive gain, best gain: -inf\n",
      "[LightGBM] [Warning] No further splits with positive gain, best gain: -inf\n",
      "[LightGBM] [Warning] No further splits with positive gain, best gain: -inf\n",
      "[LightGBM] [Warning] No further splits with positive gain, best gain: -inf\n",
      "[LightGBM] [Warning] No further splits with positive gain, best gain: -inf\n",
      "[LightGBM] [Warning] No further splits with positive gain, best gain: -inf\n",
      "[LightGBM] [Warning] No further splits with positive gain, best gain: -inf\n",
      "[LightGBM] [Warning] No further splits with positive gain, best gain: -inf\n",
      "[LightGBM] [Warning] No further splits with positive gain, best gain: -inf\n",
      "[LightGBM] [Warning] No further splits with positive gain, best gain: -inf\n",
      "[LightGBM] [Warning] No further splits with positive gain, best gain: -inf\n",
      "[LightGBM] [Warning] No further splits with positive gain, best gain: -inf\n",
      "[LightGBM] [Warning] No further splits with positive gain, best gain: -inf\n",
      "[LightGBM] [Warning] No further splits with positive gain, best gain: -inf\n"
     ]
    },
    {
     "name": "stderr",
     "output_type": "stream",
     "text": [
      "[I 2024-03-02 23:26:29,206] Trial 99 finished with value: 2.648202474494889 and parameters: {'n_estimators': 136, 'max_depth': 7, 'learning_rate': 0.09040301726265426, 'num_leaves': 39, 'min_child_samples': 16}. Best is trial 27 with value: 2.6129997219074994.\n"
     ]
    },
    {
     "name": "stdout",
     "output_type": "stream",
     "text": [
      "Best parameters: {'n_estimators': 146, 'max_depth': 18, 'learning_rate': 0.05629447251416819, 'num_leaves': 35, 'min_child_samples': 12}\n"
     ]
    },
    {
     "ename": "LightGBMError",
     "evalue": "Length of labels differs from the length of #data",
     "output_type": "error",
     "traceback": [
      "\u001b[1;31m---------------------------------------------------------------------------\u001b[0m",
      "\u001b[1;31mLightGBMError\u001b[0m                             Traceback (most recent call last)",
      "Cell \u001b[1;32mIn[41], line 46\u001b[0m\n\u001b[0;32m     43\u001b[0m best_model \u001b[38;5;241m=\u001b[39m LGBMRegressor(\u001b[38;5;241m*\u001b[39m\u001b[38;5;241m*\u001b[39mstudy\u001b[38;5;241m.\u001b[39mbest_params)\n\u001b[0;32m     45\u001b[0m \u001b[38;5;66;03m# 최적의 모델 학습\u001b[39;00m\n\u001b[1;32m---> 46\u001b[0m best_model\u001b[38;5;241m.\u001b[39mfit(x_train_fin, y_train)\n",
      "File \u001b[1;32m~\\anaconda3\\Lib\\site-packages\\lightgbm\\sklearn.py:1092\u001b[0m, in \u001b[0;36mLGBMRegressor.fit\u001b[1;34m(self, X, y, sample_weight, init_score, eval_set, eval_names, eval_sample_weight, eval_init_score, eval_metric, feature_name, categorical_feature, callbacks, init_model)\u001b[0m\n\u001b[0;32m   1075\u001b[0m \u001b[38;5;28;01mdef\u001b[39;00m \u001b[38;5;21mfit\u001b[39m(  \u001b[38;5;66;03m# type: ignore[override]\u001b[39;00m\n\u001b[0;32m   1076\u001b[0m     \u001b[38;5;28mself\u001b[39m,\n\u001b[0;32m   1077\u001b[0m     X: _LGBM_ScikitMatrixLike,\n\u001b[1;32m   (...)\u001b[0m\n\u001b[0;32m   1089\u001b[0m     init_model: Optional[Union[\u001b[38;5;28mstr\u001b[39m, Path, Booster, LGBMModel]] \u001b[38;5;241m=\u001b[39m \u001b[38;5;28;01mNone\u001b[39;00m\n\u001b[0;32m   1090\u001b[0m ) \u001b[38;5;241m-\u001b[39m\u001b[38;5;241m>\u001b[39m \u001b[38;5;124m\"\u001b[39m\u001b[38;5;124mLGBMRegressor\u001b[39m\u001b[38;5;124m\"\u001b[39m:\n\u001b[0;32m   1091\u001b[0m \u001b[38;5;250m    \u001b[39m\u001b[38;5;124;03m\"\"\"Docstring is inherited from the LGBMModel.\"\"\"\u001b[39;00m\n\u001b[1;32m-> 1092\u001b[0m     \u001b[38;5;28msuper\u001b[39m()\u001b[38;5;241m.\u001b[39mfit(\n\u001b[0;32m   1093\u001b[0m         X,\n\u001b[0;32m   1094\u001b[0m         y,\n\u001b[0;32m   1095\u001b[0m         sample_weight\u001b[38;5;241m=\u001b[39msample_weight,\n\u001b[0;32m   1096\u001b[0m         init_score\u001b[38;5;241m=\u001b[39minit_score,\n\u001b[0;32m   1097\u001b[0m         eval_set\u001b[38;5;241m=\u001b[39meval_set,\n\u001b[0;32m   1098\u001b[0m         eval_names\u001b[38;5;241m=\u001b[39meval_names,\n\u001b[0;32m   1099\u001b[0m         eval_sample_weight\u001b[38;5;241m=\u001b[39meval_sample_weight,\n\u001b[0;32m   1100\u001b[0m         eval_init_score\u001b[38;5;241m=\u001b[39meval_init_score,\n\u001b[0;32m   1101\u001b[0m         eval_metric\u001b[38;5;241m=\u001b[39meval_metric,\n\u001b[0;32m   1102\u001b[0m         feature_name\u001b[38;5;241m=\u001b[39mfeature_name,\n\u001b[0;32m   1103\u001b[0m         categorical_feature\u001b[38;5;241m=\u001b[39mcategorical_feature,\n\u001b[0;32m   1104\u001b[0m         callbacks\u001b[38;5;241m=\u001b[39mcallbacks,\n\u001b[0;32m   1105\u001b[0m         init_model\u001b[38;5;241m=\u001b[39minit_model\n\u001b[0;32m   1106\u001b[0m     )\n\u001b[0;32m   1107\u001b[0m     \u001b[38;5;28;01mreturn\u001b[39;00m \u001b[38;5;28mself\u001b[39m\n",
      "File \u001b[1;32m~\\anaconda3\\Lib\\site-packages\\lightgbm\\sklearn.py:885\u001b[0m, in \u001b[0;36mLGBMModel.fit\u001b[1;34m(self, X, y, sample_weight, init_score, group, eval_set, eval_names, eval_sample_weight, eval_class_weight, eval_init_score, eval_group, eval_metric, feature_name, categorical_feature, callbacks, init_model)\u001b[0m\n\u001b[0;32m    882\u001b[0m evals_result: _EvalResultDict \u001b[38;5;241m=\u001b[39m {}\n\u001b[0;32m    883\u001b[0m callbacks\u001b[38;5;241m.\u001b[39mappend(record_evaluation(evals_result))\n\u001b[1;32m--> 885\u001b[0m \u001b[38;5;28mself\u001b[39m\u001b[38;5;241m.\u001b[39m_Booster \u001b[38;5;241m=\u001b[39m train(\n\u001b[0;32m    886\u001b[0m     params\u001b[38;5;241m=\u001b[39mparams,\n\u001b[0;32m    887\u001b[0m     train_set\u001b[38;5;241m=\u001b[39mtrain_set,\n\u001b[0;32m    888\u001b[0m     num_boost_round\u001b[38;5;241m=\u001b[39m\u001b[38;5;28mself\u001b[39m\u001b[38;5;241m.\u001b[39mn_estimators,\n\u001b[0;32m    889\u001b[0m     valid_sets\u001b[38;5;241m=\u001b[39mvalid_sets,\n\u001b[0;32m    890\u001b[0m     valid_names\u001b[38;5;241m=\u001b[39meval_names,\n\u001b[0;32m    891\u001b[0m     feval\u001b[38;5;241m=\u001b[39meval_metrics_callable,  \u001b[38;5;66;03m# type: ignore[arg-type]\u001b[39;00m\n\u001b[0;32m    892\u001b[0m     init_model\u001b[38;5;241m=\u001b[39minit_model,\n\u001b[0;32m    893\u001b[0m     feature_name\u001b[38;5;241m=\u001b[39mfeature_name,\n\u001b[0;32m    894\u001b[0m     callbacks\u001b[38;5;241m=\u001b[39mcallbacks\n\u001b[0;32m    895\u001b[0m )\n\u001b[0;32m    897\u001b[0m \u001b[38;5;28mself\u001b[39m\u001b[38;5;241m.\u001b[39m_evals_result \u001b[38;5;241m=\u001b[39m evals_result\n\u001b[0;32m    898\u001b[0m \u001b[38;5;28mself\u001b[39m\u001b[38;5;241m.\u001b[39m_best_iteration \u001b[38;5;241m=\u001b[39m \u001b[38;5;28mself\u001b[39m\u001b[38;5;241m.\u001b[39m_Booster\u001b[38;5;241m.\u001b[39mbest_iteration\n",
      "File \u001b[1;32m~\\anaconda3\\Lib\\site-packages\\lightgbm\\engine.py:255\u001b[0m, in \u001b[0;36mtrain\u001b[1;34m(params, train_set, num_boost_round, valid_sets, valid_names, feval, init_model, feature_name, categorical_feature, keep_training_booster, callbacks)\u001b[0m\n\u001b[0;32m    253\u001b[0m \u001b[38;5;66;03m# construct booster\u001b[39;00m\n\u001b[0;32m    254\u001b[0m \u001b[38;5;28;01mtry\u001b[39;00m:\n\u001b[1;32m--> 255\u001b[0m     booster \u001b[38;5;241m=\u001b[39m Booster(params\u001b[38;5;241m=\u001b[39mparams, train_set\u001b[38;5;241m=\u001b[39mtrain_set)\n\u001b[0;32m    256\u001b[0m     \u001b[38;5;28;01mif\u001b[39;00m is_valid_contain_train:\n\u001b[0;32m    257\u001b[0m         booster\u001b[38;5;241m.\u001b[39mset_train_data_name(train_data_name)\n",
      "File \u001b[1;32m~\\anaconda3\\Lib\\site-packages\\lightgbm\\basic.py:3433\u001b[0m, in \u001b[0;36mBooster.__init__\u001b[1;34m(self, params, train_set, model_file, model_str)\u001b[0m\n\u001b[0;32m   3426\u001b[0m     \u001b[38;5;28mself\u001b[39m\u001b[38;5;241m.\u001b[39mset_network(\n\u001b[0;32m   3427\u001b[0m         machines\u001b[38;5;241m=\u001b[39mmachines,\n\u001b[0;32m   3428\u001b[0m         local_listen_port\u001b[38;5;241m=\u001b[39mparams[\u001b[38;5;124m\"\u001b[39m\u001b[38;5;124mlocal_listen_port\u001b[39m\u001b[38;5;124m\"\u001b[39m],\n\u001b[0;32m   3429\u001b[0m         listen_time_out\u001b[38;5;241m=\u001b[39mparams\u001b[38;5;241m.\u001b[39mget(\u001b[38;5;124m\"\u001b[39m\u001b[38;5;124mtime_out\u001b[39m\u001b[38;5;124m\"\u001b[39m, \u001b[38;5;241m120\u001b[39m),\n\u001b[0;32m   3430\u001b[0m         num_machines\u001b[38;5;241m=\u001b[39mparams[\u001b[38;5;124m\"\u001b[39m\u001b[38;5;124mnum_machines\u001b[39m\u001b[38;5;124m\"\u001b[39m]\n\u001b[0;32m   3431\u001b[0m     )\n\u001b[0;32m   3432\u001b[0m \u001b[38;5;66;03m# construct booster object\u001b[39;00m\n\u001b[1;32m-> 3433\u001b[0m train_set\u001b[38;5;241m.\u001b[39mconstruct()\n\u001b[0;32m   3434\u001b[0m \u001b[38;5;66;03m# copy the parameters from train_set\u001b[39;00m\n\u001b[0;32m   3435\u001b[0m params\u001b[38;5;241m.\u001b[39mupdate(train_set\u001b[38;5;241m.\u001b[39mget_params())\n",
      "File \u001b[1;32m~\\anaconda3\\Lib\\site-packages\\lightgbm\\basic.py:2462\u001b[0m, in \u001b[0;36mDataset.construct\u001b[1;34m(self)\u001b[0m\n\u001b[0;32m   2455\u001b[0m             \u001b[38;5;28mself\u001b[39m\u001b[38;5;241m.\u001b[39m_set_init_score_by_predictor(\n\u001b[0;32m   2456\u001b[0m                 predictor\u001b[38;5;241m=\u001b[39m\u001b[38;5;28mself\u001b[39m\u001b[38;5;241m.\u001b[39m_predictor,\n\u001b[0;32m   2457\u001b[0m                 data\u001b[38;5;241m=\u001b[39m\u001b[38;5;28mself\u001b[39m\u001b[38;5;241m.\u001b[39mdata,\n\u001b[0;32m   2458\u001b[0m                 used_indices\u001b[38;5;241m=\u001b[39mused_indices\n\u001b[0;32m   2459\u001b[0m             )\n\u001b[0;32m   2460\u001b[0m \u001b[38;5;28;01melse\u001b[39;00m:\n\u001b[0;32m   2461\u001b[0m     \u001b[38;5;66;03m# create train\u001b[39;00m\n\u001b[1;32m-> 2462\u001b[0m     \u001b[38;5;28mself\u001b[39m\u001b[38;5;241m.\u001b[39m_lazy_init(data\u001b[38;5;241m=\u001b[39m\u001b[38;5;28mself\u001b[39m\u001b[38;5;241m.\u001b[39mdata, label\u001b[38;5;241m=\u001b[39m\u001b[38;5;28mself\u001b[39m\u001b[38;5;241m.\u001b[39mlabel, reference\u001b[38;5;241m=\u001b[39m\u001b[38;5;28;01mNone\u001b[39;00m,\n\u001b[0;32m   2463\u001b[0m                     weight\u001b[38;5;241m=\u001b[39m\u001b[38;5;28mself\u001b[39m\u001b[38;5;241m.\u001b[39mweight, group\u001b[38;5;241m=\u001b[39m\u001b[38;5;28mself\u001b[39m\u001b[38;5;241m.\u001b[39mgroup,\n\u001b[0;32m   2464\u001b[0m                     init_score\u001b[38;5;241m=\u001b[39m\u001b[38;5;28mself\u001b[39m\u001b[38;5;241m.\u001b[39minit_score, predictor\u001b[38;5;241m=\u001b[39m\u001b[38;5;28mself\u001b[39m\u001b[38;5;241m.\u001b[39m_predictor,\n\u001b[0;32m   2465\u001b[0m                     feature_name\u001b[38;5;241m=\u001b[39m\u001b[38;5;28mself\u001b[39m\u001b[38;5;241m.\u001b[39mfeature_name, categorical_feature\u001b[38;5;241m=\u001b[39m\u001b[38;5;28mself\u001b[39m\u001b[38;5;241m.\u001b[39mcategorical_feature,\n\u001b[0;32m   2466\u001b[0m                     params\u001b[38;5;241m=\u001b[39m\u001b[38;5;28mself\u001b[39m\u001b[38;5;241m.\u001b[39mparams, position\u001b[38;5;241m=\u001b[39m\u001b[38;5;28mself\u001b[39m\u001b[38;5;241m.\u001b[39mposition)\n\u001b[0;32m   2467\u001b[0m \u001b[38;5;28;01mif\u001b[39;00m \u001b[38;5;28mself\u001b[39m\u001b[38;5;241m.\u001b[39mfree_raw_data:\n\u001b[0;32m   2468\u001b[0m     \u001b[38;5;28mself\u001b[39m\u001b[38;5;241m.\u001b[39mdata \u001b[38;5;241m=\u001b[39m \u001b[38;5;28;01mNone\u001b[39;00m\n",
      "File \u001b[1;32m~\\anaconda3\\Lib\\site-packages\\lightgbm\\basic.py:2101\u001b[0m, in \u001b[0;36mDataset._lazy_init\u001b[1;34m(self, data, label, reference, weight, group, init_score, predictor, feature_name, categorical_feature, params, position)\u001b[0m\n\u001b[0;32m   2099\u001b[0m         \u001b[38;5;28;01mraise\u001b[39;00m \u001b[38;5;167;01mTypeError\u001b[39;00m(\u001b[38;5;124mf\u001b[39m\u001b[38;5;124m'\u001b[39m\u001b[38;5;124mCannot initialize Dataset from \u001b[39m\u001b[38;5;132;01m{\u001b[39;00m\u001b[38;5;28mtype\u001b[39m(data)\u001b[38;5;241m.\u001b[39m\u001b[38;5;18m__name__\u001b[39m\u001b[38;5;132;01m}\u001b[39;00m\u001b[38;5;124m'\u001b[39m) \u001b[38;5;28;01mfrom\u001b[39;00m \u001b[38;5;21;01merr\u001b[39;00m\n\u001b[0;32m   2100\u001b[0m \u001b[38;5;28;01mif\u001b[39;00m label \u001b[38;5;129;01mis\u001b[39;00m \u001b[38;5;129;01mnot\u001b[39;00m \u001b[38;5;28;01mNone\u001b[39;00m:\n\u001b[1;32m-> 2101\u001b[0m     \u001b[38;5;28mself\u001b[39m\u001b[38;5;241m.\u001b[39mset_label(label)\n\u001b[0;32m   2102\u001b[0m \u001b[38;5;28;01mif\u001b[39;00m \u001b[38;5;28mself\u001b[39m\u001b[38;5;241m.\u001b[39mget_label() \u001b[38;5;129;01mis\u001b[39;00m \u001b[38;5;28;01mNone\u001b[39;00m:\n\u001b[0;32m   2103\u001b[0m     \u001b[38;5;28;01mraise\u001b[39;00m \u001b[38;5;167;01mValueError\u001b[39;00m(\u001b[38;5;124m\"\u001b[39m\u001b[38;5;124mLabel should not be None\u001b[39m\u001b[38;5;124m\"\u001b[39m)\n",
      "File \u001b[1;32m~\\anaconda3\\Lib\\site-packages\\lightgbm\\basic.py:2892\u001b[0m, in \u001b[0;36mDataset.set_label\u001b[1;34m(self, label)\u001b[0m\n\u001b[0;32m   2890\u001b[0m     \u001b[38;5;28;01melse\u001b[39;00m:\n\u001b[0;32m   2891\u001b[0m         label_array \u001b[38;5;241m=\u001b[39m _list_to_1d_numpy(label, dtype\u001b[38;5;241m=\u001b[39mnp\u001b[38;5;241m.\u001b[39mfloat32, name\u001b[38;5;241m=\u001b[39m\u001b[38;5;124m'\u001b[39m\u001b[38;5;124mlabel\u001b[39m\u001b[38;5;124m'\u001b[39m)\n\u001b[1;32m-> 2892\u001b[0m     \u001b[38;5;28mself\u001b[39m\u001b[38;5;241m.\u001b[39mset_field(\u001b[38;5;124m'\u001b[39m\u001b[38;5;124mlabel\u001b[39m\u001b[38;5;124m'\u001b[39m, label_array)\n\u001b[0;32m   2893\u001b[0m     \u001b[38;5;28mself\u001b[39m\u001b[38;5;241m.\u001b[39mlabel \u001b[38;5;241m=\u001b[39m \u001b[38;5;28mself\u001b[39m\u001b[38;5;241m.\u001b[39mget_field(\u001b[38;5;124m'\u001b[39m\u001b[38;5;124mlabel\u001b[39m\u001b[38;5;124m'\u001b[39m)  \u001b[38;5;66;03m# original values can be modified at cpp side\u001b[39;00m\n\u001b[0;32m   2894\u001b[0m \u001b[38;5;28;01mreturn\u001b[39;00m \u001b[38;5;28mself\u001b[39m\n",
      "File \u001b[1;32m~\\anaconda3\\Lib\\site-packages\\lightgbm\\basic.py:2682\u001b[0m, in \u001b[0;36mDataset.set_field\u001b[1;34m(self, field_name, data)\u001b[0m\n\u001b[0;32m   2680\u001b[0m \u001b[38;5;28;01mif\u001b[39;00m type_data \u001b[38;5;241m!=\u001b[39m _FIELD_TYPE_MAPPER[field_name]:\n\u001b[0;32m   2681\u001b[0m     \u001b[38;5;28;01mraise\u001b[39;00m \u001b[38;5;167;01mTypeError\u001b[39;00m(\u001b[38;5;124m\"\u001b[39m\u001b[38;5;124mInput type error for set_field\u001b[39m\u001b[38;5;124m\"\u001b[39m)\n\u001b[1;32m-> 2682\u001b[0m _safe_call(_LIB\u001b[38;5;241m.\u001b[39mLGBM_DatasetSetField(\n\u001b[0;32m   2683\u001b[0m     \u001b[38;5;28mself\u001b[39m\u001b[38;5;241m.\u001b[39m_handle,\n\u001b[0;32m   2684\u001b[0m     _c_str(field_name),\n\u001b[0;32m   2685\u001b[0m     ptr_data,\n\u001b[0;32m   2686\u001b[0m     ctypes\u001b[38;5;241m.\u001b[39mc_int(\u001b[38;5;28mlen\u001b[39m(data)),\n\u001b[0;32m   2687\u001b[0m     ctypes\u001b[38;5;241m.\u001b[39mc_int(type_data)))\n\u001b[0;32m   2688\u001b[0m \u001b[38;5;28mself\u001b[39m\u001b[38;5;241m.\u001b[39mversion \u001b[38;5;241m+\u001b[39m\u001b[38;5;241m=\u001b[39m \u001b[38;5;241m1\u001b[39m\n\u001b[0;32m   2689\u001b[0m \u001b[38;5;28;01mreturn\u001b[39;00m \u001b[38;5;28mself\u001b[39m\n",
      "File \u001b[1;32m~\\anaconda3\\Lib\\site-packages\\lightgbm\\basic.py:263\u001b[0m, in \u001b[0;36m_safe_call\u001b[1;34m(ret)\u001b[0m\n\u001b[0;32m    255\u001b[0m \u001b[38;5;250m\u001b[39m\u001b[38;5;124;03m\"\"\"Check the return value from C API call.\u001b[39;00m\n\u001b[0;32m    256\u001b[0m \n\u001b[0;32m    257\u001b[0m \u001b[38;5;124;03mParameters\u001b[39;00m\n\u001b[1;32m   (...)\u001b[0m\n\u001b[0;32m    260\u001b[0m \u001b[38;5;124;03m    The return value from C API calls.\u001b[39;00m\n\u001b[0;32m    261\u001b[0m \u001b[38;5;124;03m\"\"\"\u001b[39;00m\n\u001b[0;32m    262\u001b[0m \u001b[38;5;28;01mif\u001b[39;00m ret \u001b[38;5;241m!=\u001b[39m \u001b[38;5;241m0\u001b[39m:\n\u001b[1;32m--> 263\u001b[0m     \u001b[38;5;28;01mraise\u001b[39;00m LightGBMError(_LIB\u001b[38;5;241m.\u001b[39mLGBM_GetLastError()\u001b[38;5;241m.\u001b[39mdecode(\u001b[38;5;124m'\u001b[39m\u001b[38;5;124mutf-8\u001b[39m\u001b[38;5;124m'\u001b[39m))\n",
      "\u001b[1;31mLightGBMError\u001b[0m: Length of labels differs from the length of #data"
     ]
    }
   ],
   "source": [
    "import optuna\n",
    "from lightgbm import LGBMRegressor\n",
    "from sklearn.metrics import mean_squared_error\n",
    "from sklearn.model_selection import train_test_split\n",
    "\n",
    "# 데이터 분할\n",
    "X_train, X_valid, y_train, y_valid = train_test_split(x_train_fin, y_train, test_size=0.2, random_state=2024)\n",
    "\n",
    "# Objective 함수 정의\n",
    "def objective(trial):\n",
    "    params = {\n",
    "        'random_state': 2024,\n",
    "        'n_estimators': trial.suggest_int('n_estimators', 100, 150),\n",
    "        'max_depth': trial.suggest_int('max_depth', 5, 30),\n",
    "        'learning_rate': trial.suggest_loguniform('learning_rate', 0.01, 0.1),\n",
    "        'num_leaves': trial.suggest_int('num_leaves', 10, 50),\n",
    "        'min_child_samples': trial.suggest_int('min_child_samples', 5, 50),\n",
    "       \n",
    "    }\n",
    "    \n",
    "    # LGBMRegressor 모델 정의\n",
    "    model = LGBMRegressor(**params)\n",
    "    \n",
    "    # 모델 학습\n",
    "    model.fit(X_train, y_train)\n",
    "    \n",
    "    # Validation 데이터에 대한 예측\n",
    "    y_pred_valid = model.predict(X_valid)\n",
    "    \n",
    "    # Validation 데이터에 대한 RMSE 계산\n",
    "    rmse = mean_squared_error(y_valid, y_pred_valid, squared=False)\n",
    "    \n",
    "    return rmse\n",
    "\n",
    "# Study 객체 생성 및 실행\n",
    "study = optuna.create_study(direction='minimize')\n",
    "study.optimize(objective, n_trials=100)\n",
    "\n",
    "# 최적의 하이퍼파라미터 출력\n",
    "print(\"Best parameters:\", study.best_params)\n",
    "\n",
    "# 최적의 모델\n",
    "best_model = LGBMRegressor(**study.best_params)\n",
    "\n",
    "# 최적의 모델 학습\n",
    "best_model.fit(x_train_fin, y_train)\n"
   ]
  },
  {
   "cell_type": "code",
   "execution_count": 60,
   "id": "3e54df71",
   "metadata": {},
   "outputs": [
    {
     "name": "stdout",
     "output_type": "stream",
     "text": [
      "[LightGBM] [Warning] Found whitespace in feature_names, replace with underlines\n",
      "[LightGBM] [Info] Auto-choosing col-wise multi-threading, the overhead of testing was 0.034371 seconds.\n",
      "You can set `force_col_wise=true` to remove the overhead.\n",
      "[LightGBM] [Info] Total Bins 6026\n",
      "[LightGBM] [Info] Number of data points in the train set: 252289, number of used features: 285\n",
      "[LightGBM] [Info] Start training from score 3.592626\n"
     ]
    },
    {
     "data": {
      "text/html": [
       "<style>#sk-container-id-2 {color: black;}#sk-container-id-2 pre{padding: 0;}#sk-container-id-2 div.sk-toggleable {background-color: white;}#sk-container-id-2 label.sk-toggleable__label {cursor: pointer;display: block;width: 100%;margin-bottom: 0;padding: 0.3em;box-sizing: border-box;text-align: center;}#sk-container-id-2 label.sk-toggleable__label-arrow:before {content: \"▸\";float: left;margin-right: 0.25em;color: #696969;}#sk-container-id-2 label.sk-toggleable__label-arrow:hover:before {color: black;}#sk-container-id-2 div.sk-estimator:hover label.sk-toggleable__label-arrow:before {color: black;}#sk-container-id-2 div.sk-toggleable__content {max-height: 0;max-width: 0;overflow: hidden;text-align: left;background-color: #f0f8ff;}#sk-container-id-2 div.sk-toggleable__content pre {margin: 0.2em;color: black;border-radius: 0.25em;background-color: #f0f8ff;}#sk-container-id-2 input.sk-toggleable__control:checked~div.sk-toggleable__content {max-height: 200px;max-width: 100%;overflow: auto;}#sk-container-id-2 input.sk-toggleable__control:checked~label.sk-toggleable__label-arrow:before {content: \"▾\";}#sk-container-id-2 div.sk-estimator input.sk-toggleable__control:checked~label.sk-toggleable__label {background-color: #d4ebff;}#sk-container-id-2 div.sk-label input.sk-toggleable__control:checked~label.sk-toggleable__label {background-color: #d4ebff;}#sk-container-id-2 input.sk-hidden--visually {border: 0;clip: rect(1px 1px 1px 1px);clip: rect(1px, 1px, 1px, 1px);height: 1px;margin: -1px;overflow: hidden;padding: 0;position: absolute;width: 1px;}#sk-container-id-2 div.sk-estimator {font-family: monospace;background-color: #f0f8ff;border: 1px dotted black;border-radius: 0.25em;box-sizing: border-box;margin-bottom: 0.5em;}#sk-container-id-2 div.sk-estimator:hover {background-color: #d4ebff;}#sk-container-id-2 div.sk-parallel-item::after {content: \"\";width: 100%;border-bottom: 1px solid gray;flex-grow: 1;}#sk-container-id-2 div.sk-label:hover label.sk-toggleable__label {background-color: #d4ebff;}#sk-container-id-2 div.sk-serial::before {content: \"\";position: absolute;border-left: 1px solid gray;box-sizing: border-box;top: 0;bottom: 0;left: 50%;z-index: 0;}#sk-container-id-2 div.sk-serial {display: flex;flex-direction: column;align-items: center;background-color: white;padding-right: 0.2em;padding-left: 0.2em;position: relative;}#sk-container-id-2 div.sk-item {position: relative;z-index: 1;}#sk-container-id-2 div.sk-parallel {display: flex;align-items: stretch;justify-content: center;background-color: white;position: relative;}#sk-container-id-2 div.sk-item::before, #sk-container-id-2 div.sk-parallel-item::before {content: \"\";position: absolute;border-left: 1px solid gray;box-sizing: border-box;top: 0;bottom: 0;left: 50%;z-index: -1;}#sk-container-id-2 div.sk-parallel-item {display: flex;flex-direction: column;z-index: 1;position: relative;background-color: white;}#sk-container-id-2 div.sk-parallel-item:first-child::after {align-self: flex-end;width: 50%;}#sk-container-id-2 div.sk-parallel-item:last-child::after {align-self: flex-start;width: 50%;}#sk-container-id-2 div.sk-parallel-item:only-child::after {width: 0;}#sk-container-id-2 div.sk-dashed-wrapped {border: 1px dashed gray;margin: 0 0.4em 0.5em 0.4em;box-sizing: border-box;padding-bottom: 0.4em;background-color: white;}#sk-container-id-2 div.sk-label label {font-family: monospace;font-weight: bold;display: inline-block;line-height: 1.2em;}#sk-container-id-2 div.sk-label-container {text-align: center;}#sk-container-id-2 div.sk-container {/* jupyter's `normalize.less` sets `[hidden] { display: none; }` but bootstrap.min.css set `[hidden] { display: none !important; }` so we also need the `!important` here to be able to override the default hidden behavior on the sphinx rendered scikit-learn.org. See: https://github.com/scikit-learn/scikit-learn/issues/21755 */display: inline-block !important;position: relative;}#sk-container-id-2 div.sk-text-repr-fallback {display: none;}</style><div id=\"sk-container-id-2\" class=\"sk-top-container\"><div class=\"sk-text-repr-fallback\"><pre>LGBMRegressor(learning_rate=0.05629447251416819, max_depth=18,\n",
       "              min_child_samples=12, n_estimators=146, num_leaves=35)</pre><b>In a Jupyter environment, please rerun this cell to show the HTML representation or trust the notebook. <br />On GitHub, the HTML representation is unable to render, please try loading this page with nbviewer.org.</b></div><div class=\"sk-container\" hidden><div class=\"sk-item\"><div class=\"sk-estimator sk-toggleable\"><input class=\"sk-toggleable__control sk-hidden--visually\" id=\"sk-estimator-id-2\" type=\"checkbox\" checked><label for=\"sk-estimator-id-2\" class=\"sk-toggleable__label sk-toggleable__label-arrow\">LGBMRegressor</label><div class=\"sk-toggleable__content\"><pre>LGBMRegressor(learning_rate=0.05629447251416819, max_depth=18,\n",
       "              min_child_samples=12, n_estimators=146, num_leaves=35)</pre></div></div></div></div></div>"
      ],
      "text/plain": [
       "LGBMRegressor(learning_rate=0.05629447251416819, max_depth=18,\n",
       "              min_child_samples=12, n_estimators=146, num_leaves=35)"
      ]
     },
     "execution_count": 60,
     "metadata": {},
     "output_type": "execute_result"
    }
   ],
   "source": [
    "# 최적의 모델\n",
    "best_model = LGBMRegressor(**study.best_params)\n",
    "\n",
    "# 최적의 모델 학습\n",
    "best_model.fit(x_train_fin, y_train)\n"
   ]
  },
  {
   "cell_type": "code",
   "execution_count": 59,
   "id": "30e05935",
   "metadata": {},
   "outputs": [
    {
     "name": "stdout",
     "output_type": "stream",
     "text": [
      "x_train_fin shape: (252289, 340)\n",
      "y_train shape: (252289,)\n"
     ]
    }
   ],
   "source": [
    "print(\"x_train_fin shape:\", x_train_fin.shape)\n",
    "print(\"y_train shape:\", y_train.shape)\n"
   ]
  },
  {
   "cell_type": "code",
   "execution_count": 18,
   "id": "ad1f025f",
   "metadata": {},
   "outputs": [
    {
     "data": {
      "text/html": [
       "<style>#sk-container-id-1 {color: black;}#sk-container-id-1 pre{padding: 0;}#sk-container-id-1 div.sk-toggleable {background-color: white;}#sk-container-id-1 label.sk-toggleable__label {cursor: pointer;display: block;width: 100%;margin-bottom: 0;padding: 0.3em;box-sizing: border-box;text-align: center;}#sk-container-id-1 label.sk-toggleable__label-arrow:before {content: \"▸\";float: left;margin-right: 0.25em;color: #696969;}#sk-container-id-1 label.sk-toggleable__label-arrow:hover:before {color: black;}#sk-container-id-1 div.sk-estimator:hover label.sk-toggleable__label-arrow:before {color: black;}#sk-container-id-1 div.sk-toggleable__content {max-height: 0;max-width: 0;overflow: hidden;text-align: left;background-color: #f0f8ff;}#sk-container-id-1 div.sk-toggleable__content pre {margin: 0.2em;color: black;border-radius: 0.25em;background-color: #f0f8ff;}#sk-container-id-1 input.sk-toggleable__control:checked~div.sk-toggleable__content {max-height: 200px;max-width: 100%;overflow: auto;}#sk-container-id-1 input.sk-toggleable__control:checked~label.sk-toggleable__label-arrow:before {content: \"▾\";}#sk-container-id-1 div.sk-estimator input.sk-toggleable__control:checked~label.sk-toggleable__label {background-color: #d4ebff;}#sk-container-id-1 div.sk-label input.sk-toggleable__control:checked~label.sk-toggleable__label {background-color: #d4ebff;}#sk-container-id-1 input.sk-hidden--visually {border: 0;clip: rect(1px 1px 1px 1px);clip: rect(1px, 1px, 1px, 1px);height: 1px;margin: -1px;overflow: hidden;padding: 0;position: absolute;width: 1px;}#sk-container-id-1 div.sk-estimator {font-family: monospace;background-color: #f0f8ff;border: 1px dotted black;border-radius: 0.25em;box-sizing: border-box;margin-bottom: 0.5em;}#sk-container-id-1 div.sk-estimator:hover {background-color: #d4ebff;}#sk-container-id-1 div.sk-parallel-item::after {content: \"\";width: 100%;border-bottom: 1px solid gray;flex-grow: 1;}#sk-container-id-1 div.sk-label:hover label.sk-toggleable__label {background-color: #d4ebff;}#sk-container-id-1 div.sk-serial::before {content: \"\";position: absolute;border-left: 1px solid gray;box-sizing: border-box;top: 0;bottom: 0;left: 50%;z-index: 0;}#sk-container-id-1 div.sk-serial {display: flex;flex-direction: column;align-items: center;background-color: white;padding-right: 0.2em;padding-left: 0.2em;position: relative;}#sk-container-id-1 div.sk-item {position: relative;z-index: 1;}#sk-container-id-1 div.sk-parallel {display: flex;align-items: stretch;justify-content: center;background-color: white;position: relative;}#sk-container-id-1 div.sk-item::before, #sk-container-id-1 div.sk-parallel-item::before {content: \"\";position: absolute;border-left: 1px solid gray;box-sizing: border-box;top: 0;bottom: 0;left: 50%;z-index: -1;}#sk-container-id-1 div.sk-parallel-item {display: flex;flex-direction: column;z-index: 1;position: relative;background-color: white;}#sk-container-id-1 div.sk-parallel-item:first-child::after {align-self: flex-end;width: 50%;}#sk-container-id-1 div.sk-parallel-item:last-child::after {align-self: flex-start;width: 50%;}#sk-container-id-1 div.sk-parallel-item:only-child::after {width: 0;}#sk-container-id-1 div.sk-dashed-wrapped {border: 1px dashed gray;margin: 0 0.4em 0.5em 0.4em;box-sizing: border-box;padding-bottom: 0.4em;background-color: white;}#sk-container-id-1 div.sk-label label {font-family: monospace;font-weight: bold;display: inline-block;line-height: 1.2em;}#sk-container-id-1 div.sk-label-container {text-align: center;}#sk-container-id-1 div.sk-container {/* jupyter's `normalize.less` sets `[hidden] { display: none; }` but bootstrap.min.css set `[hidden] { display: none !important; }` so we also need the `!important` here to be able to override the default hidden behavior on the sphinx rendered scikit-learn.org. See: https://github.com/scikit-learn/scikit-learn/issues/21755 */display: inline-block !important;position: relative;}#sk-container-id-1 div.sk-text-repr-fallback {display: none;}</style><div id=\"sk-container-id-1\" class=\"sk-top-container\"><div class=\"sk-text-repr-fallback\"><pre>LGBMRegressor(learning_rate=0.09428703198602705, max_depth=13,\n",
       "              min_child_samples=15, n_estimators=137, num_leaves=46)</pre><b>In a Jupyter environment, please rerun this cell to show the HTML representation or trust the notebook. <br />On GitHub, the HTML representation is unable to render, please try loading this page with nbviewer.org.</b></div><div class=\"sk-container\" hidden><div class=\"sk-item\"><div class=\"sk-estimator sk-toggleable\"><input class=\"sk-toggleable__control sk-hidden--visually\" id=\"sk-estimator-id-1\" type=\"checkbox\" checked><label for=\"sk-estimator-id-1\" class=\"sk-toggleable__label sk-toggleable__label-arrow\">LGBMRegressor</label><div class=\"sk-toggleable__content\"><pre>LGBMRegressor(learning_rate=0.09428703198602705, max_depth=13,\n",
       "              min_child_samples=15, n_estimators=137, num_leaves=46)</pre></div></div></div></div></div>"
      ],
      "text/plain": [
       "LGBMRegressor(learning_rate=0.09428703198602705, max_depth=13,\n",
       "              min_child_samples=15, n_estimators=137, num_leaves=46)"
      ]
     },
     "execution_count": 18,
     "metadata": {},
     "output_type": "execute_result"
    }
   ],
   "source": [
    "best_model"
   ]
  },
  {
   "cell_type": "code",
   "execution_count": 61,
   "id": "71b0e508",
   "metadata": {},
   "outputs": [
    {
     "data": {
      "text/plain": [
       "0         17.0\n",
       "1          3.0\n",
       "2          1.0\n",
       "3          1.0\n",
       "4          1.0\n",
       "          ... \n",
       "252284     1.0\n",
       "252285     1.0\n",
       "252286     5.0\n",
       "252287     1.0\n",
       "252288     6.0\n",
       "Name: TARGET, Length: 252289, dtype: float64"
      ]
     },
     "execution_count": 61,
     "metadata": {},
     "output_type": "execute_result"
    }
   ],
   "source": [
    "y_train"
   ]
  },
  {
   "cell_type": "code",
   "execution_count": 62,
   "id": "d237de6c",
   "metadata": {},
   "outputs": [],
   "source": [
    "# 테스트 세트에 대한 예측 수행\n",
    "y_pred =best_model.predict(x_test_fin)"
   ]
  },
  {
   "cell_type": "code",
   "execution_count": 63,
   "id": "674d9926",
   "metadata": {},
   "outputs": [
    {
     "data": {
      "text/plain": [
       "array([25.15337853,  1.02746394,  2.88193502, ...,  2.70613185,\n",
       "        4.80124257,  1.01868783])"
      ]
     },
     "execution_count": 63,
     "metadata": {},
     "output_type": "execute_result"
    }
   ],
   "source": [
    "y_pred"
   ]
  },
  {
   "cell_type": "code",
   "execution_count": 64,
   "id": "37415b1e",
   "metadata": {},
   "outputs": [],
   "source": [
    "submit = pd.read_csv(\"sample_submission.csv\")"
   ]
  },
  {
   "cell_type": "code",
   "execution_count": 65,
   "id": "46676df5",
   "metadata": {},
   "outputs": [
    {
     "data": {
      "text/html": [
       "<div>\n",
       "<style scoped>\n",
       "    .dataframe tbody tr th:only-of-type {\n",
       "        vertical-align: middle;\n",
       "    }\n",
       "\n",
       "    .dataframe tbody tr th {\n",
       "        vertical-align: top;\n",
       "    }\n",
       "\n",
       "    .dataframe thead th {\n",
       "        text-align: right;\n",
       "    }\n",
       "</style>\n",
       "<table border=\"1\" class=\"dataframe\">\n",
       "  <thead>\n",
       "    <tr style=\"text-align: right;\">\n",
       "      <th></th>\n",
       "      <th>sessionID</th>\n",
       "      <th>TARGET</th>\n",
       "    </tr>\n",
       "  </thead>\n",
       "  <tbody>\n",
       "    <tr>\n",
       "      <th>0</th>\n",
       "      <td>SESSION_252289</td>\n",
       "      <td>25.153379</td>\n",
       "    </tr>\n",
       "    <tr>\n",
       "      <th>1</th>\n",
       "      <td>SESSION_252290</td>\n",
       "      <td>1.027464</td>\n",
       "    </tr>\n",
       "    <tr>\n",
       "      <th>2</th>\n",
       "      <td>SESSION_252291</td>\n",
       "      <td>2.881935</td>\n",
       "    </tr>\n",
       "    <tr>\n",
       "      <th>3</th>\n",
       "      <td>SESSION_252292</td>\n",
       "      <td>4.323917</td>\n",
       "    </tr>\n",
       "    <tr>\n",
       "      <th>4</th>\n",
       "      <td>SESSION_252293</td>\n",
       "      <td>10.938557</td>\n",
       "    </tr>\n",
       "    <tr>\n",
       "      <th>...</th>\n",
       "      <td>...</td>\n",
       "      <td>...</td>\n",
       "    </tr>\n",
       "    <tr>\n",
       "      <th>79781</th>\n",
       "      <td>SESSION_332070</td>\n",
       "      <td>1.029961</td>\n",
       "    </tr>\n",
       "    <tr>\n",
       "      <th>79782</th>\n",
       "      <td>SESSION_332071</td>\n",
       "      <td>1.018091</td>\n",
       "    </tr>\n",
       "    <tr>\n",
       "      <th>79783</th>\n",
       "      <td>SESSION_332072</td>\n",
       "      <td>2.706132</td>\n",
       "    </tr>\n",
       "    <tr>\n",
       "      <th>79784</th>\n",
       "      <td>SESSION_332073</td>\n",
       "      <td>4.801243</td>\n",
       "    </tr>\n",
       "    <tr>\n",
       "      <th>79785</th>\n",
       "      <td>SESSION_332074</td>\n",
       "      <td>1.018688</td>\n",
       "    </tr>\n",
       "  </tbody>\n",
       "</table>\n",
       "<p>79786 rows × 2 columns</p>\n",
       "</div>"
      ],
      "text/plain": [
       "            sessionID     TARGET\n",
       "0      SESSION_252289  25.153379\n",
       "1      SESSION_252290   1.027464\n",
       "2      SESSION_252291   2.881935\n",
       "3      SESSION_252292   4.323917\n",
       "4      SESSION_252293  10.938557\n",
       "...               ...        ...\n",
       "79781  SESSION_332070   1.029961\n",
       "79782  SESSION_332071   1.018091\n",
       "79783  SESSION_332072   2.706132\n",
       "79784  SESSION_332073   4.801243\n",
       "79785  SESSION_332074   1.018688\n",
       "\n",
       "[79786 rows x 2 columns]"
      ]
     },
     "execution_count": 65,
     "metadata": {},
     "output_type": "execute_result"
    }
   ],
   "source": [
    "submit['TARGET'] =y_pred\n",
    "submit"
   ]
  },
  {
   "cell_type": "code",
   "execution_count": 66,
   "id": "111867c9",
   "metadata": {},
   "outputs": [],
   "source": [
    "submit.to_csv('lgbm(optuna)1.csv', index=False)"
   ]
  },
  {
   "cell_type": "markdown",
   "id": "480f8cfb-2e15-4e1c-a98f-5881d71cbba8",
   "metadata": {},
   "source": [
    "## PCA"
   ]
  },
  {
   "cell_type": "code",
   "execution_count": 42,
   "id": "ad825714-1960-435b-8bf3-d49ec5ca641f",
   "metadata": {},
   "outputs": [
    {
     "data": {
      "text/plain": [
       "Text(0, 0.5, 'Explained variance (%)')"
      ]
     },
     "execution_count": 42,
     "metadata": {},
     "output_type": "execute_result"
    },
    {
     "data": {
      "image/png": "[encoded data removed]",
      "text/plain": [
       "<Figure size 640x480 with 1 Axes>"
      ]
     },
     "metadata": {},
     "output_type": "display_data"
    }
   ],
   "source": [
    "from sklearn.decomposition import PCA\n",
    "\n",
    "pca = PCA(n_components=None, random_state=375)\n",
    "\n",
    "pca.fit(x_train_fin)\n",
    "\n",
    "plt.plot(np.cumsum(pca.explained_variance_ratio_ * 100))\n",
    "plt.xlabel(\"Number of components (Dimensions)\")\n",
    "plt.ylabel(\"Explained variance (%)\")"
   ]
  },
  {
   "cell_type": "code",
   "execution_count": 106,
   "id": "94400929-3ae0-448d-af3f-2127d70899c8",
   "metadata": {},
   "outputs": [
    {
     "name": "stdout",
     "output_type": "stream",
     "text": [
      "Variables with missing values: ['transaction_sqrt']\n"
     ]
    }
   ],
   "source": [
    "missing_values_count = x_train_fin.isnull().sum()\n",
    "missing_variables = missing_values_count[missing_values_count > 0].index.tolist()\n",
    "print(\"Variables with missing values:\", missing_variables)\n"
   ]
  }
 ],
 "metadata": {
  "kernelspec": {
   "display_name": "Python 3 (ipykernel)",
   "language": "python",
   "name": "python3"
  },
  "language_info": {
   "codemirror_mode": {
    "name": "ipython",
    "version": 3
   },
   "file_extension": ".py",
   "mimetype": "text/x-python",
   "name": "python",
   "nbconvert_exporter": "python",
   "pygments_lexer": "ipython3",
   "version": "3.11.5"
  },
  "toc-autonumbering": false
 },
 "nbformat": 4,
 "nbformat_minor": 5
}
